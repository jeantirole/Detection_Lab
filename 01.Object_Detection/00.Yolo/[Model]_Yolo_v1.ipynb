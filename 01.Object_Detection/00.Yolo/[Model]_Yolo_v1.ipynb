{
 "cells": [
  {
   "cell_type": "code",
   "execution_count": 1,
   "metadata": {},
   "outputs": [],
   "source": [
    "import torch \n",
    "import torch.nn as nn"
   ]
  },
  {
   "cell_type": "code",
   "execution_count": 3,
   "metadata": {},
   "outputs": [],
   "source": [
    "#  image size (448,448,3) \n",
    "#  conv params (7, 64, 2, padding), (7, 64, 2, 3)\n",
    "#  max pooling 2x2-s-2"
   ]
  },
  {
   "cell_type": "code",
   "execution_count": 158,
   "metadata": {},
   "outputs": [],
   "source": [
    "dummy_data = torch.randn((2,3,448,448))"
   ]
  },
  {
   "cell_type": "code",
   "execution_count": 173,
   "metadata": {},
   "outputs": [
    {
     "data": {
      "text/plain": [
       "Linear(in_features=496, out_features=1470, bias=True)"
      ]
     },
     "execution_count": 173,
     "metadata": {},
     "output_type": "execute_result"
    }
   ],
   "source": [
    "'''\n",
    "S,B,C = split_size, num_boxes, num_classes\n",
    "\n",
    "지금 input 이미지 사이즈 448을 고려했을 때, \n",
    "\n",
    "S = 6 이어야지, 마지막 코드의 차원이 맞다 \n",
    "'''\n",
    "\n",
    "S,B,C = 7,2,20\n",
    "\n",
    "\n",
    "#--- 1 \n",
    "conv1 = torch.nn.Conv2d(in_channels=3, kernel_size=7 ,out_channels=64, stride=2, padding=3)\n",
    "max1  = torch.nn.MaxPool2d(2,2)\n",
    "\n",
    "#--- 2 \n",
    "conv2 = torch.nn.Conv2d(in_channels=64, kernel_size=3 ,out_channels=192, stride=1, padding=1)\n",
    "max2  = torch.nn.MaxPool2d(2,2)\n",
    "\n",
    "#--- 3\n",
    "conv3_1 = torch.nn.Conv2d( in_channels=192, kernel_size=1 ,out_channels=128, stride=1, padding=0)\n",
    "conv3_2 = torch.nn.Conv2d(in_channels=128, kernel_size=3 ,out_channels=256, stride=1, padding=1)\n",
    "conv3_3= torch.nn.Conv2d(in_channels=256, kernel_size=1 ,out_channels=256, stride=1, padding=0)\n",
    "conv3_4 = torch.nn.Conv2d(in_channels=256, kernel_size=3 ,out_channels=512, stride=1, padding=1)\n",
    "max3 = torch.nn.MaxPool2d(2,2)\n",
    "\n",
    "#--- 4 \n",
    "conv4_1 = torch.nn.Conv2d(in_channels=512, kernel_size=1 ,out_channels=256, stride=1, padding=0)\n",
    "conv4_2 = torch.nn.Conv2d(in_channels=256, kernel_size=3 ,out_channels=512, stride=1, padding=1)\n",
    "\n",
    "conv4_3 = torch.nn.Conv2d(in_channels=512, kernel_size=1 ,out_channels=256, stride=1, padding=0)\n",
    "conv4_4 = torch.nn.Conv2d(in_channels=256, kernel_size=3 ,out_channels=512, stride=1, padding=1)\n",
    "\n",
    "conv4_5 = torch.nn.Conv2d(in_channels=512, kernel_size=1 ,out_channels=256, stride=1, padding=0)\n",
    "conv4_6 = torch.nn.Conv2d(in_channels=256, kernel_size=3 ,out_channels=512, stride=1, padding=1)\n",
    "\n",
    "conv4_7 = torch.nn.Conv2d(in_channels=512, kernel_size=1 ,out_channels=256, stride=1, padding=0)\n",
    "conv4_8 = torch.nn.Conv2d(in_channels=256, kernel_size=3 ,out_channels=512, stride=1, padding=1)\n",
    "\n",
    "conv4_9 = torch.nn.Conv2d(in_channels=512 ,kernel_size=1 ,out_channels=512, stride=1, padding=0)\n",
    "conv4_10 = torch.nn.Conv2d(in_channels=512, kernel_size=3 ,out_channels=1024, stride=1, padding=1)\n",
    "max4 = torch.nn.MaxPool2d(2,2)\n",
    "\n",
    "#--- 5\n",
    "conv5_1 = torch.nn.Conv2d(in_channels=1024 , kernel_size=1 ,out_channels=512, stride=1, padding=0)\n",
    "conv5_2 = torch.nn.Conv2d(in_channels=512 , kernel_size=3 ,out_channels=1024, stride=1, padding=1)\n",
    "\n",
    "conv5_3 = torch.nn.Conv2d(in_channels=1024 , kernel_size=1 ,out_channels=512, stride=1, padding=0)\n",
    "conv5_4 = torch.nn.Conv2d(in_channels=512, kernel_size=3 ,out_channels=1024, stride=1, padding=1)\n",
    "\n",
    "conv5_5 = torch.nn.Conv2d(in_channels=1024, kernel_size=3 ,out_channels=1024, stride=1, padding=1)\n",
    "conv5_6 = torch.nn.Conv2d(in_channels=1024, kernel_size=3 ,out_channels=1024, stride=2, padding=1)\n",
    "\n",
    "#--- 6\n",
    "conv6_1 = torch.nn.Conv2d(in_channels=1024, kernel_size=3 ,out_channels=1024, stride=1, padding=1)\n",
    "conv6_2 = torch.nn.Conv2d(in_channels=1024, kernel_size=3 ,out_channels=1024, stride=1, padding=1)\n",
    "\n",
    "#--- flatten layers \n",
    "\n",
    "Flatten_1 = nn.Flatten()\n",
    "Lin_1 = nn.Linear(1024 * S * S,496)\n",
    "Dr_1 = nn.Dropout(0.0)\n",
    "Lr_1 = nn.LeakyReLU(0.1)\n",
    "Lin_2 = nn.Linear(496, S * S * (C+  (B*5) )) \n",
    "\n",
    "\n",
    "# flat1 = nn.Sequential( \n",
    "#     nn.Flatten(),\n",
    "#     nn.Linear(1024 * S * S, 496) )\n",
    "\n",
    "# flat2 = nn.Sequential(\n",
    "#     nn.Dropout(0.0),\n",
    "#     nn.LeakyReLU(0.1),\n",
    "#     nn.Linear(496, S * S * (C+B * 5)))\n",
    "\n",
    "Lin_2\n"
   ]
  },
  {
   "cell_type": "code",
   "execution_count": 174,
   "metadata": {},
   "outputs": [],
   "source": [
    "#----------------------------- exe \n",
    "# 1\n",
    "out1 = max1(conv1(dummy_data))\n",
    "\n",
    "# 2\n",
    "out2 = max2(conv2(out1))\n",
    "\n",
    "# 3\n",
    "out3 = max3(conv3_4(conv3_3(conv3_2(conv3_1(out2)))))\n",
    "\n",
    "# 4\n",
    "out4_1= conv4_2(conv4_1(out3))\n",
    "out4_2= conv4_4(conv4_3(out4_1))\n",
    "out4_3= conv4_6(conv4_5(out4_2))\n",
    "out4_4= conv4_8(conv4_7(out4_3))\n",
    "out4_5= conv4_10(conv4_9(out4_4))\n",
    "out4  = max4(out4_5)\n",
    "\n",
    "# 5 \n",
    "out5_1 = conv5_2(conv5_1(out4))\n",
    "out5_2 = conv5_4(conv5_3(out5_1))\n",
    "out5 = conv5_6(conv5_5(out5_2))\n",
    "\n",
    "# 6\n",
    "out6 = conv6_2(conv6_1(out5))\n",
    "\n",
    "# Flatten Layers\n",
    "o_1 = Flatten_1(out6)\n",
    "o_2 = Lin_1(o_1)\n",
    "o_2 = Dr_1(o_2)\n",
    "o_2 = Lr_1(o_2)\n",
    "o_3 = Lin_2(o_2)\n"
   ]
  },
  {
   "cell_type": "code",
   "execution_count": 175,
   "metadata": {},
   "outputs": [
    {
     "name": "stdout",
     "output_type": "stream",
     "text": [
      "torch.Size([2, 64, 112, 112])\n",
      "torch.Size([2, 192, 56, 56])\n",
      "torch.Size([2, 512, 28, 28])\n",
      "torch.Size([2, 1024, 14, 14])\n",
      "torch.Size([2, 1024, 7, 7])\n",
      "torch.Size([2, 1024, 7, 7])\n",
      "torch.Size([2, 1470])\n"
     ]
    }
   ],
   "source": [
    "print(out1.shape)\n",
    "print(out2.shape)\n",
    "print(out3.shape)\n",
    "print(out4.shape)\n",
    "print(out5.shape)\n",
    "print(out6.shape)\n",
    "print(o_3.shape)"
   ]
  },
  {
   "cell_type": "code",
   "execution_count": null,
   "metadata": {},
   "outputs": [],
   "source": []
  }
 ],
 "metadata": {
  "kernelspec": {
   "display_name": "8.tmp",
   "language": "python",
   "name": "python3"
  },
  "language_info": {
   "codemirror_mode": {
    "name": "ipython",
    "version": 3
   },
   "file_extension": ".py",
   "mimetype": "text/x-python",
   "name": "python",
   "nbconvert_exporter": "python",
   "pygments_lexer": "ipython3",
   "version": "3.8.17"
  }
 },
 "nbformat": 4,
 "nbformat_minor": 2
}
