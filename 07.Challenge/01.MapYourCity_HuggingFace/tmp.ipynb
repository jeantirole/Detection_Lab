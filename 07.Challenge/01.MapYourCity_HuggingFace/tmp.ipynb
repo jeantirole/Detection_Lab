{
 "cells": [
  {
   "cell_type": "code",
   "execution_count": 1,
   "metadata": {},
   "outputs": [
    {
     "name": "stdout",
     "output_type": "stream",
     "text": [
      "<__main__.MonostateSingleton object at 0x7f83cc536dc0>\n",
      "<__main__.MonostateSingleton object at 0x7f83cc93af70>\n",
      "{'a': 2, 'b': 2, 'c': 0}\n",
      "{'a': 2, 'b': 2, 'c': 0}\n"
     ]
    }
   ],
   "source": [
    "# Evaluation Metric\n",
    "class MonostateSingleton:\n",
    "    __shared_state = {}\n",
    "    def __init__(self):\n",
    "        self.__dict__ = self.__shared_state\n",
    "\n",
    "m1 = MonostateSingleton()\n",
    "m2 = MonostateSingleton()\n",
    "print(m1) # <__main__.MonostateSingleton object at 0x02C4B0E8>\n",
    "print(m2) # <__main__.MonostateSingleton object at 0x02C4B118>\n",
    "\n",
    "m1.a = 1\n",
    "m2.b = 2\n",
    "m2.c = 0\n",
    "m1.a += 1\n",
    "print(m1.__dict__) # {'a': 1, 'b': 2}\n",
    "print(m2.__dict__) # {'a': 1, 'b': 2}x03A6B340>"
   ]
  },
  {
   "cell_type": "code",
   "execution_count": 2,
   "metadata": {},
   "outputs": [],
   "source": [
    "m1.a += 1"
   ]
  },
  {
   "cell_type": "code",
   "execution_count": 3,
   "metadata": {},
   "outputs": [],
   "source": [
    "m1.a += 1"
   ]
  },
  {
   "cell_type": "code",
   "execution_count": 4,
   "metadata": {},
   "outputs": [
    {
     "data": {
      "text/plain": [
       "{'a': 4, 'b': 2, 'c': 0}"
      ]
     },
     "execution_count": 4,
     "metadata": {},
     "output_type": "execute_result"
    }
   ],
   "source": [
    "m1.__dict__"
   ]
  },
  {
   "cell_type": "code",
   "execution_count": 5,
   "metadata": {},
   "outputs": [],
   "source": [
    "m2.a += 3"
   ]
  },
  {
   "cell_type": "code",
   "execution_count": 6,
   "metadata": {},
   "outputs": [
    {
     "data": {
      "text/plain": [
       "{'a': 7, 'b': 2, 'c': 0}"
      ]
     },
     "execution_count": 6,
     "metadata": {},
     "output_type": "execute_result"
    }
   ],
   "source": [
    "m1.__dict__"
   ]
  },
  {
   "cell_type": "code",
   "execution_count": 7,
   "metadata": {},
   "outputs": [
    {
     "name": "stdout",
     "output_type": "stream",
     "text": [
      "0\n",
      "86\n",
      "172\n",
      "258\n",
      "344\n",
      "430\n",
      "516\n",
      "602\n",
      "688\n",
      "774\n",
      "860\n"
     ]
    }
   ],
   "source": [
    "total = 867\n",
    "for i in range(0,total):\n",
    "    #print(int(total * 0.1))\n",
    "    if i % int((total*0.1)) ==0:\n",
    "        print(i)"
   ]
  },
  {
   "cell_type": "code",
   "execution_count": 8,
   "metadata": {},
   "outputs": [
    {
     "name": "stdout",
     "output_type": "stream",
     "text": [
      "0.0\n",
      "1.0\n",
      "2.0\n",
      "3.0\n",
      "4.0\n",
      "0.0\n",
      "1.0\n",
      "2.000000000000001\n",
      "3.0\n",
      "4.0\n"
     ]
    }
   ],
   "source": [
    "#(progress*100) % 10 == 0:\n",
    "\n",
    "for i in range(0,10):\n",
    "    #print(i)\n",
    "    z = i * 0.01\n",
    "    #print(z)\n",
    "    print( (z * 100) % 5   )\n"
   ]
  },
  {
   "cell_type": "code",
   "execution_count": 9,
   "metadata": {},
   "outputs": [
    {
     "name": "stdout",
     "output_type": "stream",
     "text": [
      "__init__ method called but nothing is created\n",
      "None\n",
      "__init__ method called but nothing is created\n",
      "s와 s1은 서로 같은 인스턴스인가? ->  False\n",
      "s1 :  <__main__.LazyInstantiation object at 0x7f83c8425850>\n",
      "s2 :  <__main__.LazyInstantiation object at 0x7f83c8425850>\n",
      "instance already created: <__main__.LazyInstantiation object at 0x7f83c8425850>\n",
      "s3 :  <__main__.LazyInstantiation object at 0x7f83c8425850>\n"
     ]
    }
   ],
   "source": [
    "class LazyInstantiation:\n",
    "    _instance = None\n",
    "    _shared_data = {\"a\":0}\n",
    "    def __init__(self):\n",
    "        if not LazyInstantiation._instance:\n",
    "            print('__init__ method called but nothing is created')\n",
    "        else:\n",
    "            print('instance already created:', self.getInstance())\n",
    " \n",
    "    @classmethod\n",
    "    def getInstance(cls):\n",
    "        if not cls._instance:\n",
    "            cls._instance = LazyInstantiation()\n",
    "        return cls._instance\n",
    " \n",
    "    def data_update(self,v):\n",
    "        self._shared_data[\"a\"] += v\n",
    "\n",
    "        \n",
    "# __init__ method called but nothing is created\n",
    "s = LazyInstantiation()\n",
    "print(s._instance) # None\n",
    "# __init__ method called but nothing is created\n",
    "s1 = LazyInstantiation.getInstance()\n",
    "s2 = LazyInstantiation.getInstance()\n",
    "print('s와 s1은 서로 같은 인스턴스인가? -> ',s==s1) # True\n",
    "print('s1 : ',s1._instance) # <__main__.LazyInstantiation object at 0x03A6B340>\n",
    "print('s2 : ',s2._instance) # <__main__.LazyInstantiation object at 0x03A6B340>\n",
    " \n",
    "s3 = LazyInstantiation() # instance already created: <__main__.LazyInstantiation object at 0x03A6B340>\n",
    "print('s3 : ',s3._instance) #  <__main__.LazyInstantiation object at 0x03A6B340>"
   ]
  },
  {
   "cell_type": "code",
   "execution_count": 10,
   "metadata": {},
   "outputs": [],
   "source": [
    "s.data_update(3)"
   ]
  },
  {
   "cell_type": "code",
   "execution_count": 11,
   "metadata": {},
   "outputs": [
    {
     "data": {
      "text/plain": [
       "{'a': 3}"
      ]
     },
     "execution_count": 11,
     "metadata": {},
     "output_type": "execute_result"
    }
   ],
   "source": [
    "s._shared_data"
   ]
  },
  {
   "cell_type": "code",
   "execution_count": 12,
   "metadata": {},
   "outputs": [],
   "source": [
    "s.data_update(3)"
   ]
  },
  {
   "cell_type": "code",
   "execution_count": 13,
   "metadata": {},
   "outputs": [
    {
     "data": {
      "text/plain": [
       "{'a': 6}"
      ]
     },
     "execution_count": 13,
     "metadata": {},
     "output_type": "execute_result"
    }
   ],
   "source": [
    "s._shared_data"
   ]
  },
  {
   "cell_type": "code",
   "execution_count": 14,
   "metadata": {},
   "outputs": [
    {
     "data": {
      "text/plain": [
       "{'a': 6}"
      ]
     },
     "execution_count": 14,
     "metadata": {},
     "output_type": "execute_result"
    }
   ],
   "source": [
    "s3._shared_data"
   ]
  },
  {
   "cell_type": "code",
   "execution_count": 15,
   "metadata": {},
   "outputs": [],
   "source": [
    "s3.data_update(4)"
   ]
  },
  {
   "cell_type": "code",
   "execution_count": 16,
   "metadata": {},
   "outputs": [
    {
     "data": {
      "text/plain": [
       "{'a': 10}"
      ]
     },
     "execution_count": 16,
     "metadata": {},
     "output_type": "execute_result"
    }
   ],
   "source": [
    "s3._shared_data"
   ]
  },
  {
   "cell_type": "code",
   "execution_count": 17,
   "metadata": {},
   "outputs": [
    {
     "data": {
      "text/plain": [
       "10"
      ]
     },
     "execution_count": 17,
     "metadata": {},
     "output_type": "execute_result"
    }
   ],
   "source": [
    "s._shared_data['a']"
   ]
  },
  {
   "cell_type": "code",
   "execution_count": 18,
   "metadata": {},
   "outputs": [],
   "source": [
    "from multiprocessing import Process, Manager\n",
    "\n",
    "class Singleton:\n",
    "    _instance = None\n",
    "\n",
    "    def __init__(self, value):\n",
    "        if Singleton._instance is not None:\n",
    "            raise Exception(\"This is a singleton class!\")\n",
    "        self.value = value\n",
    "        Singleton._instance = self\n",
    "\n",
    "    @classmethod\n",
    "    def get_instance(cls):\n",
    "        if cls._instance is None:\n",
    "            raise Exception(\"Instance is not created yet!\")\n",
    "        return cls._instance\n",
    "\n",
    "def create_singleton(value, shared_dict):\n",
    "    singleton = Singleton(value)\n",
    "    shared_dict['singleton'] = singleton.value"
   ]
  },
  {
   "cell_type": "code",
   "execution_count": 19,
   "metadata": {},
   "outputs": [
    {
     "name": "stdout",
     "output_type": "stream",
     "text": [
      "Singleton value: 20\n"
     ]
    }
   ],
   "source": [
    "if __name__ == '__main__':\n",
    "    manager = Manager()\n",
    "    shared_dict = manager.dict()\n",
    "\n",
    "    p1 = Process(target=create_singleton, args=(10, shared_dict))\n",
    "    p2 = Process(target=create_singleton, args=(20, shared_dict))\n",
    "\n",
    "    p1.start()\n",
    "    p2.start()\n",
    "\n",
    "    p1.join()\n",
    "    p2.join()\n",
    "\n",
    "    print(\"Singleton value:\", shared_dict['singleton'])\n"
   ]
  },
  {
   "cell_type": "code",
   "execution_count": 21,
   "metadata": {},
   "outputs": [
    {
     "name": "stdout",
     "output_type": "stream",
     "text": [
      "True\n"
     ]
    }
   ],
   "source": [
    "import threading\n",
    "\n",
    "class Singleton:\n",
    "    _instance = None\n",
    "    _lock = threading.Lock()\n",
    "    _data = {\n",
    "        \"a\" :[]\n",
    "    }\n",
    "\n",
    "    def __new__(cls):\n",
    "        if cls._instance is None:\n",
    "            with cls._lock:\n",
    "                if cls._instance is None:\n",
    "                    cls._instance = super(Singleton, cls).__new__(cls)\n",
    "        return cls._instance\n",
    "\n",
    "# Example usage\n",
    "singleton1 = Singleton()\n",
    "singleton2 = Singleton()\n",
    "\n",
    "print(singleton1 is singleton2)  # This should print True, indicating both are the same instance\n"
   ]
  },
  {
   "cell_type": "code",
   "execution_count": 23,
   "metadata": {},
   "outputs": [],
   "source": [
    "singleton1._data['a'].append(10)"
   ]
  },
  {
   "cell_type": "code",
   "execution_count": 24,
   "metadata": {},
   "outputs": [],
   "source": [
    "singleton2._data['a'].append(10)"
   ]
  },
  {
   "cell_type": "code",
   "execution_count": 25,
   "metadata": {},
   "outputs": [
    {
     "data": {
      "text/plain": [
       "{'a': [10, 10]}"
      ]
     },
     "execution_count": 25,
     "metadata": {},
     "output_type": "execute_result"
    }
   ],
   "source": [
    "singleton2._data"
   ]
  },
  {
   "cell_type": "code",
   "execution_count": null,
   "metadata": {},
   "outputs": [],
   "source": []
  }
 ],
 "metadata": {
  "kernelspec": {
   "display_name": "mapv2",
   "language": "python",
   "name": "python3"
  },
  "language_info": {
   "codemirror_mode": {
    "name": "ipython",
    "version": 3
   },
   "file_extension": ".py",
   "mimetype": "text/x-python",
   "name": "python",
   "nbconvert_exporter": "python",
   "pygments_lexer": "ipython3",
   "version": "3.8.18"
  }
 },
 "nbformat": 4,
 "nbformat_minor": 2
}
