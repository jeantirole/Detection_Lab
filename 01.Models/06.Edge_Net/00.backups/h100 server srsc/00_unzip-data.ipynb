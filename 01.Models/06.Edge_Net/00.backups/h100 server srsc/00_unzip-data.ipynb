{
 "cells": [
  {
   "cell_type": "code",
   "execution_count": 1,
   "id": "6c6749bd-8f0e-4441-8cae-70eaadc6df87",
   "metadata": {},
   "outputs": [],
   "source": [
    "import shutil"
   ]
  },
  {
   "cell_type": "code",
   "execution_count": 2,
   "id": "480c7a90-a11e-49bb-bb07-6079607a952b",
   "metadata": {},
   "outputs": [],
   "source": [
    "root_dir = '/hdd1/ysyoon/datasets'\n",
    "zip_name = 'orsi-sod___base'\n",
    "file_name = f'{root_dir}/_zips/{zip_name}.zip'\n",
    "extract_dir = root_dir\n",
    "shutil.unpack_archive(file_name, extract_dir=extract_dir)"
   ]
  },
  {
   "cell_type": "code",
   "execution_count": null,
   "id": "882254b4-b2ea-486b-814f-57083e26b808",
   "metadata": {},
   "outputs": [],
   "source": []
  }
 ],
 "metadata": {
  "kernelspec": {
   "display_name": "Python 3 (ipykernel)",
   "language": "python",
   "name": "python3"
  },
  "language_info": {
   "codemirror_mode": {
    "name": "ipython",
    "version": 3
   },
   "file_extension": ".py",
   "mimetype": "text/x-python",
   "name": "python",
   "nbconvert_exporter": "python",
   "pygments_lexer": "ipython3",
   "version": "3.10.13"
  }
 },
 "nbformat": 4,
 "nbformat_minor": 5
}
