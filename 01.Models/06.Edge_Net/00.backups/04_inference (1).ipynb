{
 "cells": [
  {
   "cell_type": "markdown",
   "id": "be51b92e-ae27-478d-8d91-cc09cd8bb52c",
   "metadata": {},
   "source": [
    "## 1. Setup"
   ]
  },
  {
   "cell_type": "code",
   "execution_count": 1,
   "id": "9e84c171-f7d3-4e3c-a22a-ac071f9ddfc3",
   "metadata": {},
   "outputs": [
    {
     "name": "stderr",
     "output_type": "stream",
     "text": [
      "/usr/local/lib/python3.10/dist-packages/tqdm/auto.py:21: TqdmWarning: IProgress not found. Please update jupyter and ipywidgets. See https://ipywidgets.readthedocs.io/en/stable/user_install.html\n",
      "  from .autonotebook import tqdm as notebook_tqdm\n"
     ]
    }
   ],
   "source": [
    "import dsutils\n",
    "import numpy as np\n",
    "from glob import glob\n",
    "from PIL import Image\n",
    "from transformers import AutoModel, AutoImageProcessor"
   ]
  },
  {
   "cell_type": "code",
   "execution_count": null,
   "id": "5e5fd010-a04f-44e6-bfd7-cde4af43c91a",
   "metadata": {},
   "outputs": [],
   "source": [
    "DEVICE = 'cuda:6'\n",
    "\n",
    "ROOT_DIR = '/hdd1/ysyoon/datasets/'\n",
    "DATASET_NAMES = [\n",
    "    'aihub-landcover-satellite-all',\n",
    "    'aihub-satellite-object-cloud',\n",
    "    'eorssd',\n",
    "    'isaid',\n",
    "    'open-earth-map',\n",
    "    'orsi-sod'\n",
    "]"
   ]
  },
  {
   "cell_type": "markdown",
   "id": "368a81a8-171e-4b5c-a9f7-e4bb28215e3b",
   "metadata": {},
   "source": [
    "## 2. Build"
   ]
  },
  {
   "cell_type": "code",
   "execution_count": null,
   "id": "30c4e94f-57eb-49e9-8fa9-f584702c3a65",
   "metadata": {},
   "outputs": [],
   "source": [
    "model_name = '../ckpts/035000/'"
   ]
  },
  {
   "cell_type": "code",
   "execution_count": null,
   "id": "83378028-44a2-41a8-827c-e0baa656a3b8",
   "metadata": {},
   "outputs": [],
   "source": [
    "image_processor = AutoImageProcessor.from_pretrained(model_name, trust_remote_code=True)"
   ]
  },
  {
   "cell_type": "code",
   "execution_count": null,
   "id": "6a3ecd6f-d8f5-48ce-a500-eab72343bc09",
   "metadata": {},
   "outputs": [],
   "source": [
    "model_path = \"../ckpts/seg_edge_v1/segedge_082000\"\n",
    "model = AutoModel.from_pretrained(model_name, trust_remote_code=True)\n",
    "_ = model.eval().requires_grad_(False).to(DEVICE)"
   ]
  },
  {
   "cell_type": "code",
   "execution_count": null,
   "id": "6e6d0351-2e11-4966-8544-05bf0044b22b",
   "metadata": {},
   "outputs": [],
   "source": [
    "model_org = AutoModel.from_pretrained('/hdd1/ysyoon/models/seggpt_vit-large/', trust_remote_code=True)\n",
    "_ = model_org.eval().requires_grad_(False).to(DEVICE)"
   ]
  },
  {
   "cell_type": "markdown",
   "id": "d3bdaf71-076d-4f15-9e1d-ec273bfc436f",
   "metadata": {},
   "source": [
    "## 3. Inference"
   ]
  },
  {
   "cell_type": "code",
   "execution_count": null,
   "id": "982dcef0-e149-4ecd-b581-83f13fee0218",
   "metadata": {},
   "outputs": [],
   "source": [
    "dataset_name = DATASET_NAMES[3]\n",
    "dataset_name"
   ]
  },
  {
   "cell_type": "code",
   "execution_count": null,
   "id": "31b4e681-20cb-4c5e-998b-4d8ebaa414ec",
   "metadata": {},
   "outputs": [],
   "source": [
    "image_paths = sorted(glob(f'{ROOT_DIR}/{dataset_name}/post/valid/images/*scale-1-0*.png'))"
   ]
  },
  {
   "cell_type": "code",
   "execution_count": null,
   "id": "2c3720f7-d092-4029-80e0-706c371f6499",
   "metadata": {},
   "outputs": [],
   "source": [
    "prompt_idx = 4\n",
    "input_idx = 8\n",
    "\n",
    "prompt_image_path = image_paths[prompt_idx]\n",
    "prompt_label_path = prompt_image_path.replace('/images/', '/labels/')\n",
    "input_image_path = image_paths[input_idx]\n",
    "input_label_path = input_image_path.replace('/images/', '/labels/')\n",
    "\n",
    "prompt_image = Image.open(prompt_image_path)\n",
    "prompt_label = Image.open(prompt_label_path)\n",
    "input_image = Image.open(input_image_path)\n",
    "input_label = Image.open(input_label_path)"
   ]
  },
  {
   "cell_type": "code",
   "execution_count": null,
   "id": "91d01130-82ae-4e6b-a4c8-199bc26f13f6",
   "metadata": {},
   "outputs": [],
   "source": [
    "prompt_label = np.array(prompt_label)\n",
    "input_label = np.array(input_label)\n",
    "\n",
    "unique_classes = np.unique(prompt_label)\n",
    "unique_classes = unique_classes[unique_classes>0]\n",
    "\n",
    "c = np.random.choice(unique_classes)\n",
    "print('class: ', c)\n",
    "assert c > 0\n",
    "\n",
    "prompt_label = np.where(prompt_label==c, 1, 0)\n",
    "input_label = np.where(input_label==c, 1, 0)\n",
    "\n",
    "palette = [[0,0,0], [255,255,255]]\n",
    "prompt_label = dsutils.segmentation.visualize_label(prompt_label, palette)\n",
    "input_label = dsutils.segmentation.visualize_label(input_label, palette)"
   ]
  },
  {
   "cell_type": "code",
   "execution_count": null,
   "id": "81f767da-0679-4c05-8199-0fe5125ee7c0",
   "metadata": {},
   "outputs": [],
   "source": [
    "dsutils.image.concat_images_horizontal([prompt_image, prompt_label])"
   ]
  },
  {
   "cell_type": "code",
   "execution_count": null,
   "id": "061fa130-0dce-4f6c-9244-2f4f2ceb8702",
   "metadata": {},
   "outputs": [],
   "source": [
    "dsutils.image.concat_images_horizontal([input_image, input_label])"
   ]
  },
  {
   "cell_type": "code",
   "execution_count": null,
   "id": "35170f7c-6078-44f5-ae2a-b127f124b528",
   "metadata": {},
   "outputs": [],
   "source": [
    "# inputs = image_processor(prompt_image, prompt_label, prompt_image, prompt_label, return_tensors='pt')\n",
    "inputs = image_processor(prompt_image, prompt_label, input_image, input_label, return_tensors='pt')\n",
    "inputs['masks'] = image_processor.generate_mask(1)\n",
    "inputs = inputs.to(DEVICE)"
   ]
  },
  {
   "cell_type": "code",
   "execution_count": null,
   "id": "83091330-8cc1-4ea6-87fb-6de1eb04ddb6",
   "metadata": {},
   "outputs": [],
   "source": [
    "outputs = model(**inputs)\n",
    "pred = outputs.preds[0][:, 448:]\n",
    "pred = dsutils.image.tensor_to_image(pred).resize((512, 512))\n",
    "\n",
    "outputs_org = model_org(**inputs)\n",
    "pred_org = outputs_org.preds[0][:, 448:]\n",
    "pred_org = dsutils.image.tensor_to_image(pred_org).resize((512, 512))"
   ]
  },
  {
   "cell_type": "code",
   "execution_count": null,
   "id": "f28b7f98-32b8-4582-a4a0-f38ba7d98803",
   "metadata": {},
   "outputs": [],
   "source": [
    "# dsutils.image.concat_images_horizontal([prompt_label, pred, pred_org])\n",
    "dsutils.image.concat_images_horizontal([input_label, pred, pred_org])"
   ]
  },
  {
   "cell_type": "code",
   "execution_count": null,
   "id": "17b036c1-55b9-4f64-8247-ab385d9eac24",
   "metadata": {},
   "outputs": [],
   "source": []
  },
  {
   "cell_type": "code",
   "execution_count": null,
   "id": "a316f3bc-c673-4e56-997e-9d70ee6cce2c",
   "metadata": {},
   "outputs": [],
   "source": []
  }
 ],
 "metadata": {
  "kernelspec": {
   "display_name": "Python 3 (ipykernel)",
   "language": "python",
   "name": "python3"
  },
  "language_info": {
   "codemirror_mode": {
    "name": "ipython",
    "version": 3
   },
   "file_extension": ".py",
   "mimetype": "text/x-python",
   "name": "python",
   "nbconvert_exporter": "python",
   "pygments_lexer": "ipython3",
   "version": "3.10.13"
  }
 },
 "nbformat": 4,
 "nbformat_minor": 5
}
