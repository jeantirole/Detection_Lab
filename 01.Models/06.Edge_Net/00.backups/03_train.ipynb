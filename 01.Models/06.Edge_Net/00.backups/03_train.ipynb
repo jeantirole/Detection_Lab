{
 "cells": [
  {
   "cell_type": "markdown",
   "id": "37db2f55-b145-4550-a3ed-34c193ef6c48",
   "metadata": {},
   "source": [
    "## 1. Setup"
   ]
  },
  {
   "cell_type": "code",
   "execution_count": 1,
   "id": "aba7f37b-7180-430c-8617-746e48a72a63",
   "metadata": {},
   "outputs": [
    {
     "name": "stderr",
     "output_type": "stream",
     "text": [
      "/usr/local/lib/python3.10/dist-packages/tqdm/auto.py:21: TqdmWarning: IProgress not found. Please update jupyter and ipywidgets. See https://ipywidgets.readthedocs.io/en/stable/user_install.html\n",
      "  from .autonotebook import tqdm as notebook_tqdm\n"
     ]
    }
   ],
   "source": [
    "import torch\n",
    "import dsutils\n",
    "import easydict\n",
    "import numpy as np\n",
    "from glob import glob\n",
    "from tqdm import tqdm\n",
    "from PIL import Image\n",
    "import lightning as L\n",
    "import albumentations as A\n",
    "from transformers import AutoImageProcessor, AutoModel"
   ]
  },
  {
   "cell_type": "code",
   "execution_count": 2,
   "id": "188b64be-21c9-4b45-a8f4-00ff5d6a343d",
   "metadata": {},
   "outputs": [],
   "source": [
    "cfg = easydict.EasyDict(\n",
    "    model_name = '/hdd1/ysyoon/models/seggpt_vit-large/',\n",
    "    batch_size = 4,\n",
    "    num_training_steps = 100000\n",
    ")"
   ]
  },
  {
   "cell_type": "markdown",
   "id": "fe8beadd-3403-434e-80b7-e7ba17dd9277",
   "metadata": {},
   "source": [
    "## 2. Data"
   ]
  },
  {
   "cell_type": "code",
   "execution_count": 3,
   "id": "bf4f8e63-6e3c-44e2-80c1-952458375b49",
   "metadata": {},
   "outputs": [],
   "source": [
    "class Dataset(torch.utils.data.Dataset):\n",
    "    def __init__(self, root_dir, dataset_names, augment, image_processor):\n",
    "        self.root_dir = root_dir\n",
    "        self.dataset_names = dataset_names\n",
    "        self.augment = augment\n",
    "        self.image_processor = image_processor\n",
    "\n",
    "        self.num_datasets = len(self.dataset_names)\n",
    "        self.image_paths = [sorted(glob(f'{root_dir}/{dname}/post/train/images/*')) for dname in dataset_names]\n",
    "        self.num_images = [len(paths) for paths in self.image_paths]\n",
    "\n",
    "    def __len__(self):\n",
    "        return sum(self.num_images)\n",
    "\n",
    "    def __getitem__(self, idx):\n",
    "        ds_idx = np.random.randint(self.num_datasets)\n",
    "        image_paths = self.image_paths[ds_idx]\n",
    "        \n",
    "        while True:\n",
    "            image_path = image_paths[np.random.randint(self.num_images[ds_idx])]\n",
    "            label_path = image_path.replace('/images/', '/labels/')\n",
    "            \n",
    "            image = np.array(Image.open(image_path))\n",
    "            label = np.array(Image.open(label_path))\n",
    "\n",
    "            unique_classes = np.unique(label)\n",
    "            unique_classes = unique_classes[unique_classes>0]\n",
    "            if len(unique_classes) > 0:\n",
    "                break\n",
    "\n",
    "        aug1 = self.augment(image=image, mask=label)\n",
    "        image1, label1 = aug1['image'], aug1['mask']\n",
    "\n",
    "        aug2 = self.augment(image=image, mask=label)\n",
    "        image2, label2 = aug2['image'], aug2['mask']\n",
    "\n",
    "        c = np.random.choice(unique_classes)\n",
    "        label1 = np.where(label1==c, 1, 0)\n",
    "        label2 = np.where(label2==c, 1, 0)\n",
    "        \n",
    "        palette = [[0,0,0], [255,255,255]]\n",
    "        label1 = dsutils.segmentation.visualize_label(label1, palette)\n",
    "        label2 = dsutils.segmentation.visualize_label(label2, palette)\n",
    "        \n",
    "        return image1, label1, image2, label2\n",
    "\n",
    "    def collate_fn(self, batch):\n",
    "        prompt_images, prompt_labels, input_images, input_labels = zip(*batch)\n",
    "        batch = self.image_processor(prompt_images, prompt_labels, input_images, input_labels, return_tensors='pt')\n",
    "        batch['mask'] = self.image_processor.generate_mask(len(prompt_images))\n",
    "        return batch"
   ]
  },
  {
   "cell_type": "code",
   "execution_count": 4,
   "id": "70fdb9bd-bf3d-400c-af48-bb2e5b61b255",
   "metadata": {},
   "outputs": [],
   "source": [
    "augment = A.Compose([\n",
    "    A.HorizontalFlip(p=0.5),\n",
    "    A.VerticalFlip(p=0.5),\n",
    "    A.RandomRotate90(p=0.5),\n",
    "    A.ColorJitter(p=0.5),\n",
    "    A.GaussNoise(p=0.5),\n",
    "    A.Blur(p=0.5),\n",
    "])\n",
    "\n",
    "root_dir = '/hdd1/ysyoon/datasets/'\n",
    "dataset_names = [\n",
    "    'aihub-landcover-satellite-all',\n",
    "    'aihub-satellite-object-cloud',\n",
    "    'eorssd',\n",
    "    'isaid',\n",
    "    'open-earth-map',\n",
    "    'orsi-sod'\n",
    "]"
   ]
  },
  {
   "cell_type": "code",
   "execution_count": 5,
   "id": "508ae892-51bd-4eb8-abc2-8dcf6931ff39",
   "metadata": {},
   "outputs": [],
   "source": [
    "image_processor = AutoImageProcessor.from_pretrained(cfg.model_name, trust_remote_code=True)\n",
    "dataset = Dataset(root_dir, dataset_names, augment, image_processor)"
   ]
  },
  {
   "cell_type": "code",
   "execution_count": 6,
   "id": "77a994ef-736a-4d3a-afca-3fed06e1fa20",
   "metadata": {},
   "outputs": [],
   "source": [
    "dataloader = torch.utils.data.DataLoader(dataset, batch_size=cfg.batch_size, shuffle=True, collate_fn=dataset.collate_fn)"
   ]
  },
  {
   "cell_type": "code",
   "execution_count": 7,
   "id": "12deb9ce-6e8a-4718-b2d7-823b8fe6982a",
   "metadata": {},
   "outputs": [
    {
     "data": {
      "text/plain": [
       "{'images': torch.Size([4, 3, 896, 448]),\n",
       " 'labels': torch.Size([4, 3, 896, 448]),\n",
       " 'mask': torch.Size([4, 56, 28])}"
      ]
     },
     "execution_count": 7,
     "metadata": {},
     "output_type": "execute_result"
    }
   ],
   "source": [
    "batch = next(iter(dataloader))\n",
    "{k:v.shape for k,v in batch.items()}"
   ]
  },
  {
   "cell_type": "markdown",
   "id": "83f97180-ac2f-4ed4-8e45-a5e347a91199",
   "metadata": {},
   "source": [
    "## 3. Train"
   ]
  },
  {
   "cell_type": "code",
   "execution_count": 8,
   "id": "8d005488-da8e-44d6-bee7-0868c34ce1be",
   "metadata": {},
   "outputs": [],
   "source": [
    "model = AutoModel.from_pretrained(cfg.model_name, trust_remote_code=True)"
   ]
  },
  {
   "cell_type": "code",
   "execution_count": 9,
   "id": "a29b7b2d-3619-4d9a-afd5-8e480c461ecf",
   "metadata": {},
   "outputs": [],
   "source": [
    "optimizer = torch.optim.AdamW(model.parameters(), lr=1e-5)"
   ]
  },
  {
   "cell_type": "code",
   "execution_count": 10,
   "id": "bdcdcb5b-5dc8-45a2-ab03-86ff12816fca",
   "metadata": {},
   "outputs": [
    {
     "ename": "SyntaxError",
     "evalue": "invalid syntax (2993102005.py, line 10)",
     "output_type": "error",
     "traceback": [
      "\u001b[0;36m  Cell \u001b[0;32mIn[10], line 10\u001b[0;36m\u001b[0m\n\u001b[0;31m    batch = dsutils.\u001b[0m\n\u001b[0m                    ^\u001b[0m\n\u001b[0;31mSyntaxError\u001b[0m\u001b[0;31m:\u001b[0m invalid syntax\n"
     ]
    }
   ],
   "source": [
    "pbar = tqdm(range(1, cfg.num_training_steps+1))\n",
    "dataiter = iter(dataloader)\n",
    "for st in pbar:\n",
    "    try:\n",
    "        batch = next(dataiter)\n",
    "    except StopIteration:\n",
    "        dataiter = iter(dataloader)\n",
    "        batch = next(dataiter)\n",
    "\n",
    "    batch = dsutils."
   ]
  },
  {
   "cell_type": "code",
   "execution_count": 11,
   "id": "8d4e1dde-2cac-44ae-84e2-2d802eb3a3bd",
   "metadata": {},
   "outputs": [
    {
     "data": {
      "text/plain": [
       "{'images': tensor([[[[-0.5082, -0.5596, -0.4054,  ..., -0.3369, -0.2684, -0.2171],\n",
       "          [-0.6109, -0.5767, -0.5082,  ..., -0.3541, -0.3712, -0.4054],\n",
       "          [-0.6281, -0.6965, -0.6623,  ..., -0.3027, -0.4911, -0.5253],\n",
       "          ...,\n",
       "          [-1.2445, -1.1418, -0.9877,  ..., -0.5767, -0.4397, -0.3541],\n",
       "          [-0.9877, -0.8849, -0.7993,  ..., -0.7308, -0.5424, -0.4226],\n",
       "          [-0.7822, -0.6965, -0.6452,  ..., -0.7993, -0.5767, -0.4054]],\n",
       "\n",
       "         [[-0.3200, -0.3901, -0.4251,  ..., -0.2150, -0.2675, -0.2850],\n",
       "          [-0.3725, -0.4776, -0.5301,  ..., -0.2850, -0.3725, -0.4601],\n",
       "          [-0.5651, -0.5651, -0.6877,  ..., -0.2675, -0.4076, -0.5826],\n",
       "          ...,\n",
       "          [-1.1429, -1.0203, -0.8627,  ..., -0.5126, -0.3901, -0.3025],\n",
       "          [-0.8978, -0.7927, -0.6527,  ..., -0.6702, -0.4951, -0.3725],\n",
       "          [-0.6877, -0.6001, -0.5476,  ..., -0.7052, -0.5126, -0.3550]],\n",
       "\n",
       "         [[-0.4973, -0.4275, -0.4450,  ..., -0.3404, -0.3578, -0.3404],\n",
       "          [-0.5321, -0.6541, -0.5321,  ..., -0.3404, -0.4101, -0.5495],\n",
       "          [-0.5321, -0.6193, -0.7413,  ..., -0.4101, -0.3927, -0.5495],\n",
       "          ...,\n",
       "          [-1.0027, -0.8807, -0.7413,  ..., -0.5147, -0.3753, -0.2707],\n",
       "          [-0.7413, -0.6367, -0.5495,  ..., -0.6541, -0.4624, -0.3230],\n",
       "          [-0.5321, -0.4798, -0.4450,  ..., -0.7936, -0.5321, -0.3404]]],\n",
       "\n",
       "\n",
       "        [[[ 0.7419,  1.3584,  1.3413,  ...,  2.1633,  1.3070,  0.4508],\n",
       "          [ 0.0912,  0.6392,  1.3070,  ...,  1.5810,  1.2899,  1.5125],\n",
       "          [ 0.1597,  0.7419,  1.3755,  ...,  1.2214,  1.2899,  1.9235],\n",
       "          ...,\n",
       "          [-0.5253, -0.5938, -0.7822,  ...,  0.6906,  0.6221,  0.6392],\n",
       "          [-0.1143,  0.0056, -0.0458,  ...,  0.9646,  0.8447,  0.7419],\n",
       "          [ 0.1597,  0.3823,  0.4166,  ...,  1.1358,  0.9988,  0.8447]],\n",
       "\n",
       "         [[ 0.9230,  1.4657,  1.5182,  ...,  2.1485,  1.6933,  0.8179],\n",
       "          [ 0.1001,  0.8179,  1.3081,  ...,  1.8683,  1.7108,  1.9734],\n",
       "          [ 0.2227,  0.8179,  1.3782,  ...,  1.4657,  1.5007,  2.1660],\n",
       "          ...,\n",
       "          [-0.1975, -0.2500, -0.3550,  ...,  1.0805,  1.0805,  1.1506],\n",
       "          [ 0.3102,  0.4328,  0.4678,  ...,  1.2206,  1.1856,  1.1681],\n",
       "          [ 0.6078,  0.8354,  1.0105,  ...,  1.3606,  1.3081,  1.2731]],\n",
       "\n",
       "         [[ 1.1411,  1.4200,  1.5420,  ...,  2.3263,  1.8557,  1.1062],\n",
       "          [ 0.5136,  0.9842,  1.3154,  ...,  1.9254,  1.7685,  1.8905],\n",
       "          [ 0.6531,  1.1585,  1.4200,  ...,  1.8034,  1.7163,  2.2217],\n",
       "          ...,\n",
       "          [ 0.3568,  0.3568,  0.2522,  ...,  1.6117,  1.5942,  1.6117],\n",
       "          [ 0.7402,  0.8274,  0.8448,  ...,  1.4897,  1.4722,  1.4897],\n",
       "          [ 0.9494,  1.1411,  1.2631,  ...,  1.5071,  1.5245,  1.5420]]],\n",
       "\n",
       "\n",
       "        [[[-0.4739, -0.4397, -0.3883,  ...,  0.7762,  0.6734,  0.6221],\n",
       "          [-0.4739, -0.4568, -0.4397,  ...,  0.7762,  0.6906,  0.6392],\n",
       "          [-0.5082, -0.4911, -0.4911,  ...,  0.8104,  0.7248,  0.6734],\n",
       "          ...,\n",
       "          [-0.6109, -0.6109, -0.5938,  ...,  0.2282,  0.1939,  0.1768],\n",
       "          [-0.5938, -0.5767, -0.5424,  ...,  0.2111,  0.1939,  0.1768],\n",
       "          [-0.5767, -0.5596, -0.5253,  ...,  0.2111,  0.1939,  0.1768]],\n",
       "\n",
       "         [[-0.0924, -0.0924, -0.0924,  ...,  0.6779,  0.6779,  0.6779],\n",
       "          [-0.1099, -0.0924, -0.0924,  ...,  0.6604,  0.6604,  0.6604],\n",
       "          [-0.1099, -0.1099, -0.1099,  ...,  0.6078,  0.5903,  0.5728],\n",
       "          ...,\n",
       "          [-0.4776, -0.4776, -0.4776,  ...,  0.4153,  0.3627,  0.3102],\n",
       "          [-0.4776, -0.4601, -0.4426,  ...,  0.3978,  0.3277,  0.2752],\n",
       "          [-0.4601, -0.4426, -0.4076,  ...,  0.3978,  0.3102,  0.2577]],\n",
       "\n",
       "         [[ 0.0431,  0.0431,  0.0605,  ...,  0.9494,  0.9842,  1.0017],\n",
       "          [ 0.0082,  0.0256,  0.0431,  ...,  0.9319,  0.9668,  0.9668],\n",
       "          [-0.0441, -0.0267, -0.0092,  ...,  0.8971,  0.8971,  0.8797],\n",
       "          ...,\n",
       "          [-0.1138, -0.1138, -0.1138,  ...,  0.4439,  0.4265,  0.4091],\n",
       "          [-0.1138, -0.1138, -0.0964,  ...,  0.4788,  0.4614,  0.4439],\n",
       "          [-0.1138, -0.0964, -0.0964,  ...,  0.4962,  0.4788,  0.4614]]],\n",
       "\n",
       "\n",
       "        [[[ 0.0056, -0.0801, -0.3027,  ..., -0.7137, -0.7479, -0.7822],\n",
       "          [ 0.0056,  0.0227, -0.1486,  ..., -0.7650, -0.7650, -0.7479],\n",
       "          [-0.0287,  0.0398, -0.1314,  ..., -0.7822, -0.7822, -0.7822],\n",
       "          ...,\n",
       "          [ 0.2967,  0.2967,  0.2282,  ...,  0.1597,  0.1426,  0.0912],\n",
       "          [ 0.1597,  0.2282,  0.2967,  ...,  0.3481,  0.3652,  0.3309],\n",
       "          [ 0.0912,  0.1597,  0.2796,  ...,  0.3823,  0.4166,  0.3994]],\n",
       "\n",
       "         [[ 0.1001,  0.1176, -0.0749,  ..., -0.4426, -0.4601, -0.4601],\n",
       "          [ 0.1352,  0.2227,  0.0476,  ..., -0.4951, -0.4426, -0.4776],\n",
       "          [ 0.1877,  0.2052, -0.0049,  ..., -0.4776, -0.4776, -0.4776],\n",
       "          ...,\n",
       "          [ 0.6604,  0.6078,  0.5203,  ...,  0.3102,  0.2927,  0.2752],\n",
       "          [ 0.4328,  0.4853,  0.5378,  ...,  0.5203,  0.5203,  0.5203],\n",
       "          [ 0.3277,  0.4153,  0.5378,  ...,  0.5553,  0.5903,  0.5903]],\n",
       "\n",
       "         [[ 0.2871,  0.2871,  0.1476,  ..., -0.1835, -0.1835, -0.1661],\n",
       "          [ 0.3568,  0.4614,  0.3045,  ..., -0.2010, -0.1661, -0.1661],\n",
       "          [ 0.3045,  0.4265,  0.3045,  ..., -0.1661, -0.1661, -0.1661],\n",
       "          ...,\n",
       "          [ 0.6705,  0.6531,  0.5834,  ...,  0.5659,  0.5485,  0.5136],\n",
       "          [ 0.5485,  0.5834,  0.6008,  ...,  0.7228,  0.7576,  0.7576],\n",
       "          [ 0.4439,  0.4962,  0.6008,  ...,  0.7228,  0.8099,  0.8274]]]]), 'labels': tensor([[[[-2.1179, -2.1179, -2.1179,  ..., -2.1179, -2.1179, -2.1179],\n",
       "          [-2.1179, -2.1179, -2.1179,  ..., -2.1179, -2.1179, -2.1179],\n",
       "          [-2.1179, -2.1179, -2.1179,  ..., -2.1179, -2.1179, -2.1179],\n",
       "          ...,\n",
       "          [-2.1179, -2.1179, -2.1179,  ..., -2.1179, -2.1179, -2.1179],\n",
       "          [-2.1179, -2.1179, -2.1179,  ..., -2.1179, -2.1179, -2.1179],\n",
       "          [-2.1179, -2.1179, -2.1179,  ..., -2.1179, -2.1179, -2.1179]],\n",
       "\n",
       "         [[-2.0357, -2.0357, -2.0357,  ..., -2.0357, -2.0357, -2.0357],\n",
       "          [-2.0357, -2.0357, -2.0357,  ..., -2.0357, -2.0357, -2.0357],\n",
       "          [-2.0357, -2.0357, -2.0357,  ..., -2.0357, -2.0357, -2.0357],\n",
       "          ...,\n",
       "          [-2.0357, -2.0357, -2.0357,  ..., -2.0357, -2.0357, -2.0357],\n",
       "          [-2.0357, -2.0357, -2.0357,  ..., -2.0357, -2.0357, -2.0357],\n",
       "          [-2.0357, -2.0357, -2.0357,  ..., -2.0357, -2.0357, -2.0357]],\n",
       "\n",
       "         [[-1.8044, -1.8044, -1.8044,  ..., -1.8044, -1.8044, -1.8044],\n",
       "          [-1.8044, -1.8044, -1.8044,  ..., -1.8044, -1.8044, -1.8044],\n",
       "          [-1.8044, -1.8044, -1.8044,  ..., -1.8044, -1.8044, -1.8044],\n",
       "          ...,\n",
       "          [-1.8044, -1.8044, -1.8044,  ..., -1.8044, -1.8044, -1.8044],\n",
       "          [-1.8044, -1.8044, -1.8044,  ..., -1.8044, -1.8044, -1.8044],\n",
       "          [-1.8044, -1.8044, -1.8044,  ..., -1.8044, -1.8044, -1.8044]]],\n",
       "\n",
       "\n",
       "        [[[-2.1179, -2.1179, -2.1179,  ..., -2.1179, -2.1179, -2.1179],\n",
       "          [-2.1179, -2.1179, -2.1179,  ..., -2.1179, -2.1179, -2.1179],\n",
       "          [-2.1179, -2.1179, -2.1179,  ..., -2.1179, -2.1179, -2.1179],\n",
       "          ...,\n",
       "          [-2.1179, -2.1179, -2.1179,  ..., -2.1179, -2.1179, -2.1179],\n",
       "          [-2.1179, -2.1179, -2.1179,  ..., -2.1179, -2.1179, -2.1179],\n",
       "          [-2.1179, -2.1179, -2.1179,  ..., -2.1179, -2.1179, -2.1179]],\n",
       "\n",
       "         [[-2.0357, -2.0357, -2.0357,  ..., -2.0357, -2.0357, -2.0357],\n",
       "          [-2.0357, -2.0357, -2.0357,  ..., -2.0357, -2.0357, -2.0357],\n",
       "          [-2.0357, -2.0357, -2.0357,  ..., -2.0357, -2.0357, -2.0357],\n",
       "          ...,\n",
       "          [-2.0357, -2.0357, -2.0357,  ..., -2.0357, -2.0357, -2.0357],\n",
       "          [-2.0357, -2.0357, -2.0357,  ..., -2.0357, -2.0357, -2.0357],\n",
       "          [-2.0357, -2.0357, -2.0357,  ..., -2.0357, -2.0357, -2.0357]],\n",
       "\n",
       "         [[-1.8044, -1.8044, -1.8044,  ..., -1.8044, -1.8044, -1.8044],\n",
       "          [-1.8044, -1.8044, -1.8044,  ..., -1.8044, -1.8044, -1.8044],\n",
       "          [-1.8044, -1.8044, -1.8044,  ..., -1.8044, -1.8044, -1.8044],\n",
       "          ...,\n",
       "          [-1.8044, -1.8044, -1.8044,  ..., -1.8044, -1.8044, -1.8044],\n",
       "          [-1.8044, -1.8044, -1.8044,  ..., -1.8044, -1.8044, -1.8044],\n",
       "          [-1.8044, -1.8044, -1.8044,  ..., -1.8044, -1.8044, -1.8044]]],\n",
       "\n",
       "\n",
       "        [[[-2.1179, -2.1179, -2.1179,  ..., -2.1179, -2.1179, -2.1179],\n",
       "          [-2.1179, -2.1179, -2.1179,  ..., -2.1179, -2.1179, -2.1179],\n",
       "          [-2.1179, -2.1179, -2.1179,  ..., -2.1179, -2.1179, -2.1179],\n",
       "          ...,\n",
       "          [-2.1179, -2.1179, -2.1179,  ..., -2.1179, -2.1179, -2.1179],\n",
       "          [-2.1179, -2.1179, -2.1179,  ..., -2.1179, -2.1179, -2.1179],\n",
       "          [-2.1179, -2.1179, -2.1179,  ..., -2.1179, -2.1179, -2.1179]],\n",
       "\n",
       "         [[-2.0357, -2.0357, -2.0357,  ..., -2.0357, -2.0357, -2.0357],\n",
       "          [-2.0357, -2.0357, -2.0357,  ..., -2.0357, -2.0357, -2.0357],\n",
       "          [-2.0357, -2.0357, -2.0357,  ..., -2.0357, -2.0357, -2.0357],\n",
       "          ...,\n",
       "          [-2.0357, -2.0357, -2.0357,  ..., -2.0357, -2.0357, -2.0357],\n",
       "          [-2.0357, -2.0357, -2.0357,  ..., -2.0357, -2.0357, -2.0357],\n",
       "          [-2.0357, -2.0357, -2.0357,  ..., -2.0357, -2.0357, -2.0357]],\n",
       "\n",
       "         [[-1.8044, -1.8044, -1.8044,  ..., -1.8044, -1.8044, -1.8044],\n",
       "          [-1.8044, -1.8044, -1.8044,  ..., -1.8044, -1.8044, -1.8044],\n",
       "          [-1.8044, -1.8044, -1.8044,  ..., -1.8044, -1.8044, -1.8044],\n",
       "          ...,\n",
       "          [-1.8044, -1.8044, -1.8044,  ..., -1.8044, -1.8044, -1.8044],\n",
       "          [-1.8044, -1.8044, -1.8044,  ..., -1.8044, -1.8044, -1.8044],\n",
       "          [-1.8044, -1.8044, -1.8044,  ..., -1.8044, -1.8044, -1.8044]]],\n",
       "\n",
       "\n",
       "        [[[-2.1179, -2.1179, -2.1179,  ..., -2.1179, -2.1179, -2.1179],\n",
       "          [-2.1179, -2.1179, -2.1179,  ..., -2.1179, -2.1179, -2.1179],\n",
       "          [-2.1179, -2.1179, -2.1179,  ..., -2.1179, -2.1179, -2.1179],\n",
       "          ...,\n",
       "          [-2.1179, -2.1179, -2.1179,  ..., -2.1179, -2.1179, -2.1179],\n",
       "          [-2.1179, -2.1179, -2.1179,  ..., -2.1179, -2.1179, -2.1179],\n",
       "          [-2.1179, -2.1179, -2.1179,  ..., -2.1179, -2.1179, -2.1179]],\n",
       "\n",
       "         [[-2.0357, -2.0357, -2.0357,  ..., -2.0357, -2.0357, -2.0357],\n",
       "          [-2.0357, -2.0357, -2.0357,  ..., -2.0357, -2.0357, -2.0357],\n",
       "          [-2.0357, -2.0357, -2.0357,  ..., -2.0357, -2.0357, -2.0357],\n",
       "          ...,\n",
       "          [-2.0357, -2.0357, -2.0357,  ..., -2.0357, -2.0357, -2.0357],\n",
       "          [-2.0357, -2.0357, -2.0357,  ..., -2.0357, -2.0357, -2.0357],\n",
       "          [-2.0357, -2.0357, -2.0357,  ..., -2.0357, -2.0357, -2.0357]],\n",
       "\n",
       "         [[-1.8044, -1.8044, -1.8044,  ..., -1.8044, -1.8044, -1.8044],\n",
       "          [-1.8044, -1.8044, -1.8044,  ..., -1.8044, -1.8044, -1.8044],\n",
       "          [-1.8044, -1.8044, -1.8044,  ..., -1.8044, -1.8044, -1.8044],\n",
       "          ...,\n",
       "          [-1.8044, -1.8044, -1.8044,  ..., -1.8044, -1.8044, -1.8044],\n",
       "          [-1.8044, -1.8044, -1.8044,  ..., -1.8044, -1.8044, -1.8044],\n",
       "          [-1.8044, -1.8044, -1.8044,  ..., -1.8044, -1.8044, -1.8044]]]]), 'mask': tensor([[[0, 0, 0,  ..., 0, 0, 0],\n",
       "         [0, 0, 0,  ..., 0, 0, 0],\n",
       "         [0, 0, 0,  ..., 0, 0, 0],\n",
       "         ...,\n",
       "         [1, 1, 1,  ..., 1, 1, 1],\n",
       "         [1, 1, 1,  ..., 1, 1, 1],\n",
       "         [1, 1, 1,  ..., 1, 1, 1]],\n",
       "\n",
       "        [[0, 0, 0,  ..., 0, 0, 0],\n",
       "         [0, 0, 0,  ..., 0, 0, 0],\n",
       "         [0, 0, 0,  ..., 0, 0, 0],\n",
       "         ...,\n",
       "         [1, 1, 1,  ..., 1, 1, 1],\n",
       "         [1, 1, 1,  ..., 1, 1, 1],\n",
       "         [1, 1, 1,  ..., 1, 1, 1]],\n",
       "\n",
       "        [[0, 0, 0,  ..., 0, 0, 0],\n",
       "         [0, 0, 0,  ..., 0, 0, 0],\n",
       "         [0, 0, 0,  ..., 0, 0, 0],\n",
       "         ...,\n",
       "         [1, 1, 1,  ..., 1, 1, 1],\n",
       "         [1, 1, 1,  ..., 1, 1, 1],\n",
       "         [1, 1, 1,  ..., 1, 1, 1]],\n",
       "\n",
       "        [[0, 0, 0,  ..., 0, 0, 0],\n",
       "         [0, 0, 0,  ..., 0, 0, 0],\n",
       "         [0, 0, 0,  ..., 0, 0, 0],\n",
       "         ...,\n",
       "         [1, 1, 1,  ..., 1, 1, 1],\n",
       "         [1, 1, 1,  ..., 1, 1, 1],\n",
       "         [1, 1, 1,  ..., 1, 1, 1]]])}"
      ]
     },
     "execution_count": 11,
     "metadata": {},
     "output_type": "execute_result"
    }
   ],
   "source": [
    "batch.to()"
   ]
  },
  {
   "cell_type": "code",
   "execution_count": null,
   "id": "a5a0026d-5937-449b-96b4-09c529f48b63",
   "metadata": {},
   "outputs": [],
   "source": []
  },
  {
   "cell_type": "code",
   "execution_count": 12,
   "id": "08220904-993f-4d46-9efc-fc44e4562cc0",
   "metadata": {},
   "outputs": [
    {
     "ename": "TypeError",
     "evalue": "SegGPTModel.forward() got an unexpected keyword argument 'mask'",
     "output_type": "error",
     "traceback": [
      "\u001b[0;31m---------------------------------------------------------------------------\u001b[0m",
      "\u001b[0;31mTypeError\u001b[0m                                 Traceback (most recent call last)",
      "Cell \u001b[0;32mIn[12], line 1\u001b[0m\n\u001b[0;32m----> 1\u001b[0m outputs \u001b[38;5;241m=\u001b[39m \u001b[43mmodel\u001b[49m\u001b[43m(\u001b[49m\u001b[38;5;241;43m*\u001b[39;49m\u001b[38;5;241;43m*\u001b[39;49m\u001b[43mbatch\u001b[49m\u001b[43m)\u001b[49m\n",
      "File \u001b[0;32m/usr/local/lib/python3.10/dist-packages/torch/nn/modules/module.py:1518\u001b[0m, in \u001b[0;36mModule._wrapped_call_impl\u001b[0;34m(self, *args, **kwargs)\u001b[0m\n\u001b[1;32m   1516\u001b[0m     \u001b[38;5;28;01mreturn\u001b[39;00m \u001b[38;5;28mself\u001b[39m\u001b[38;5;241m.\u001b[39m_compiled_call_impl(\u001b[38;5;241m*\u001b[39margs, \u001b[38;5;241m*\u001b[39m\u001b[38;5;241m*\u001b[39mkwargs)  \u001b[38;5;66;03m# type: ignore[misc]\u001b[39;00m\n\u001b[1;32m   1517\u001b[0m \u001b[38;5;28;01melse\u001b[39;00m:\n\u001b[0;32m-> 1518\u001b[0m     \u001b[38;5;28;01mreturn\u001b[39;00m \u001b[38;5;28;43mself\u001b[39;49m\u001b[38;5;241;43m.\u001b[39;49m\u001b[43m_call_impl\u001b[49m\u001b[43m(\u001b[49m\u001b[38;5;241;43m*\u001b[39;49m\u001b[43margs\u001b[49m\u001b[43m,\u001b[49m\u001b[43m \u001b[49m\u001b[38;5;241;43m*\u001b[39;49m\u001b[38;5;241;43m*\u001b[39;49m\u001b[43mkwargs\u001b[49m\u001b[43m)\u001b[49m\n",
      "File \u001b[0;32m/usr/local/lib/python3.10/dist-packages/torch/nn/modules/module.py:1527\u001b[0m, in \u001b[0;36mModule._call_impl\u001b[0;34m(self, *args, **kwargs)\u001b[0m\n\u001b[1;32m   1522\u001b[0m \u001b[38;5;66;03m# If we don't have any hooks, we want to skip the rest of the logic in\u001b[39;00m\n\u001b[1;32m   1523\u001b[0m \u001b[38;5;66;03m# this function, and just call forward.\u001b[39;00m\n\u001b[1;32m   1524\u001b[0m \u001b[38;5;28;01mif\u001b[39;00m \u001b[38;5;129;01mnot\u001b[39;00m (\u001b[38;5;28mself\u001b[39m\u001b[38;5;241m.\u001b[39m_backward_hooks \u001b[38;5;129;01mor\u001b[39;00m \u001b[38;5;28mself\u001b[39m\u001b[38;5;241m.\u001b[39m_backward_pre_hooks \u001b[38;5;129;01mor\u001b[39;00m \u001b[38;5;28mself\u001b[39m\u001b[38;5;241m.\u001b[39m_forward_hooks \u001b[38;5;129;01mor\u001b[39;00m \u001b[38;5;28mself\u001b[39m\u001b[38;5;241m.\u001b[39m_forward_pre_hooks\n\u001b[1;32m   1525\u001b[0m         \u001b[38;5;129;01mor\u001b[39;00m _global_backward_pre_hooks \u001b[38;5;129;01mor\u001b[39;00m _global_backward_hooks\n\u001b[1;32m   1526\u001b[0m         \u001b[38;5;129;01mor\u001b[39;00m _global_forward_hooks \u001b[38;5;129;01mor\u001b[39;00m _global_forward_pre_hooks):\n\u001b[0;32m-> 1527\u001b[0m     \u001b[38;5;28;01mreturn\u001b[39;00m \u001b[43mforward_call\u001b[49m\u001b[43m(\u001b[49m\u001b[38;5;241;43m*\u001b[39;49m\u001b[43margs\u001b[49m\u001b[43m,\u001b[49m\u001b[43m \u001b[49m\u001b[38;5;241;43m*\u001b[39;49m\u001b[38;5;241;43m*\u001b[39;49m\u001b[43mkwargs\u001b[49m\u001b[43m)\u001b[49m\n\u001b[1;32m   1529\u001b[0m \u001b[38;5;28;01mtry\u001b[39;00m:\n\u001b[1;32m   1530\u001b[0m     result \u001b[38;5;241m=\u001b[39m \u001b[38;5;28;01mNone\u001b[39;00m\n",
      "\u001b[0;31mTypeError\u001b[0m: SegGPTModel.forward() got an unexpected keyword argument 'mask'"
     ]
    }
   ],
   "source": [
    "outputs = model(**batch)"
   ]
  },
  {
   "cell_type": "code",
   "execution_count": 13,
   "id": "cc26e292-0d80-491d-b06b-a855953f6755",
   "metadata": {},
   "outputs": [
    {
     "ename": "NameError",
     "evalue": "name 'outputs' is not defined",
     "output_type": "error",
     "traceback": [
      "\u001b[0;31m---------------------------------------------------------------------------\u001b[0m",
      "\u001b[0;31mNameError\u001b[0m                                 Traceback (most recent call last)",
      "Cell \u001b[0;32mIn[13], line 1\u001b[0m\n\u001b[0;32m----> 1\u001b[0m \u001b[43moutputs\u001b[49m\u001b[38;5;241m.\u001b[39mloss\n",
      "\u001b[0;31mNameError\u001b[0m: name 'outputs' is not defined"
     ]
    }
   ],
   "source": [
    "outputs.loss"
   ]
  }
 ],
 "metadata": {
  "kernelspec": {
   "display_name": "Python 3 (ipykernel)",
   "language": "python",
   "name": "python3"
  },
  "language_info": {
   "codemirror_mode": {
    "name": "ipython",
    "version": 3
   },
   "file_extension": ".py",
   "mimetype": "text/x-python",
   "name": "python",
   "nbconvert_exporter": "python",
   "pygments_lexer": "ipython3",
   "version": "3.10.13"
  }
 },
 "nbformat": 4,
 "nbformat_minor": 5
}
