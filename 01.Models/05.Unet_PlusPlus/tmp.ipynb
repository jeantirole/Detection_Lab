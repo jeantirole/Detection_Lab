{
 "cells": [
  {
   "cell_type": "code",
   "execution_count": 1,
   "metadata": {},
   "outputs": [],
   "source": [
    "%load_ext autoreload\n",
    "%autoreload 2\n",
    "\n",
    "import RS_utils\n",
    "import RS_dataset\n",
    "import RS_models\n",
    "\n",
    "import numpy as np \n",
    "from glob import glob\n",
    "import os\n",
    "import torch\n",
    "import matplotlib.pyplot as plt \n",
    "from torch.utils.data import DataLoader"
   ]
  },
  {
   "cell_type": "code",
   "execution_count": 2,
   "metadata": {},
   "outputs": [],
   "source": [
    "#-- data\n",
    "img_path = \"/mnt/hdd/eric/.tmp_ipy/15.Lab_Detection/01.Models/04.SAM_fine/0.data/01.512_imgs\"\n",
    "mask_path = \"/mnt/hdd/eric/.tmp_ipy/15.Lab_Detection/01.Models/04.SAM_fine/0.data/02.512_masks\"\n",
    "\n",
    "img_path_ship  = np.array(sorted(glob(os.path.join(img_path, \"*.png\"))) )\n",
    "mask_path_ship = np.array(sorted(glob(os.path.join(mask_path, \"*.png\"))) )\n",
    "\n",
    "aa = np.load(\"/mnt/hdd/eric/.tmp_ipy/15.Lab_Detection/05.Training/Segmentation/03.data_list/512_ships.npy\")\n",
    "\n",
    "selected_paths_img = img_path_ship[aa]\n",
    "selected_paths_mask  = mask_path_ship[aa]"
   ]
  },
  {
   "cell_type": "code",
   "execution_count": 3,
   "metadata": {},
   "outputs": [],
   "source": [
    "#-- args\n",
    "EXEC_VER = 24 \n",
    "BATCH_SIZE = 4\n",
    "DEVICE = \"cuda:0\"\n",
    "DEVICES = [0,1,2,3]\n",
    "RESUME = False\n",
    "SAVE_EPOCH = 20"
   ]
  },
  {
   "cell_type": "code",
   "execution_count": 4,
   "metadata": {},
   "outputs": [],
   "source": [
    "#-- category \n",
    "ISAID_CLASSES_SHIP = (\n",
    "    'background','ship','harbor' \n",
    "    )\n",
    "ISAID_PALETTE_SHIP = {\n",
    "    0: (0, 0, 0), \n",
    "    1: (0, 0, 63), \n",
    "    2: (0, 100, 155)}\n",
    "\n",
    "\n",
    "train_dataset = RS_dataset.Seg_RS_dataset_edge(img_dir=selected_paths_img, mask_dir=selected_paths_mask, image_resize = None, phase=\"train\",palette=ISAID_PALETTE_SHIP )\n",
    "dataloader  = DataLoader(train_dataset, batch_size=BATCH_SIZE, shuffle=True, collate_fn=train_dataset.collate_fn)"
   ]
  },
  {
   "cell_type": "code",
   "execution_count": 5,
   "metadata": {},
   "outputs": [],
   "source": [
    "label, label_edge  = train_dataset.__getitem__(15)"
   ]
  },
  {
   "cell_type": "code",
   "execution_count": 6,
   "metadata": {},
   "outputs": [
    {
     "data": {
      "text/plain": [
       "torch.Size([3, 256, 256])"
      ]
     },
     "execution_count": 6,
     "metadata": {},
     "output_type": "execute_result"
    }
   ],
   "source": [
    "label.shape"
   ]
  },
  {
   "cell_type": "code",
   "execution_count": 7,
   "metadata": {},
   "outputs": [
    {
     "data": {
      "text/plain": [
       "torch.Size([1, 256, 256])"
      ]
     },
     "execution_count": 7,
     "metadata": {},
     "output_type": "execute_result"
    }
   ],
   "source": [
    "label_edge.shape"
   ]
  },
  {
   "cell_type": "code",
   "execution_count": 8,
   "metadata": {},
   "outputs": [
    {
     "name": "stderr",
     "output_type": "stream",
     "text": [
      "Clipping input data to the valid range for imshow with RGB data ([0..1] for floats or [0..255] for integers).\n"
     ]
    },
    {
     "data": {
      "image/png": "[encoded data removed]",
      "text/plain": [
       "<Figure size 720x720 with 1 Axes>"
      ]
     },
     "metadata": {
      "needs_background": "light"
     },
     "output_type": "display_data"
    }
   ],
   "source": [
    "RS_utils.torch_display(label)"
   ]
  },
  {
   "cell_type": "code",
   "execution_count": 9,
   "metadata": {},
   "outputs": [],
   "source": [
    "# RS_utils.torch_display(label_edge)"
   ]
  },
  {
   "cell_type": "code",
   "execution_count": 10,
   "metadata": {},
   "outputs": [],
   "source": [
    "# import torch.nn as nn \n",
    "# criterion = nn.CrossEntropyLoss(reduction=\"mean\") "
   ]
  },
  {
   "cell_type": "code",
   "execution_count": 11,
   "metadata": {},
   "outputs": [],
   "source": [
    "# model = RS_models.Edge_Net()\n",
    "# out_ = model(label)"
   ]
  },
  {
   "cell_type": "code",
   "execution_count": 12,
   "metadata": {},
   "outputs": [],
   "source": [
    "# label_edge.shape"
   ]
  },
  {
   "cell_type": "code",
   "execution_count": 13,
   "metadata": {},
   "outputs": [
    {
     "name": "stdout",
     "output_type": "stream",
     "text": [
      "{'loss': '7.06075'}\n",
      "epoch : 0 , iter : 0 , total_iter : 388 , running_loss : 70.60745239257812\n",
      "{'loss': '10.07847'}\n",
      "{'loss': '11.75120'}\n",
      "{'loss': '4.89421'}\n",
      "{'loss': '7.63805'}\n",
      "{'loss': '2.94300'}\n",
      "{'loss': '5.73885'}\n",
      "{'loss': '8.13475'}\n",
      "{'loss': '1.45014'}\n",
      "{'loss': '11.23062'}\n",
      "{'loss': '12.41443'}\n",
      "{'loss': '1.52892'}\n",
      "{'loss': '17.00753'}\n",
      "{'loss': '10.05324'}\n",
      "{'loss': '1.54167'}\n",
      "{'loss': '7.22813'}\n",
      "{'loss': '5.40396'}\n",
      "{'loss': '18.16755'}\n",
      "{'loss': '8.64950'}\n",
      "{'loss': '8.08546'}\n",
      "{'loss': '5.83752'}\n",
      "{'loss': '9.69416'}\n",
      "{'loss': '3.60725'}\n",
      "{'loss': '1.54899'}\n",
      "{'loss': '7.62564'}\n",
      "{'loss': '1.53827'}\n",
      "{'loss': '3.26695'}\n",
      "{'loss': '1.90436'}\n",
      "{'loss': '9.36585'}\n",
      "{'loss': '8.11561'}\n",
      "{'loss': '9.77168'}\n",
      "{'loss': '4.11813'}\n",
      "{'loss': '4.97534'}\n",
      "{'loss': '0.87767'}\n",
      "{'loss': '4.75795'}\n",
      "{'loss': '4.41746'}\n",
      "{'loss': '4.33792'}\n",
      "{'loss': '11.14143'}\n",
      "{'loss': '4.44377'}\n",
      "{'loss': '15.69509'}\n",
      "{'loss': '2.51833'}\n",
      "{'loss': '6.14834'}\n",
      "{'loss': '10.19748'}\n",
      "{'loss': '5.56008'}\n",
      "{'loss': '8.71183'}\n",
      "{'loss': '11.17276'}\n",
      "{'loss': '6.03806'}\n",
      "{'loss': '3.59588'}\n",
      "{'loss': '4.94662'}\n",
      "{'loss': '2.84626'}\n",
      "{'loss': '10.52308'}\n",
      "{'loss': '4.12948'}\n",
      "{'loss': '9.91237'}\n",
      "{'loss': '5.21603'}\n",
      "{'loss': '4.79425'}\n",
      "{'loss': '0.72339'}\n",
      "{'loss': '4.22937'}\n",
      "{'loss': '16.65941'}\n",
      "{'loss': '6.80688'}\n",
      "{'loss': '9.12350'}\n",
      "{'loss': '2.80096'}\n"
     ]
    },
    {
     "ename": "KeyboardInterrupt",
     "evalue": "",
     "output_type": "error",
     "traceback": [
      "\u001b[0;31m---------------------------------------------------------------------------\u001b[0m",
      "\u001b[0;31mKeyboardInterrupt\u001b[0m                         Traceback (most recent call last)",
      "Cell \u001b[0;32mIn[13], line 18\u001b[0m\n\u001b[1;32m     14\u001b[0m epoch_running_loss \u001b[38;5;241m=\u001b[39m \u001b[38;5;241m0\u001b[39m \n\u001b[1;32m     16\u001b[0m \u001b[38;5;66;03m#tqdm_iterator = tqdm(data_loader[\"train\"], desc=f\"Epoch {epoch}\")\u001b[39;00m\n\u001b[0;32m---> 18\u001b[0m \u001b[38;5;28;01mfor\u001b[39;00m index, data \u001b[38;5;129;01min\u001b[39;00m \u001b[38;5;28menumerate\u001b[39m(dataloader):\n\u001b[1;32m     20\u001b[0m     masks, masks_edge \u001b[38;5;241m=\u001b[39m data\n\u001b[1;32m     22\u001b[0m     \u001b[38;5;66;03m#---\u001b[39;00m\n",
      "File \u001b[0;32m~/.conda/envs/8.tmp.copied/lib/python3.8/site-packages/torch/utils/data/dataloader.py:628\u001b[0m, in \u001b[0;36m_BaseDataLoaderIter.__next__\u001b[0;34m(self)\u001b[0m\n\u001b[1;32m    625\u001b[0m \u001b[38;5;28;01mif\u001b[39;00m \u001b[38;5;28mself\u001b[39m\u001b[38;5;241m.\u001b[39m_sampler_iter \u001b[38;5;129;01mis\u001b[39;00m \u001b[38;5;28;01mNone\u001b[39;00m:\n\u001b[1;32m    626\u001b[0m     \u001b[38;5;66;03m# TODO(https://github.com/pytorch/pytorch/issues/76750)\u001b[39;00m\n\u001b[1;32m    627\u001b[0m     \u001b[38;5;28mself\u001b[39m\u001b[38;5;241m.\u001b[39m_reset()  \u001b[38;5;66;03m# type: ignore[call-arg]\u001b[39;00m\n\u001b[0;32m--> 628\u001b[0m data \u001b[38;5;241m=\u001b[39m \u001b[38;5;28;43mself\u001b[39;49m\u001b[38;5;241;43m.\u001b[39;49m\u001b[43m_next_data\u001b[49m\u001b[43m(\u001b[49m\u001b[43m)\u001b[49m\n\u001b[1;32m    629\u001b[0m \u001b[38;5;28mself\u001b[39m\u001b[38;5;241m.\u001b[39m_num_yielded \u001b[38;5;241m+\u001b[39m\u001b[38;5;241m=\u001b[39m \u001b[38;5;241m1\u001b[39m\n\u001b[1;32m    630\u001b[0m \u001b[38;5;28;01mif\u001b[39;00m \u001b[38;5;28mself\u001b[39m\u001b[38;5;241m.\u001b[39m_dataset_kind \u001b[38;5;241m==\u001b[39m _DatasetKind\u001b[38;5;241m.\u001b[39mIterable \u001b[38;5;129;01mand\u001b[39;00m \\\n\u001b[1;32m    631\u001b[0m         \u001b[38;5;28mself\u001b[39m\u001b[38;5;241m.\u001b[39m_IterableDataset_len_called \u001b[38;5;129;01mis\u001b[39;00m \u001b[38;5;129;01mnot\u001b[39;00m \u001b[38;5;28;01mNone\u001b[39;00m \u001b[38;5;129;01mand\u001b[39;00m \\\n\u001b[1;32m    632\u001b[0m         \u001b[38;5;28mself\u001b[39m\u001b[38;5;241m.\u001b[39m_num_yielded \u001b[38;5;241m>\u001b[39m \u001b[38;5;28mself\u001b[39m\u001b[38;5;241m.\u001b[39m_IterableDataset_len_called:\n",
      "File \u001b[0;32m~/.conda/envs/8.tmp.copied/lib/python3.8/site-packages/torch/utils/data/dataloader.py:671\u001b[0m, in \u001b[0;36m_SingleProcessDataLoaderIter._next_data\u001b[0;34m(self)\u001b[0m\n\u001b[1;32m    669\u001b[0m \u001b[38;5;28;01mdef\u001b[39;00m \u001b[38;5;21m_next_data\u001b[39m(\u001b[38;5;28mself\u001b[39m):\n\u001b[1;32m    670\u001b[0m     index \u001b[38;5;241m=\u001b[39m \u001b[38;5;28mself\u001b[39m\u001b[38;5;241m.\u001b[39m_next_index()  \u001b[38;5;66;03m# may raise StopIteration\u001b[39;00m\n\u001b[0;32m--> 671\u001b[0m     data \u001b[38;5;241m=\u001b[39m \u001b[38;5;28;43mself\u001b[39;49m\u001b[38;5;241;43m.\u001b[39;49m\u001b[43m_dataset_fetcher\u001b[49m\u001b[38;5;241;43m.\u001b[39;49m\u001b[43mfetch\u001b[49m\u001b[43m(\u001b[49m\u001b[43mindex\u001b[49m\u001b[43m)\u001b[49m  \u001b[38;5;66;03m# may raise StopIteration\u001b[39;00m\n\u001b[1;32m    672\u001b[0m     \u001b[38;5;28;01mif\u001b[39;00m \u001b[38;5;28mself\u001b[39m\u001b[38;5;241m.\u001b[39m_pin_memory:\n\u001b[1;32m    673\u001b[0m         data \u001b[38;5;241m=\u001b[39m _utils\u001b[38;5;241m.\u001b[39mpin_memory\u001b[38;5;241m.\u001b[39mpin_memory(data, \u001b[38;5;28mself\u001b[39m\u001b[38;5;241m.\u001b[39m_pin_memory_device)\n",
      "File \u001b[0;32m~/.conda/envs/8.tmp.copied/lib/python3.8/site-packages/torch/utils/data/_utils/fetch.py:58\u001b[0m, in \u001b[0;36m_MapDatasetFetcher.fetch\u001b[0;34m(self, possibly_batched_index)\u001b[0m\n\u001b[1;32m     56\u001b[0m         data \u001b[38;5;241m=\u001b[39m \u001b[38;5;28mself\u001b[39m\u001b[38;5;241m.\u001b[39mdataset\u001b[38;5;241m.\u001b[39m__getitems__(possibly_batched_index)\n\u001b[1;32m     57\u001b[0m     \u001b[38;5;28;01melse\u001b[39;00m:\n\u001b[0;32m---> 58\u001b[0m         data \u001b[38;5;241m=\u001b[39m [\u001b[38;5;28mself\u001b[39m\u001b[38;5;241m.\u001b[39mdataset[idx] \u001b[38;5;28;01mfor\u001b[39;00m idx \u001b[38;5;129;01min\u001b[39;00m possibly_batched_index]\n\u001b[1;32m     59\u001b[0m \u001b[38;5;28;01melse\u001b[39;00m:\n\u001b[1;32m     60\u001b[0m     data \u001b[38;5;241m=\u001b[39m \u001b[38;5;28mself\u001b[39m\u001b[38;5;241m.\u001b[39mdataset[possibly_batched_index]\n",
      "File \u001b[0;32m~/.conda/envs/8.tmp.copied/lib/python3.8/site-packages/torch/utils/data/_utils/fetch.py:58\u001b[0m, in \u001b[0;36m<listcomp>\u001b[0;34m(.0)\u001b[0m\n\u001b[1;32m     56\u001b[0m         data \u001b[38;5;241m=\u001b[39m \u001b[38;5;28mself\u001b[39m\u001b[38;5;241m.\u001b[39mdataset\u001b[38;5;241m.\u001b[39m__getitems__(possibly_batched_index)\n\u001b[1;32m     57\u001b[0m     \u001b[38;5;28;01melse\u001b[39;00m:\n\u001b[0;32m---> 58\u001b[0m         data \u001b[38;5;241m=\u001b[39m [\u001b[38;5;28;43mself\u001b[39;49m\u001b[38;5;241;43m.\u001b[39;49m\u001b[43mdataset\u001b[49m\u001b[43m[\u001b[49m\u001b[43midx\u001b[49m\u001b[43m]\u001b[49m \u001b[38;5;28;01mfor\u001b[39;00m idx \u001b[38;5;129;01min\u001b[39;00m possibly_batched_index]\n\u001b[1;32m     59\u001b[0m \u001b[38;5;28;01melse\u001b[39;00m:\n\u001b[1;32m     60\u001b[0m     data \u001b[38;5;241m=\u001b[39m \u001b[38;5;28mself\u001b[39m\u001b[38;5;241m.\u001b[39mdataset[possibly_batched_index]\n",
      "File \u001b[0;32m~/.tmp_ipy/15.Lab_Detection/01.Models/06.Edge_Net/RS_dataset.py:455\u001b[0m, in \u001b[0;36mSeg_RS_dataset_edge.__getitem__\u001b[0;34m(self, index)\u001b[0m\n\u001b[1;32m    452\u001b[0m mask \u001b[38;5;241m=\u001b[39m \u001b[38;5;28mself\u001b[39m\u001b[38;5;241m.\u001b[39mconvert_to_target_(mask, \u001b[38;5;28mself\u001b[39m\u001b[38;5;241m.\u001b[39mIMAGE_SIZE)\n\u001b[1;32m    453\u001b[0m mask \u001b[38;5;241m=\u001b[39m torch\u001b[38;5;241m.\u001b[39mfrom_numpy(mask)\u001b[38;5;241m.\u001b[39mlong()\n\u001b[0;32m--> 455\u001b[0m mask_edge \u001b[38;5;241m=\u001b[39m \u001b[43mRS_utils\u001b[49m\u001b[38;5;241m.\u001b[39mlabel_to_edge(mask,\u001b[38;5;241m3\u001b[39m)\n\u001b[1;32m    456\u001b[0m mask_edge \u001b[38;5;241m=\u001b[39m torch\u001b[38;5;241m.\u001b[39mfrom_numpy(mask_edge)\u001b[38;5;241m.\u001b[39mlong()\n\u001b[1;32m    458\u001b[0m \u001b[38;5;66;03m#-----\u001b[39;00m\n",
      "\u001b[0;31mKeyboardInterrupt\u001b[0m: "
     ]
    },
    {
     "ename": "",
     "evalue": "",
     "output_type": "error",
     "traceback": [
      "\u001b[1;31mThe Kernel crashed while executing code in the current cell or a previous cell. \n",
      "\u001b[1;31mPlease review the code in the cell(s) to identify a possible cause of the failure. \n",
      "\u001b[1;31mClick <a href='https://aka.ms/vscodeJupyterKernelCrash'>here</a> for more info. \n",
      "\u001b[1;31mView Jupyter <a href='command:jupyter.viewOutput'>log</a> for further details."
     ]
    }
   ],
   "source": [
    "#---\n",
    "import torch.nn as nn \n",
    "\n",
    "model = RS_models.Edge_Net()\n",
    "model = model.to(DEVICE)\n",
    "criterion = nn.CrossEntropyLoss(reduction=\"mean\") \n",
    "optimizer = torch.optim.AdamW(model.parameters(), lr=1e-5)\n",
    "#---\n",
    "\n",
    "epochs = 999\n",
    "for epoch in range(epochs):\n",
    "    \n",
    "    iteration = 0\n",
    "    epoch_running_loss = 0 \n",
    "    \n",
    "    #tqdm_iterator = tqdm(data_loader[\"train\"], desc=f\"Epoch {epoch}\")\n",
    "    \n",
    "    for index, data in enumerate(dataloader):\n",
    "        \n",
    "        masks, masks_edge = data\n",
    "    \n",
    "        #---\n",
    "        masks, masks_edge = masks.to(DEVICE), masks_edge.float().to(DEVICE)\n",
    "        \n",
    "        \n",
    "        # opt\n",
    "        optimizer.zero_grad()\n",
    "        \n",
    "        # runs\n",
    "        outputs = model(masks)\n",
    "        \n",
    "        # criterion\n",
    "        outputs = outputs.squeeze(1)\n",
    "        masks_edge = masks_edge.squeeze(1)\n",
    "\n",
    "        # loss\n",
    "        loss = criterion(outputs, masks_edge)\n",
    "        loss.backward()\n",
    "        #fabric.backward(loss)\n",
    "        optimizer.step()\n",
    "        \n",
    "        # stat\n",
    "        epoch_running_loss += loss.item()\n",
    "\n",
    "        # log\n",
    "        #logger.info(f\"epoch : {epoch} iter : {index} loss: {loss:.5f} dice: {dice_score:.5f}\" )\n",
    "        log = {'loss': f'{loss / 10:.5f}' }\n",
    "        print(log)\n",
    "        #wandb.log(log)\n",
    "\n",
    "        log_iter = 100\n",
    "        \n",
    "        if (index % log_iter) == 0:    # print every 2000 mini-batches\n",
    "            print(f\"epoch : {epoch} , iter : {index} , total_iter : {len(dataloader)} , running_loss : {epoch_running_loss / (index +1)}\")\n",
    "        \n",
    "    \n",
    "    #-- save \n",
    "    \n",
    "    if epoch % SAVE_EPOCH ==0:\n",
    "        #-- save \n",
    "        save_path = f\"./02.ckpts/ver_{EXEC_VER}_epoch_{epoch + 1}.pt\"\n",
    "        torch.save(model.state_dict(), save_path)"
   ]
  }
 ],
 "metadata": {
  "kernelspec": {
   "display_name": "8.tmp.copied",
   "language": "python",
   "name": "python3"
  },
  "language_info": {
   "codemirror_mode": {
    "name": "ipython",
    "version": 3
   },
   "file_extension": ".py",
   "mimetype": "text/x-python",
   "name": "python",
   "nbconvert_exporter": "python",
   "pygments_lexer": "ipython3",
   "version": "3.8.17"
  }
 },
 "nbformat": 4,
 "nbformat_minor": 2
}
