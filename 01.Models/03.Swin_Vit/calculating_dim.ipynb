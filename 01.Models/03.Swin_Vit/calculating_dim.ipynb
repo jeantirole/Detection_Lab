{
 "cells": [
  {
   "cell_type": "code",
   "execution_count": 10,
   "metadata": {},
   "outputs": [],
   "source": [
    "import torch \n",
    "import torch.nn as nn\n",
    "import torch.nn.functional as F\n",
    "import math\n",
    "from einops import rearrange"
   ]
  },
  {
   "cell_type": "code",
   "execution_count": 11,
   "metadata": {},
   "outputs": [],
   "source": [
    "class SwinEmbedding(nn.Module):\n",
    "\n",
    "    '''\n",
    "    input shape -> (b,c,h,w)\n",
    "    output shape -> (b, (h/4 * w/4), C)\n",
    "    '''\n",
    "\n",
    "    def __init__(self, patch_size=4, C=96):\n",
    "        super().__init__()\n",
    "        self.linear_embedding = nn.Conv2d(kernel_size=int(patch_size), stride=int(patch_size),in_channels=3, out_channels=C)\n",
    "        self.layer_norm = nn.LayerNorm(C)\n",
    "        self.relu = nn.ReLU()\n",
    "\n",
    "    def forward(self,x):\n",
    "        x = self.linear_embedding(x)\n",
    "        x = rearrange(x, 'b c h w -> b (h w) c')\n",
    "        x = self.relu(self.layer_norm(x))\n",
    "        return x"
   ]
  },
  {
   "cell_type": "code",
   "execution_count": 12,
   "metadata": {},
   "outputs": [],
   "source": [
    "class PatchMerging(nn.Module):\n",
    "\n",
    "    '''\n",
    "    input shape -> (b, (h*w), C)\n",
    "    output shape -> (b, (h/2 * w/2), C*2)\n",
    "    '''\n",
    "\n",
    "    def __init__(self, C):\n",
    "        super().__init__()\n",
    "        self.linear = nn.Linear(4*C, 2*C)\n",
    "        self.layer_norm = nn.LayerNorm(2*C)\n",
    "\n",
    "    def forward(self, x):\n",
    "        height = width = int(math.sqrt(x.shape[1])/2)\n",
    "        x = rearrange(x, 'b (h s1 w s2) c -> b (h w) (s2 s1 c)', s1=2, s2=2, h=height, w=width)\n",
    "        return self.layer_norm(self.linear(x))"
   ]
  },
  {
   "cell_type": "code",
   "execution_count": 13,
   "metadata": {},
   "outputs": [],
   "source": [
    "class ShiftedWindowMSA(nn.Module):\n",
    "    def __init__(self, embed_dim, num_heads, window_size=7, mask=False):\n",
    "        super().__init__()\n",
    "        self.embed_dim = embed_dim\n",
    "        self.num_heads = num_heads\n",
    "        self.window_size = window_size\n",
    "        self.mask = mask\n",
    "        self.proj1 = nn.Linear(embed_dim, 3*embed_dim)\n",
    "        self.proj2 = nn.Linear(embed_dim, embed_dim)\n",
    "        # self.embeddings = RelativeEmbeddings()\n",
    "\n",
    "    def forward(self, x):\n",
    "        h_dim = self.embed_dim / self.num_heads\n",
    "        height = width = int(math.sqrt(x.shape[1]))\n",
    "        x = self.proj1(x)\n",
    "        x = rearrange(x, 'b (h w) (c K) -> b h w c K', K=3, h=height, w=width)\n",
    "\n",
    "        if self.mask:\n",
    "            x = torch.roll(x, (-self.window_size//2, -self.window_size//2), dims=(1,2))\n",
    "\n",
    "        x = rearrange(x, 'b (h m1) (w m2) (H E) K -> b H h w (m1 m2) E K', H=self.num_heads, m1=self.window_size, m2=self.window_size)\n",
    "        Q, K, V = x.chunk(3, dim=6)\n",
    "        Q, K, V = Q.squeeze(-1), K.squeeze(-1), V.squeeze(-1)\n",
    "        att_scores = (Q @ K.transpose(4,5)) / math.sqrt(h_dim)\n",
    "        # att_scores = self.embeddings(att_scores)\n",
    "\n",
    "        '''\n",
    "          shape of att_scores = (b, H, h, w, (m1*m2), (m1*m2))\n",
    "          we simply have to generate our row/column masks and apply them\n",
    "          to the last row and columns of windows which are [:,:,-1,:] and [:,:,:,-1]\n",
    "        '''\n",
    "\n",
    "        if self.mask:\n",
    "            row_mask = torch.zeros((self.window_size**2, self.window_size**2)).cuda()\n",
    "            row_mask[-self.window_size * (self.window_size//2):, 0:-self.window_size * (self.window_size//2)] = float('-inf')\n",
    "            row_mask[0:-self.window_size * (self.window_size//2), -self.window_size * (self.window_size//2):] = float('-inf')\n",
    "            column_mask = rearrange(row_mask, '(r w1) (c w2) -> (w1 r) (w2 c)', w1=self.window_size, w2=self.window_size).cuda()\n",
    "            att_scores[:, :, -1, :] += row_mask\n",
    "            att_scores[:, :, :, -1] += column_mask\n",
    "\n",
    "        att = F.softmax(att_scores, dim=-1) @ V\n",
    "        x = rearrange(att, 'b H h w (m1 m2) E -> b (h m1) (w m2) (H E)', m1=self.window_size, m2=self.window_size)\n",
    "\n",
    "        if self.mask:\n",
    "            x = torch.roll(x, (self.window_size//2, self.window_size//2), (1,2))\n",
    "\n",
    "        x = rearrange(x, 'b h w c -> b (h w) c')\n",
    "        return self.proj2(x)"
   ]
  },
  {
   "cell_type": "code",
   "execution_count": 14,
   "metadata": {},
   "outputs": [
    {
     "data": {
      "text/plain": [
       "torch.Size([1, 3, 224, 224])"
      ]
     },
     "execution_count": 14,
     "metadata": {},
     "output_type": "execute_result"
    }
   ],
   "source": [
    "sample_img = torch.randn(1,3,224,224)\n",
    "sample_img.shape"
   ]
  },
  {
   "cell_type": "code",
   "execution_count": 15,
   "metadata": {},
   "outputs": [],
   "source": [
    "Swin_Embedding = SwinEmbedding()\n",
    "Patch_Merging = PatchMerging(C=96)\n",
    "ShiftedWindowMSA_ = ShiftedWindowMSA(embed_dim=96, num_heads=4)"
   ]
  },
  {
   "cell_type": "code",
   "execution_count": 16,
   "metadata": {},
   "outputs": [
    {
     "data": {
      "text/plain": [
       "torch.Size([1, 3136, 96])"
      ]
     },
     "execution_count": 16,
     "metadata": {},
     "output_type": "execute_result"
    }
   ],
   "source": [
    "a = Swin_Embedding(sample_img)\n",
    "a.shape"
   ]
  },
  {
   "cell_type": "code",
   "execution_count": 17,
   "metadata": {},
   "outputs": [
    {
     "data": {
      "text/plain": [
       "torch.Size([1, 784, 192])"
      ]
     },
     "execution_count": 17,
     "metadata": {},
     "output_type": "execute_result"
    }
   ],
   "source": [
    "b = Patch_Merging(a)\n",
    "b.shape"
   ]
  },
  {
   "cell_type": "code",
   "execution_count": 18,
   "metadata": {},
   "outputs": [],
   "source": [
    "z = ShiftedWindowMSA_(a)"
   ]
  },
  {
   "cell_type": "code",
   "execution_count": 19,
   "metadata": {},
   "outputs": [
    {
     "data": {
      "text/plain": [
       "torch.Size([1, 3136, 96])"
      ]
     },
     "execution_count": 19,
     "metadata": {},
     "output_type": "execute_result"
    }
   ],
   "source": [
    "z.shape"
   ]
  },
  {
   "cell_type": "code",
   "execution_count": null,
   "metadata": {},
   "outputs": [],
   "source": []
  }
 ],
 "metadata": {
  "kernelspec": {
   "display_name": "8.tmp",
   "language": "python",
   "name": "python3"
  },
  "language_info": {
   "codemirror_mode": {
    "name": "ipython",
    "version": 3
   },
   "file_extension": ".py",
   "mimetype": "text/x-python",
   "name": "python",
   "nbconvert_exporter": "python",
   "pygments_lexer": "ipython3",
   "version": "3.8.17"
  }
 },
 "nbformat": 4,
 "nbformat_minor": 2
}
