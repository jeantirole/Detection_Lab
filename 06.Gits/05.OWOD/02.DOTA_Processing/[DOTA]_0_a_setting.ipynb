{
 "cells": [
  {
   "cell_type": "markdown",
   "metadata": {},
   "source": [
    "# Env Setting "
   ]
  },
  {
   "cell_type": "markdown",
   "metadata": {},
   "source": [
    "- transfer learning(DOTA Dataset) 및 fine-tunning(AIFactory) 환경설정  \n",
    "resnet50 pre-train 환경과 약간의 차이가 있습니다 참고 바랍니다. \n",
    "\n",
    "\n",
    "- 주요 라이브러리 버전 확인    \n",
    "python == 3.8   \n",
    "torch  == 1.10.1+cu111   \n",
    "\n"
   ]
  },
  {
   "cell_type": "code",
   "execution_count": 1,
   "metadata": {},
   "outputs": [
    {
     "name": "stdout",
     "output_type": "stream",
     "text": [
      "Looking in links: https://download.pytorch.org/whl/torch_stable.html\n",
      "Collecting torch==1.10.0+cu111\n",
      "  Using cached https://download.pytorch.org/whl/cu111/torch-1.10.0%2Bcu111-cp38-cp38-linux_x86_64.whl (2137.6 MB)\n",
      "Collecting torchvision==0.11.0+cu111\n",
      "  Using cached https://download.pytorch.org/whl/cu111/torchvision-0.11.0%2Bcu111-cp38-cp38-linux_x86_64.whl (21.9 MB)\n",
      "Collecting torchaudio==0.10.0\n",
      "  Using cached https://download.pytorch.org/whl/rocm4.1/torchaudio-0.10.0%2Brocm4.1-cp38-cp38-linux_x86_64.whl (2.7 MB)\n",
      "Requirement already satisfied: typing-extensions in /mnt/hdd/eric/.conda/envs/prob_v2/lib/python3.8/site-packages (from torch==1.10.0+cu111) (4.8.0)\n",
      "Requirement already satisfied: numpy in /mnt/hdd/eric/.conda/envs/prob_v2/lib/python3.8/site-packages (from torchvision==0.11.0+cu111) (1.24.4)\n",
      "Requirement already satisfied: pillow!=8.3.0,>=5.3.0 in /mnt/hdd/eric/.conda/envs/prob_v2/lib/python3.8/site-packages (from torchvision==0.11.0+cu111) (9.5.0)\n",
      "Installing collected packages: torch, torchvision, torchaudio\n",
      "  Attempting uninstall: torch\n",
      "    Found existing installation: torch 2.1.0+cu118\n",
      "    Uninstalling torch-2.1.0+cu118:\n",
      "      Successfully uninstalled torch-2.1.0+cu118\n",
      "  Attempting uninstall: torchvision\n",
      "    Found existing installation: torchvision 0.16.0+cu118\n",
      "    Uninstalling torchvision-0.16.0+cu118:\n",
      "      Successfully uninstalled torchvision-0.16.0+cu118\n",
      "  Attempting uninstall: torchaudio\n",
      "    Found existing installation: torchaudio 2.1.0+cu118\n",
      "    Uninstalling torchaudio-2.1.0+cu118:\n",
      "      Successfully uninstalled torchaudio-2.1.0+cu118\n",
      "Successfully installed torch-1.10.0+cu111 torchaudio-0.10.0+rocm4.1 torchvision-0.11.0+cu111\n"
     ]
    }
   ],
   "source": [
    "# # 아래와 같이 conda 가상환경을 통해 환경구축을 추천 (파이썬 3.8) \n",
    "# !conda create -n tmp_conv python=3.8 \n",
    "# !conda activate tmp_conv\n",
    "\n",
    "# pytorch 설치 (버전확인)\n",
    "!pip install torch==1.10.0+cu111 torchvision==0.11.0+cu111 torchaudio==0.10.0 -f https://download.pytorch.org/whl/torch_stable.html"
   ]
  },
  {
   "cell_type": "code",
   "execution_count": 2,
   "metadata": {},
   "outputs": [
    {
     "name": "stdout",
     "output_type": "stream",
     "text": [
      "Requirement already satisfied: openmim in /mnt/hdd/eric/.conda/envs/prob_v2/lib/python3.8/site-packages (0.3.9)\n",
      "Requirement already satisfied: Click in /mnt/hdd/eric/.conda/envs/prob_v2/lib/python3.8/site-packages (from openmim) (8.1.7)\n",
      "Requirement already satisfied: colorama in /mnt/hdd/eric/.conda/envs/prob_v2/lib/python3.8/site-packages (from openmim) (0.4.6)\n",
      "Requirement already satisfied: model-index in /mnt/hdd/eric/.conda/envs/prob_v2/lib/python3.8/site-packages (from openmim) (0.1.11)\n",
      "Requirement already satisfied: opendatalab in /mnt/hdd/eric/.conda/envs/prob_v2/lib/python3.8/site-packages (from openmim) (0.0.10)\n",
      "Requirement already satisfied: pandas in /mnt/hdd/eric/.conda/envs/prob_v2/lib/python3.8/site-packages (from openmim) (2.0.3)\n",
      "Requirement already satisfied: pip>=19.3 in /mnt/hdd/eric/.conda/envs/prob_v2/lib/python3.8/site-packages (from openmim) (23.2.1)\n",
      "Requirement already satisfied: requests in /mnt/hdd/eric/.conda/envs/prob_v2/lib/python3.8/site-packages (from openmim) (2.28.2)\n",
      "Requirement already satisfied: rich in /mnt/hdd/eric/.conda/envs/prob_v2/lib/python3.8/site-packages (from openmim) (13.4.2)\n",
      "Requirement already satisfied: tabulate in /mnt/hdd/eric/.conda/envs/prob_v2/lib/python3.8/site-packages (from openmim) (0.9.0)\n",
      "Requirement already satisfied: pyyaml in /mnt/hdd/eric/.conda/envs/prob_v2/lib/python3.8/site-packages (from model-index->openmim) (6.0.1)\n",
      "Requirement already satisfied: markdown in /mnt/hdd/eric/.conda/envs/prob_v2/lib/python3.8/site-packages (from model-index->openmim) (3.6)\n",
      "Requirement already satisfied: ordered-set in /mnt/hdd/eric/.conda/envs/prob_v2/lib/python3.8/site-packages (from model-index->openmim) (4.1.0)\n",
      "Requirement already satisfied: pycryptodome in /mnt/hdd/eric/.conda/envs/prob_v2/lib/python3.8/site-packages (from opendatalab->openmim) (3.19.0)\n",
      "Requirement already satisfied: tqdm in /mnt/hdd/eric/.conda/envs/prob_v2/lib/python3.8/site-packages (from opendatalab->openmim) (4.65.2)\n",
      "Requirement already satisfied: openxlab in /mnt/hdd/eric/.conda/envs/prob_v2/lib/python3.8/site-packages (from opendatalab->openmim) (0.0.26)\n",
      "Requirement already satisfied: charset-normalizer<4,>=2 in /mnt/hdd/eric/.local/lib/python3.8/site-packages (from requests->openmim) (3.1.0)\n",
      "Requirement already satisfied: idna<4,>=2.5 in /mnt/hdd/eric/.conda/envs/prob_v2/lib/python3.8/site-packages (from requests->openmim) (3.4)\n",
      "Requirement already satisfied: urllib3<1.27,>=1.21.1 in /mnt/hdd/eric/.conda/envs/prob_v2/lib/python3.8/site-packages (from requests->openmim) (1.26.17)\n",
      "Requirement already satisfied: certifi>=2017.4.17 in /mnt/hdd/eric/.conda/envs/prob_v2/lib/python3.8/site-packages (from requests->openmim) (2023.7.22)\n",
      "Requirement already satisfied: python-dateutil>=2.8.2 in /mnt/hdd/eric/.conda/envs/prob_v2/lib/python3.8/site-packages (from pandas->openmim) (2.8.2)\n",
      "Requirement already satisfied: pytz>=2020.1 in /mnt/hdd/eric/.conda/envs/prob_v2/lib/python3.8/site-packages (from pandas->openmim) (2023.3.post1)\n",
      "Requirement already satisfied: tzdata>=2022.1 in /mnt/hdd/eric/.conda/envs/prob_v2/lib/python3.8/site-packages (from pandas->openmim) (2023.3)\n",
      "Requirement already satisfied: numpy>=1.20.3 in /mnt/hdd/eric/.conda/envs/prob_v2/lib/python3.8/site-packages (from pandas->openmim) (1.24.4)\n",
      "Requirement already satisfied: markdown-it-py>=2.2.0 in /mnt/hdd/eric/.conda/envs/prob_v2/lib/python3.8/site-packages (from rich->openmim) (3.0.0)\n",
      "Requirement already satisfied: pygments<3.0.0,>=2.13.0 in /mnt/hdd/eric/.local/lib/python3.8/site-packages (from rich->openmim) (2.15.1)\n",
      "Requirement already satisfied: typing-extensions<5.0,>=4.0.0 in /mnt/hdd/eric/.conda/envs/prob_v2/lib/python3.8/site-packages (from rich->openmim) (4.8.0)\n",
      "Requirement already satisfied: mdurl~=0.1 in /mnt/hdd/eric/.conda/envs/prob_v2/lib/python3.8/site-packages (from markdown-it-py>=2.2.0->rich->openmim) (0.1.2)\n",
      "Requirement already satisfied: six>=1.5 in /mnt/hdd/eric/.conda/envs/prob_v2/lib/python3.8/site-packages (from python-dateutil>=2.8.2->pandas->openmim) (1.16.0)\n",
      "Requirement already satisfied: importlib-metadata>=4.4 in /mnt/hdd/eric/.conda/envs/prob_v2/lib/python3.8/site-packages (from markdown->model-index->openmim) (6.8.0)\n",
      "Requirement already satisfied: oss2~=2.17.0 in /mnt/hdd/eric/.conda/envs/prob_v2/lib/python3.8/site-packages (from openxlab->opendatalab->openmim) (2.17.0)\n",
      "Requirement already satisfied: setuptools~=60.2.0 in /mnt/hdd/eric/.conda/envs/prob_v2/lib/python3.8/site-packages (from openxlab->opendatalab->openmim) (60.2.0)\n",
      "Requirement already satisfied: zipp>=0.5 in /mnt/hdd/eric/.local/lib/python3.8/site-packages (from importlib-metadata>=4.4->markdown->model-index->openmim) (3.15.0)\n",
      "Requirement already satisfied: crcmod>=1.7 in /mnt/hdd/eric/.conda/envs/prob_v2/lib/python3.8/site-packages (from oss2~=2.17.0->openxlab->opendatalab->openmim) (1.7)\n",
      "Requirement already satisfied: aliyun-python-sdk-kms>=2.4.1 in /mnt/hdd/eric/.conda/envs/prob_v2/lib/python3.8/site-packages (from oss2~=2.17.0->openxlab->opendatalab->openmim) (2.16.2)\n",
      "Requirement already satisfied: aliyun-python-sdk-core>=2.13.12 in /mnt/hdd/eric/.conda/envs/prob_v2/lib/python3.8/site-packages (from oss2~=2.17.0->openxlab->opendatalab->openmim) (2.14.0)\n",
      "Requirement already satisfied: jmespath<1.0.0,>=0.9.3 in /mnt/hdd/eric/.conda/envs/prob_v2/lib/python3.8/site-packages (from aliyun-python-sdk-core>=2.13.12->oss2~=2.17.0->openxlab->opendatalab->openmim) (0.10.0)\n",
      "Requirement already satisfied: cryptography>=2.6.0 in /mnt/hdd/eric/.conda/envs/prob_v2/lib/python3.8/site-packages (from aliyun-python-sdk-core>=2.13.12->oss2~=2.17.0->openxlab->opendatalab->openmim) (41.0.4)\n",
      "Requirement already satisfied: cffi>=1.12 in /mnt/hdd/eric/.conda/envs/prob_v2/lib/python3.8/site-packages (from cryptography>=2.6.0->aliyun-python-sdk-core>=2.13.12->oss2~=2.17.0->openxlab->opendatalab->openmim) (1.16.0)\n",
      "Requirement already satisfied: pycparser in /mnt/hdd/eric/.conda/envs/prob_v2/lib/python3.8/site-packages (from cffi>=1.12->cryptography>=2.6.0->aliyun-python-sdk-core>=2.13.12->oss2~=2.17.0->openxlab->opendatalab->openmim) (2.21)\n"
     ]
    }
   ],
   "source": [
    "# conda 8.tmp\n",
    "!pip install openmim"
   ]
  },
  {
   "cell_type": "code",
   "execution_count": 3,
   "metadata": {
    "scrolled": true
   },
   "outputs": [
    {
     "name": "stdout",
     "output_type": "stream",
     "text": [
      "Looking in links: https://download.openmmlab.com/mmcv/dist/cu111/torch1.10.0/index.html\n",
      "Collecting mmcv-full==1.7.1\n",
      "  Using cached https://download.openmmlab.com/mmcv/dist/cu111/torch1.10.0/mmcv_full-1.7.1-cp38-cp38-manylinux1_x86_64.whl (50.6 MB)\n",
      "Requirement already satisfied: addict in /mnt/hdd/eric/.conda/envs/prob_v2/lib/python3.8/site-packages (from mmcv-full==1.7.1) (2.4.0)\n",
      "Requirement already satisfied: numpy in /mnt/hdd/eric/.conda/envs/prob_v2/lib/python3.8/site-packages (from mmcv-full==1.7.1) (1.24.4)\n",
      "Requirement already satisfied: packaging in /mnt/hdd/eric/.local/lib/python3.8/site-packages (from mmcv-full==1.7.1) (23.1)\n",
      "Requirement already satisfied: Pillow in /mnt/hdd/eric/.conda/envs/prob_v2/lib/python3.8/site-packages (from mmcv-full==1.7.1) (9.5.0)\n",
      "Requirement already satisfied: pyyaml in /mnt/hdd/eric/.conda/envs/prob_v2/lib/python3.8/site-packages (from mmcv-full==1.7.1) (6.0.1)\n",
      "Requirement already satisfied: yapf in /mnt/hdd/eric/.conda/envs/prob_v2/lib/python3.8/site-packages (from mmcv-full==1.7.1) (0.40.1)\n",
      "Requirement already satisfied: opencv-python>=3 in /mnt/hdd/eric/.conda/envs/prob_v2/lib/python3.8/site-packages (from mmcv-full==1.7.1) (4.8.1.78)\n",
      "Requirement already satisfied: importlib-metadata>=6.6.0 in /mnt/hdd/eric/.conda/envs/prob_v2/lib/python3.8/site-packages (from yapf->mmcv-full==1.7.1) (6.8.0)\n",
      "Requirement already satisfied: platformdirs>=3.5.1 in /mnt/hdd/eric/.conda/envs/prob_v2/lib/python3.8/site-packages (from yapf->mmcv-full==1.7.1) (3.11.0)\n",
      "Requirement already satisfied: tomli>=2.0.1 in /mnt/hdd/eric/.conda/envs/prob_v2/lib/python3.8/site-packages (from yapf->mmcv-full==1.7.1) (2.0.1)\n",
      "Requirement already satisfied: zipp>=0.5 in /mnt/hdd/eric/.local/lib/python3.8/site-packages (from importlib-metadata>=6.6.0->yapf->mmcv-full==1.7.1) (3.15.0)\n",
      "Installing collected packages: mmcv-full\n",
      "Successfully installed mmcv-full-1.7.1\n"
     ]
    }
   ],
   "source": [
    "# mmrotate 설치과정 \n",
    "# mmcv\n",
    "!mim install mmcv-full==1.7.1"
   ]
  },
  {
   "cell_type": "code",
   "execution_count": 4,
   "metadata": {
    "scrolled": true
   },
   "outputs": [
    {
     "name": "stdout",
     "output_type": "stream",
     "text": [
      "Looking in links: https://download.openmmlab.com/mmcv/dist/cu111/torch1.10.0/index.html\n",
      "Collecting mmdet==2.28.2\n",
      "  Obtaining dependency information for mmdet==2.28.2 from https://files.pythonhosted.org/packages/03/ed/4ebb8197d87930b25d89ad4a72b3f36bb5f1ceea6d8bec89b22640f1a9fc/mmdet-2.28.2-py3-none-any.whl.metadata\n",
      "  Downloading mmdet-2.28.2-py3-none-any.whl.metadata (25 kB)\n",
      "Requirement already satisfied: matplotlib in /mnt/hdd/eric/.conda/envs/prob_v2/lib/python3.8/site-packages (from mmdet==2.28.2) (3.7.3)\n",
      "Requirement already satisfied: numpy in /mnt/hdd/eric/.conda/envs/prob_v2/lib/python3.8/site-packages (from mmdet==2.28.2) (1.24.4)\n",
      "Requirement already satisfied: pycocotools in /mnt/hdd/eric/.conda/envs/prob_v2/lib/python3.8/site-packages (from mmdet==2.28.2) (2.0)\n",
      "Requirement already satisfied: scipy in /mnt/hdd/eric/.conda/envs/prob_v2/lib/python3.8/site-packages (from mmdet==2.28.2) (1.10.1)\n",
      "Requirement already satisfied: six in /mnt/hdd/eric/.conda/envs/prob_v2/lib/python3.8/site-packages (from mmdet==2.28.2) (1.16.0)\n",
      "Requirement already satisfied: terminaltables in /mnt/hdd/eric/.conda/envs/prob_v2/lib/python3.8/site-packages (from mmdet==2.28.2) (3.1.10)\n",
      "Requirement already satisfied: mmcv-full>=1.3.17 in /mnt/hdd/eric/.conda/envs/prob_v2/lib/python3.8/site-packages (from mmdet==2.28.2) (1.7.1)\n",
      "Requirement already satisfied: addict in /mnt/hdd/eric/.conda/envs/prob_v2/lib/python3.8/site-packages (from mmcv-full>=1.3.17->mmdet==2.28.2) (2.4.0)\n",
      "Requirement already satisfied: packaging in /mnt/hdd/eric/.local/lib/python3.8/site-packages (from mmcv-full>=1.3.17->mmdet==2.28.2) (23.1)\n",
      "Requirement already satisfied: Pillow in /mnt/hdd/eric/.conda/envs/prob_v2/lib/python3.8/site-packages (from mmcv-full>=1.3.17->mmdet==2.28.2) (9.5.0)\n",
      "Requirement already satisfied: pyyaml in /mnt/hdd/eric/.conda/envs/prob_v2/lib/python3.8/site-packages (from mmcv-full>=1.3.17->mmdet==2.28.2) (6.0.1)\n",
      "Requirement already satisfied: yapf in /mnt/hdd/eric/.conda/envs/prob_v2/lib/python3.8/site-packages (from mmcv-full>=1.3.17->mmdet==2.28.2) (0.40.1)\n",
      "Requirement already satisfied: opencv-python>=3 in /mnt/hdd/eric/.conda/envs/prob_v2/lib/python3.8/site-packages (from mmcv-full>=1.3.17->mmdet==2.28.2) (4.8.1.78)\n",
      "Requirement already satisfied: contourpy>=1.0.1 in /mnt/hdd/eric/.conda/envs/prob_v2/lib/python3.8/site-packages (from matplotlib->mmdet==2.28.2) (1.1.1)\n",
      "Requirement already satisfied: cycler>=0.10 in /mnt/hdd/eric/.conda/envs/prob_v2/lib/python3.8/site-packages (from matplotlib->mmdet==2.28.2) (0.12.0)\n",
      "Requirement already satisfied: fonttools>=4.22.0 in /mnt/hdd/eric/.conda/envs/prob_v2/lib/python3.8/site-packages (from matplotlib->mmdet==2.28.2) (4.43.0)\n",
      "Requirement already satisfied: kiwisolver>=1.0.1 in /mnt/hdd/eric/.conda/envs/prob_v2/lib/python3.8/site-packages (from matplotlib->mmdet==2.28.2) (1.4.5)\n",
      "Requirement already satisfied: pyparsing>=2.3.1 in /mnt/hdd/eric/.conda/envs/prob_v2/lib/python3.8/site-packages (from matplotlib->mmdet==2.28.2) (3.1.1)\n",
      "Requirement already satisfied: python-dateutil>=2.7 in /mnt/hdd/eric/.conda/envs/prob_v2/lib/python3.8/site-packages (from matplotlib->mmdet==2.28.2) (2.8.2)\n",
      "Requirement already satisfied: importlib-resources>=3.2.0 in /mnt/hdd/eric/.local/lib/python3.8/site-packages (from matplotlib->mmdet==2.28.2) (5.12.0)\n",
      "Requirement already satisfied: setuptools>=18.0 in /mnt/hdd/eric/.conda/envs/prob_v2/lib/python3.8/site-packages (from pycocotools->mmdet==2.28.2) (60.2.0)\n",
      "Requirement already satisfied: cython>=0.27.3 in /mnt/hdd/eric/.conda/envs/prob_v2/lib/python3.8/site-packages (from pycocotools->mmdet==2.28.2) (3.0.2)\n",
      "Requirement already satisfied: zipp>=3.1.0 in /mnt/hdd/eric/.local/lib/python3.8/site-packages (from importlib-resources>=3.2.0->matplotlib->mmdet==2.28.2) (3.15.0)\n",
      "Requirement already satisfied: importlib-metadata>=6.6.0 in /mnt/hdd/eric/.conda/envs/prob_v2/lib/python3.8/site-packages (from yapf->mmcv-full>=1.3.17->mmdet==2.28.2) (6.8.0)\n",
      "Requirement already satisfied: platformdirs>=3.5.1 in /mnt/hdd/eric/.conda/envs/prob_v2/lib/python3.8/site-packages (from yapf->mmcv-full>=1.3.17->mmdet==2.28.2) (3.11.0)\n",
      "Requirement already satisfied: tomli>=2.0.1 in /mnt/hdd/eric/.conda/envs/prob_v2/lib/python3.8/site-packages (from yapf->mmcv-full>=1.3.17->mmdet==2.28.2) (2.0.1)\n",
      "Using cached mmdet-2.28.2-py3-none-any.whl (1.5 MB)\n",
      "Installing collected packages: mmdet\n",
      "  Attempting uninstall: mmdet\n",
      "    Found existing installation: mmdet 3.0.0\n",
      "    Uninstalling mmdet-3.0.0:\n",
      "      Successfully uninstalled mmdet-3.0.0\n",
      "Successfully installed mmdet-2.28.2\n"
     ]
    }
   ],
   "source": [
    "# mmrotate 설치과정 \n",
    "# mmdet\n",
    "!mim install mmdet==2.28.2"
   ]
  },
  {
   "cell_type": "code",
   "execution_count": 1,
   "metadata": {},
   "outputs": [
    {
     "name": "stdout",
     "output_type": "stream",
     "text": [
      "Requirement already satisfied: cython in /mnt/hdd/eric/.conda/envs/prob_v2/lib/python3.8/site-packages (from -r requirements/build.txt (line 2)) (3.0.2)\n",
      "Requirement already satisfied: numpy in /mnt/hdd/eric/.conda/envs/prob_v2/lib/python3.8/site-packages (from -r requirements/build.txt (line 3)) (1.24.4)\n"
     ]
    }
   ],
   "source": [
    "# mmrotate 설치과정 \n",
    "# mmrotate\n",
    "!pip install -r requirements/build.txt"
   ]
  },
  {
   "cell_type": "code",
   "execution_count": 2,
   "metadata": {},
   "outputs": [
    {
     "name": "stdout",
     "output_type": "stream",
     "text": [
      "Using pip 23.2.1 from /mnt/hdd/eric/.conda/envs/prob_v2/lib/python3.8/site-packages/pip (python 3.8)\n",
      "Obtaining file:///mnt/hdd/eric/.tmp_ipy/15.Lab_Detection/06.Gits/05.OWOD/02.DOTA_Processing/mmrotate\n",
      "  Preparing metadata (setup.py) ... \u001b[?25l  Running command python setup.py egg_info\n",
      "  running egg_info\n",
      "  creating /tmp/pip-pip-egg-info-_gppz0du/mmrotate.egg-info\n",
      "  writing /tmp/pip-pip-egg-info-_gppz0du/mmrotate.egg-info/PKG-INFO\n",
      "  writing dependency_links to /tmp/pip-pip-egg-info-_gppz0du/mmrotate.egg-info/dependency_links.txt\n",
      "  writing requirements to /tmp/pip-pip-egg-info-_gppz0du/mmrotate.egg-info/requires.txt\n",
      "  writing top-level names to /tmp/pip-pip-egg-info-_gppz0du/mmrotate.egg-info/top_level.txt\n",
      "  writing manifest file '/tmp/pip-pip-egg-info-_gppz0du/mmrotate.egg-info/SOURCES.txt'\n",
      "  reading manifest file '/tmp/pip-pip-egg-info-_gppz0du/mmrotate.egg-info/SOURCES.txt'\n",
      "  reading manifest template 'MANIFEST.in'\n",
      "  warning: no files found matching 'mmrotate/.mim/model-index.yml'\n",
      "  warning: no files found matching '*.py' under directory 'mmrotate/.mim/configs'\n",
      "  warning: no files found matching '*.yml' under directory 'mmrotate/.mim/configs'\n",
      "  warning: no files found matching '*.py' under directory 'mmrotate/.mim/tools'\n",
      "  warning: no files found matching '*.sh' under directory 'mmrotate/.mim/tools'\n",
      "  adding license file 'LICENSE'\n",
      "  writing manifest file '/tmp/pip-pip-egg-info-_gppz0du/mmrotate.egg-info/SOURCES.txt'\n",
      "\u001b[?25hdone\n",
      "Collecting e2cnn (from mmrotate==0.3.4)\n",
      "  Obtaining dependency information for e2cnn from https://files.pythonhosted.org/packages/a1/4d/05b0dd45848e41c1b5e93755682a9e593f19a92e01aeb57b327f15881e3f/e2cnn-0.2.3-py3-none-any.whl.metadata\n",
      "  Downloading e2cnn-0.2.3-py3-none-any.whl.metadata (15 kB)\n",
      "Requirement already satisfied: matplotlib in /mnt/hdd/eric/.conda/envs/prob_v2/lib/python3.8/site-packages (from mmrotate==0.3.4) (3.7.3)\n",
      "Requirement already satisfied: mmcv-full in /mnt/hdd/eric/.conda/envs/prob_v2/lib/python3.8/site-packages (from mmrotate==0.3.4) (1.7.1)\n",
      "Requirement already satisfied: mmdet<3.0.0,>=2.25.1 in /mnt/hdd/eric/.conda/envs/prob_v2/lib/python3.8/site-packages (from mmrotate==0.3.4) (2.28.2)\n",
      "Requirement already satisfied: numpy in /mnt/hdd/eric/.conda/envs/prob_v2/lib/python3.8/site-packages (from mmrotate==0.3.4) (1.24.4)\n",
      "Requirement already satisfied: pycocotools in /mnt/hdd/eric/.conda/envs/prob_v2/lib/python3.8/site-packages (from mmrotate==0.3.4) (2.0)\n",
      "Requirement already satisfied: six in /mnt/hdd/eric/.conda/envs/prob_v2/lib/python3.8/site-packages (from mmrotate==0.3.4) (1.16.0)\n",
      "Requirement already satisfied: terminaltables in /mnt/hdd/eric/.conda/envs/prob_v2/lib/python3.8/site-packages (from mmrotate==0.3.4) (3.1.10)\n",
      "Requirement already satisfied: torch in /mnt/hdd/eric/.conda/envs/prob_v2/lib/python3.8/site-packages (from mmrotate==0.3.4) (1.10.0+cu111)\n",
      "Requirement already satisfied: scipy in /mnt/hdd/eric/.conda/envs/prob_v2/lib/python3.8/site-packages (from mmdet<3.0.0,>=2.25.1->mmrotate==0.3.4) (1.10.1)\n",
      "Requirement already satisfied: sympy in /mnt/hdd/eric/.conda/envs/prob_v2/lib/python3.8/site-packages (from e2cnn->mmrotate==0.3.4) (1.12)\n",
      "Requirement already satisfied: contourpy>=1.0.1 in /mnt/hdd/eric/.conda/envs/prob_v2/lib/python3.8/site-packages (from matplotlib->mmrotate==0.3.4) (1.1.1)\n",
      "Requirement already satisfied: cycler>=0.10 in /mnt/hdd/eric/.conda/envs/prob_v2/lib/python3.8/site-packages (from matplotlib->mmrotate==0.3.4) (0.12.0)\n",
      "Requirement already satisfied: fonttools>=4.22.0 in /mnt/hdd/eric/.conda/envs/prob_v2/lib/python3.8/site-packages (from matplotlib->mmrotate==0.3.4) (4.43.0)\n",
      "Requirement already satisfied: kiwisolver>=1.0.1 in /mnt/hdd/eric/.conda/envs/prob_v2/lib/python3.8/site-packages (from matplotlib->mmrotate==0.3.4) (1.4.5)\n",
      "Requirement already satisfied: packaging>=20.0 in /mnt/hdd/eric/.local/lib/python3.8/site-packages (from matplotlib->mmrotate==0.3.4) (23.1)\n",
      "Requirement already satisfied: pillow>=6.2.0 in /mnt/hdd/eric/.conda/envs/prob_v2/lib/python3.8/site-packages (from matplotlib->mmrotate==0.3.4) (9.5.0)\n",
      "Requirement already satisfied: pyparsing>=2.3.1 in /mnt/hdd/eric/.conda/envs/prob_v2/lib/python3.8/site-packages (from matplotlib->mmrotate==0.3.4) (3.1.1)\n",
      "Requirement already satisfied: python-dateutil>=2.7 in /mnt/hdd/eric/.conda/envs/prob_v2/lib/python3.8/site-packages (from matplotlib->mmrotate==0.3.4) (2.8.2)\n",
      "Requirement already satisfied: importlib-resources>=3.2.0 in /mnt/hdd/eric/.local/lib/python3.8/site-packages (from matplotlib->mmrotate==0.3.4) (5.12.0)\n",
      "Requirement already satisfied: addict in /mnt/hdd/eric/.conda/envs/prob_v2/lib/python3.8/site-packages (from mmcv-full->mmrotate==0.3.4) (2.4.0)\n",
      "Requirement already satisfied: pyyaml in /mnt/hdd/eric/.conda/envs/prob_v2/lib/python3.8/site-packages (from mmcv-full->mmrotate==0.3.4) (6.0.1)\n",
      "Requirement already satisfied: yapf in /mnt/hdd/eric/.conda/envs/prob_v2/lib/python3.8/site-packages (from mmcv-full->mmrotate==0.3.4) (0.40.1)\n",
      "Requirement already satisfied: opencv-python>=3 in /mnt/hdd/eric/.conda/envs/prob_v2/lib/python3.8/site-packages (from mmcv-full->mmrotate==0.3.4) (4.8.1.78)\n",
      "Requirement already satisfied: setuptools>=18.0 in /mnt/hdd/eric/.conda/envs/prob_v2/lib/python3.8/site-packages (from pycocotools->mmrotate==0.3.4) (60.2.0)\n",
      "Requirement already satisfied: cython>=0.27.3 in /mnt/hdd/eric/.conda/envs/prob_v2/lib/python3.8/site-packages (from pycocotools->mmrotate==0.3.4) (3.0.2)\n",
      "Requirement already satisfied: typing-extensions in /mnt/hdd/eric/.conda/envs/prob_v2/lib/python3.8/site-packages (from torch->mmrotate==0.3.4) (4.8.0)\n",
      "Requirement already satisfied: zipp>=3.1.0 in /mnt/hdd/eric/.local/lib/python3.8/site-packages (from importlib-resources>=3.2.0->matplotlib->mmrotate==0.3.4) (3.15.0)\n",
      "Requirement already satisfied: mpmath>=0.19 in /mnt/hdd/eric/.conda/envs/prob_v2/lib/python3.8/site-packages (from sympy->e2cnn->mmrotate==0.3.4) (1.3.0)\n",
      "Requirement already satisfied: importlib-metadata>=6.6.0 in /mnt/hdd/eric/.conda/envs/prob_v2/lib/python3.8/site-packages (from yapf->mmcv-full->mmrotate==0.3.4) (6.8.0)\n",
      "Requirement already satisfied: platformdirs>=3.5.1 in /mnt/hdd/eric/.conda/envs/prob_v2/lib/python3.8/site-packages (from yapf->mmcv-full->mmrotate==0.3.4) (3.11.0)\n",
      "Requirement already satisfied: tomli>=2.0.1 in /mnt/hdd/eric/.conda/envs/prob_v2/lib/python3.8/site-packages (from yapf->mmcv-full->mmrotate==0.3.4) (2.0.1)\n",
      "Using cached e2cnn-0.2.3-py3-none-any.whl (225 kB)\n",
      "Installing collected packages: e2cnn, mmrotate\n",
      "  Running setup.py develop for mmrotate\n",
      "    Running command python setup.py develop\n",
      "    running develop\n",
      "    /mnt/hdd/eric/.conda/envs/prob_v2/lib/python3.8/site-packages/setuptools/command/develop.py:40: EasyInstallDeprecationWarning: easy_install command is deprecated.\n",
      "    !!\n",
      "\n",
      "            ********************************************************************************\n",
      "            Please avoid running ``setup.py`` and ``easy_install``.\n",
      "            Instead, use pypa/build, pypa/installer or other\n",
      "            standards-based tools.\n",
      "\n",
      "            See https://github.com/pypa/setuptools/issues/917 for details.\n",
      "            ********************************************************************************\n",
      "\n",
      "    !!\n",
      "      easy_install.initialize_options(self)\n",
      "    /mnt/hdd/eric/.conda/envs/prob_v2/lib/python3.8/site-packages/setuptools/_distutils/cmd.py:66: SetuptoolsDeprecationWarning: setup.py install is deprecated.\n",
      "    !!\n",
      "\n",
      "            ********************************************************************************\n",
      "            Please avoid running ``setup.py`` directly.\n",
      "            Instead, use pypa/build, pypa/installer or other\n",
      "            standards-based tools.\n",
      "\n",
      "            See https://blog.ganssle.io/articles/2021/10/setup-py-deprecated.html for details.\n",
      "            ********************************************************************************\n",
      "\n",
      "    !!\n",
      "      self.initialize_options()\n",
      "    running egg_info\n",
      "    creating mmrotate.egg-info\n",
      "    writing mmrotate.egg-info/PKG-INFO\n",
      "    writing dependency_links to mmrotate.egg-info/dependency_links.txt\n",
      "    writing requirements to mmrotate.egg-info/requires.txt\n",
      "    writing top-level names to mmrotate.egg-info/top_level.txt\n",
      "    writing manifest file 'mmrotate.egg-info/SOURCES.txt'\n",
      "    reading manifest file 'mmrotate.egg-info/SOURCES.txt'\n",
      "    reading manifest template 'MANIFEST.in'\n",
      "    adding license file 'LICENSE'\n",
      "    writing manifest file 'mmrotate.egg-info/SOURCES.txt'\n",
      "    running build_ext\n",
      "    Creating /mnt/hdd/eric/.conda/envs/prob_v2/lib/python3.8/site-packages/mmrotate.egg-link (link to .)\n",
      "    Adding mmrotate 0.3.4 to easy-install.pth file\n",
      "\n",
      "    Installed /mnt/hdd/eric/.tmp_ipy/15.Lab_Detection/06.Gits/05.OWOD/02.DOTA_Processing/mmrotate\n",
      "Successfully installed e2cnn-0.2.3 mmrotate\n"
     ]
    }
   ],
   "source": [
    "# mmrotate 설치과정 \n",
    "# mmrotate\n",
    "!pip install -v -e ."
   ]
  },
  {
   "cell_type": "code",
   "execution_count": 3,
   "metadata": {
    "scrolled": true
   },
   "outputs": [
    {
     "name": "stdout",
     "output_type": "stream",
     "text": [
      "Requirement already satisfied: shapely in /mnt/hdd/eric/.conda/envs/prob_v2/lib/python3.8/site-packages (2.0.1)\n",
      "Requirement already satisfied: numpy>=1.14 in /mnt/hdd/eric/.conda/envs/prob_v2/lib/python3.8/site-packages (from shapely) (1.24.4)\n",
      "Collecting albumentations\n",
      "  Obtaining dependency information for albumentations from https://files.pythonhosted.org/packages/cd/32/bd07379e94989874cb017d33f51e56fb7240728ee268dba29321af1a9775/albumentations-1.4.10-py3-none-any.whl.metadata\n",
      "  Downloading albumentations-1.4.10-py3-none-any.whl.metadata (38 kB)\n",
      "Requirement already satisfied: numpy<2,>=1.24.4 in /mnt/hdd/eric/.conda/envs/prob_v2/lib/python3.8/site-packages (from albumentations) (1.24.4)\n",
      "Requirement already satisfied: scipy>=1.10.0 in /mnt/hdd/eric/.conda/envs/prob_v2/lib/python3.8/site-packages (from albumentations) (1.10.1)\n",
      "Collecting scikit-image>=0.21.0 (from albumentations)\n",
      "  Obtaining dependency information for scikit-image>=0.21.0 from https://files.pythonhosted.org/packages/33/29/1d696450464d6e13358d3ef185a1fb14a11181c5dab1eb2837c02be86373/scikit_image-0.21.0-cp38-cp38-manylinux_2_17_x86_64.manylinux2014_x86_64.whl.metadata\n",
      "  Using cached scikit_image-0.21.0-cp38-cp38-manylinux_2_17_x86_64.manylinux2014_x86_64.whl.metadata (14 kB)\n",
      "Requirement already satisfied: PyYAML in /mnt/hdd/eric/.conda/envs/prob_v2/lib/python3.8/site-packages (from albumentations) (6.0.1)\n",
      "Collecting typing-extensions>=4.9.0 (from albumentations)\n",
      "  Obtaining dependency information for typing-extensions>=4.9.0 from https://files.pythonhosted.org/packages/26/9f/ad63fc0248c5379346306f8668cda6e2e2e9c95e01216d2b8ffd9ff037d0/typing_extensions-4.12.2-py3-none-any.whl.metadata\n",
      "  Using cached typing_extensions-4.12.2-py3-none-any.whl.metadata (3.0 kB)\n",
      "Requirement already satisfied: scikit-learn>=1.3.2 in /mnt/hdd/eric/.conda/envs/prob_v2/lib/python3.8/site-packages (from albumentations) (1.3.2)\n",
      "Collecting pydantic>=2.7.0 (from albumentations)\n",
      "  Obtaining dependency information for pydantic>=2.7.0 from https://files.pythonhosted.org/packages/d3/07/bbfddb7b532b727a5769a8468a67ab388e74c029d4940e5de6b25231aba2/pydantic-2.8.0-py3-none-any.whl.metadata\n",
      "  Downloading pydantic-2.8.0-py3-none-any.whl.metadata (123 kB)\n",
      "\u001b[2K     \u001b[90m━━━━━━━━━━━━━━━━━━━━━━━━━━━━━━━━━━━━━━━\u001b[0m \u001b[32m123.5/123.5 kB\u001b[0m \u001b[31m1.3 MB/s\u001b[0m eta \u001b[36m0:00:00\u001b[0m00:01\u001b[0m00:01\u001b[0m\n",
      "\u001b[?25hCollecting albucore>=0.0.11 (from albumentations)\n",
      "  Obtaining dependency information for albucore>=0.0.11 from https://files.pythonhosted.org/packages/9f/c4/6e42a9610a712cc93b04176882a2f4ef9d71fcfe2a050a608eab39f022cd/albucore-0.0.12-py3-none-any.whl.metadata\n",
      "  Downloading albucore-0.0.12-py3-none-any.whl.metadata (3.1 kB)\n",
      "Collecting opencv-python-headless>=4.9.0.80 (from albumentations)\n",
      "  Obtaining dependency information for opencv-python-headless>=4.9.0.80 from https://files.pythonhosted.org/packages/d1/09/248f86a404567303cdf120e4a301f389b68e3b18e5c0cc428de327da609c/opencv_python_headless-4.10.0.84-cp37-abi3-manylinux_2_17_x86_64.manylinux2014_x86_64.whl.metadata\n",
      "  Downloading opencv_python_headless-4.10.0.84-cp37-abi3-manylinux_2_17_x86_64.manylinux2014_x86_64.whl.metadata (20 kB)\n",
      "Requirement already satisfied: tomli>=2.0.1 in /mnt/hdd/eric/.conda/envs/prob_v2/lib/python3.8/site-packages (from albucore>=0.0.11->albumentations) (2.0.1)\n",
      "Collecting annotated-types>=0.4.0 (from pydantic>=2.7.0->albumentations)\n",
      "  Obtaining dependency information for annotated-types>=0.4.0 from https://files.pythonhosted.org/packages/78/b6/6307fbef88d9b5ee7421e68d78a9f162e0da4900bc5f5793f6d3d0e34fb8/annotated_types-0.7.0-py3-none-any.whl.metadata\n",
      "  Using cached annotated_types-0.7.0-py3-none-any.whl.metadata (15 kB)\n",
      "Collecting pydantic-core==2.20.0 (from pydantic>=2.7.0->albumentations)\n",
      "  Obtaining dependency information for pydantic-core==2.20.0 from https://files.pythonhosted.org/packages/a8/f6/9893b8d939e4ed4b653d24b50113ac33767d21913891037ef0a5957290ee/pydantic_core-2.20.0-cp38-cp38-manylinux_2_17_x86_64.manylinux2014_x86_64.whl.metadata\n",
      "  Downloading pydantic_core-2.20.0-cp38-cp38-manylinux_2_17_x86_64.manylinux2014_x86_64.whl.metadata (6.6 kB)\n",
      "Requirement already satisfied: networkx>=2.8 in /mnt/hdd/eric/.conda/envs/prob_v2/lib/python3.8/site-packages (from scikit-image>=0.21.0->albumentations) (3.0)\n",
      "Requirement already satisfied: pillow>=9.0.1 in /mnt/hdd/eric/.conda/envs/prob_v2/lib/python3.8/site-packages (from scikit-image>=0.21.0->albumentations) (9.5.0)\n",
      "Collecting imageio>=2.27 (from scikit-image>=0.21.0->albumentations)\n",
      "  Obtaining dependency information for imageio>=2.27 from https://files.pythonhosted.org/packages/3d/84/f1647217231f6cc46883e5d26e870cc3e1520d458ecd52d6df750810d53c/imageio-2.34.2-py3-none-any.whl.metadata\n",
      "  Downloading imageio-2.34.2-py3-none-any.whl.metadata (4.9 kB)\n",
      "Requirement already satisfied: tifffile>=2022.8.12 in /mnt/hdd/eric/.conda/envs/prob_v2/lib/python3.8/site-packages (from scikit-image>=0.21.0->albumentations) (2023.7.10)\n",
      "Collecting PyWavelets>=1.1.1 (from scikit-image>=0.21.0->albumentations)\n",
      "  Obtaining dependency information for PyWavelets>=1.1.1 from https://files.pythonhosted.org/packages/88/4b/b2b2a6f51e47c091c221bfde976a01a7e5f20e7e5e6341b2b9c4db73d2ed/PyWavelets-1.4.1-cp38-cp38-manylinux_2_17_x86_64.manylinux2014_x86_64.whl.metadata\n",
      "  Using cached PyWavelets-1.4.1-cp38-cp38-manylinux_2_17_x86_64.manylinux2014_x86_64.whl.metadata (1.9 kB)\n",
      "Requirement already satisfied: packaging>=21 in /mnt/hdd/eric/.local/lib/python3.8/site-packages (from scikit-image>=0.21.0->albumentations) (23.1)\n",
      "Requirement already satisfied: lazy_loader>=0.2 in /mnt/hdd/eric/.conda/envs/prob_v2/lib/python3.8/site-packages (from scikit-image>=0.21.0->albumentations) (0.3)\n",
      "Requirement already satisfied: joblib>=1.1.1 in /mnt/hdd/eric/.conda/envs/prob_v2/lib/python3.8/site-packages (from scikit-learn>=1.3.2->albumentations) (1.3.2)\n",
      "Requirement already satisfied: threadpoolctl>=2.0.0 in /mnt/hdd/eric/.conda/envs/prob_v2/lib/python3.8/site-packages (from scikit-learn>=1.3.2->albumentations) (3.2.0)\n",
      "Downloading albumentations-1.4.10-py3-none-any.whl (161 kB)\n",
      "\u001b[2K   \u001b[90m━━━━━━━━━━━━━━━━━━━━━━━━━━━━━━━━━━━━━━━━\u001b[0m \u001b[32m161.9/161.9 kB\u001b[0m \u001b[31m1.9 MB/s\u001b[0m eta \u001b[36m0:00:00\u001b[0ma \u001b[36m0:00:01\u001b[0m\n",
      "\u001b[?25hDownloading albucore-0.0.12-py3-none-any.whl (8.4 kB)\n",
      "Downloading opencv_python_headless-4.10.0.84-cp37-abi3-manylinux_2_17_x86_64.manylinux2014_x86_64.whl (49.9 MB)\n",
      "\u001b[2K   \u001b[90m━━━━━━━━━━━━━━━━━━━━━━━━━━━━━━━━━━━━━━━━\u001b[0m \u001b[32m49.9/49.9 MB\u001b[0m \u001b[31m16.1 MB/s\u001b[0m eta \u001b[36m0:00:00\u001b[0m00:01\u001b[0m00:01\u001b[0m\n",
      "\u001b[?25hDownloading pydantic-2.8.0-py3-none-any.whl (423 kB)\n",
      "\u001b[2K   \u001b[90m━━━━━━━━━━━━━━━━━━━━━━━━━━━━━━━━━━━━━━━━\u001b[0m \u001b[32m423.1/423.1 kB\u001b[0m \u001b[31m10.2 MB/s\u001b[0m eta \u001b[36m0:00:00\u001b[0m00:01\u001b[0m\n",
      "\u001b[?25hDownloading pydantic_core-2.20.0-cp38-cp38-manylinux_2_17_x86_64.manylinux2014_x86_64.whl (2.1 MB)\n",
      "\u001b[2K   \u001b[90m━━━━━━━━━━━━━━━━━━━━━━━━━━━━━━━━━━━━━━━━\u001b[0m \u001b[32m2.1/2.1 MB\u001b[0m \u001b[31m13.7 MB/s\u001b[0m eta \u001b[36m0:00:00\u001b[0m00:01\u001b[0m00:01\u001b[0mm\n",
      "\u001b[?25hUsing cached scikit_image-0.21.0-cp38-cp38-manylinux_2_17_x86_64.manylinux2014_x86_64.whl (13.9 MB)\n",
      "Using cached typing_extensions-4.12.2-py3-none-any.whl (37 kB)\n",
      "Using cached annotated_types-0.7.0-py3-none-any.whl (13 kB)\n",
      "Downloading imageio-2.34.2-py3-none-any.whl (313 kB)\n",
      "\u001b[2K   \u001b[90m━━━━━━━━━━━━━━━━━━━━━━━━━━━━━━━━━━━━━━━━\u001b[0m \u001b[32m313.5/313.5 kB\u001b[0m \u001b[31m9.9 MB/s\u001b[0m eta \u001b[36m0:00:00\u001b[0m\n",
      "\u001b[?25hUsing cached PyWavelets-1.4.1-cp38-cp38-manylinux_2_17_x86_64.manylinux2014_x86_64.whl (6.9 MB)\n",
      "Installing collected packages: typing-extensions, PyWavelets, opencv-python-headless, imageio, scikit-image, pydantic-core, annotated-types, albucore, pydantic, albumentations\n",
      "  Attempting uninstall: typing-extensions\n",
      "    Found existing installation: typing_extensions 4.8.0\n",
      "    Uninstalling typing_extensions-4.8.0:\n",
      "      Successfully uninstalled typing_extensions-4.8.0\n",
      "\u001b[31mERROR: pip's dependency resolver does not currently take into account all the packages that are installed. This behaviour is the source of the following dependency conflicts.\n",
      "hydra-zen 0.10.1 requires hydra-core>=1.1.0, which is not installed.\n",
      "eotdl 2024.5.2 requires pydantic<2.0.0,>=1.10.6, but you have pydantic 2.8.0 which is incompatible.\u001b[0m\u001b[31m\n",
      "\u001b[0mSuccessfully installed PyWavelets-1.4.1 albucore-0.0.12 albumentations-1.4.10 annotated-types-0.7.0 imageio-2.34.2 opencv-python-headless-4.10.0.84 pydantic-2.8.0 pydantic-core-2.20.0 scikit-image-0.21.0 typing-extensions-4.12.2\n",
      "Collecting easydict\n",
      "  Obtaining dependency information for easydict from https://files.pythonhosted.org/packages/05/ec/fa6963f1198172c2b75c9ab6ecefb3045991f92f75f5eb41b6621b198123/easydict-1.13-py3-none-any.whl.metadata\n",
      "  Using cached easydict-1.13-py3-none-any.whl.metadata (4.2 kB)\n",
      "Using cached easydict-1.13-py3-none-any.whl (6.8 kB)\n",
      "Installing collected packages: easydict\n",
      "Successfully installed easydict-1.13\n"
     ]
    }
   ],
   "source": [
    "# 기타 라이브러리 \n",
    "!pip install shapely\n",
    "!pip install albumentations\n",
    "!pip install easydict"
   ]
  }
 ],
 "metadata": {
  "kernelspec": {
   "display_name": "8.tmp",
   "language": "python",
   "name": "python3"
  },
  "language_info": {
   "codemirror_mode": {
    "name": "ipython",
    "version": 3
   },
   "file_extension": ".py",
   "mimetype": "text/x-python",
   "name": "python",
   "nbconvert_exporter": "python",
   "pygments_lexer": "ipython3",
   "version": "3.8.18"
  }
 },
 "nbformat": 4,
 "nbformat_minor": 2
}
