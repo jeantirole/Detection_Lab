{
 "cells": [
  {
   "cell_type": "code",
   "execution_count": 1,
   "metadata": {},
   "outputs": [
    {
     "name": "stdout",
     "output_type": "stream",
     "text": [
      "/mnt/hdd/eric/.tmp_ipy/15.Lab_Detection/06.Gits/05.OWOD/02.DOTA_Processing/coco2VOC\n"
     ]
    }
   ],
   "source": [
    "%cd /mnt/hdd/eric/.tmp_ipy/15.Lab_Detection/06.Gits/05.OWOD/02.DOTA_Processing/coco2VOC"
   ]
  },
  {
   "cell_type": "code",
   "execution_count": 4,
   "metadata": {},
   "outputs": [
    {
     "name": "stdout",
     "output_type": "stream",
     "text": [
      "Collecting pascal-voc-writer\n",
      "  Obtaining dependency information for pascal-voc-writer from https://files.pythonhosted.org/packages/9d/82/dd86999e6062fc34478f11ead7a68e6615d7e270b39624547edd1dbaba76/pascal_voc_writer-0.1.4-py2.py3-none-any.whl.metadata\n",
      "  Downloading pascal_voc_writer-0.1.4-py2.py3-none-any.whl.metadata (1.3 kB)\n",
      "Requirement already satisfied: jinja2 in /mnt/hdd/eric/.conda/envs/prob_v2/lib/python3.8/site-packages (from pascal-voc-writer) (3.1.3)\n",
      "Requirement already satisfied: MarkupSafe>=2.0 in /mnt/hdd/eric/.conda/envs/prob_v2/lib/python3.8/site-packages/MarkupSafe-2.1.3-py3.8-linux-x86_64.egg (from jinja2->pascal-voc-writer) (2.1.3)\n",
      "Downloading pascal_voc_writer-0.1.4-py2.py3-none-any.whl (4.0 kB)\n",
      "Installing collected packages: pascal-voc-writer\n",
      "Successfully installed pascal-voc-writer-0.1.4\n"
     ]
    }
   ],
   "source": [
    "!pip install pascal-voc-writer"
   ]
  },
  {
   "cell_type": "code",
   "execution_count": 5,
   "metadata": {},
   "outputs": [
    {
     "name": "stdout",
     "output_type": "stream",
     "text": [
      "loading annotations into memory...\n",
      "Done (t=2.74s)\n",
      "creating index...\n",
      "index created!\n"
     ]
    }
   ],
   "source": [
    "%%bash\n",
    "\n",
    "python coco2voc.py --ann_file /mnt/hdd/eric/.tmp_ipy/00.Data/DOTA_dataset/split_ss_dota/ss_train_coco.json --output_dir /mnt/hdd/eric/.tmp_ipy/00.Data/DOTA_dataset/split_ss_dota/train_anns_voc"
   ]
  },
  {
   "cell_type": "code",
   "execution_count": 7,
   "metadata": {},
   "outputs": [
    {
     "name": "stdout",
     "output_type": "stream",
     "text": [
      "loading annotations into memory...\n",
      "Done (t=0.71s)\n",
      "creating index...\n",
      "index created!\n"
     ]
    }
   ],
   "source": [
    "%%bash\n",
    "\n",
    "python coco2voc.py --ann_file /mnt/hdd/eric/.tmp_ipy/00.Data/DOTA_dataset/split_ss_dota/ss_val_coco.json --output_dir /mnt/hdd/eric/.tmp_ipy/00.Data/DOTA_dataset/split_ss_dota/valid_anns_voc"
   ]
  },
  {
   "cell_type": "code",
   "execution_count": null,
   "metadata": {},
   "outputs": [],
   "source": []
  }
 ],
 "metadata": {
  "kernelspec": {
   "display_name": "prob_v2",
   "language": "python",
   "name": "python3"
  },
  "language_info": {
   "codemirror_mode": {
    "name": "ipython",
    "version": 3
   },
   "file_extension": ".py",
   "mimetype": "text/x-python",
   "name": "python",
   "nbconvert_exporter": "python",
   "pygments_lexer": "ipython3",
   "version": "3.8.18"
  }
 },
 "nbformat": 4,
 "nbformat_minor": 2
}
