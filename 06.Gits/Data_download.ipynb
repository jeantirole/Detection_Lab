{
 "cells": [
  {
   "cell_type": "code",
   "execution_count": 1,
   "metadata": {},
   "outputs": [
    {
     "name": "stdout",
     "output_type": "stream",
     "text": [
      "'Tutorial-Book-Utils'에 복제합니다...\n",
      "remote: Enumerating objects: 45, done.\u001b[K\n",
      "remote: Counting objects: 100% (45/45), done.\u001b[K\n",
      "remote: Compressing objects: 100% (39/39), done.\u001b[K\n",
      "remote: Total 45 (delta 18), reused 17 (delta 5), pack-reused 0\u001b[K\n",
      "오브젝트 묶음 푸는 중: 100% (45/45), 11.60 KiB | 224.00 KiB/s, 완료.\n",
      "Access denied with the following error:\n",
      "\n",
      " \tCannot retrieve the public link of the file. You may need to change\n",
      "\tthe permission to 'Anyone with the link', or have had many accesses. \n",
      "\n",
      "You may still be able to access the file from the browser:\n",
      "\n",
      "\t https://drive.google.com/uc?id=16Gzn1w38yZLJpzmzKcRIRveFeHZtCEr7 \n",
      "\n",
      "Face Mask Detection.zip download complete!\n",
      "unzip:  cannot find or open Face Mask Detection.zip, Face Mask Detection.zip.zip or Face Mask Detection.zip.ZIP.\n"
     ]
    }
   ],
   "source": [
    "!git clone https://github.com/Pseudo-Lab/Tutorial-Book-Utils\n",
    "!python Tutorial-Book-Utils/PL_data_loader.py --data FaceMaskDetection\n",
    "!unzip -q Face\\ Mask\\ Detection.zip"
   ]
  },
  {
   "cell_type": "code",
   "execution_count": 3,
   "metadata": {},
   "outputs": [],
   "source": [
    "# import os\n",
    "# import random\n",
    "# import numpy as np\n",
    "# import shutil\n",
    "\n",
    "# print(len(os.listdir('/mnt/hdd/eric/.tmp_ipy/00.Data/FaceMaskDetection/annotations')))\n",
    "# print(len(os.listdir('/mnt/hdd/eric/.tmp_ipy/00.Data/FaceMaskDetection/images')))\n",
    "\n",
    "# !mkdir test_images\n",
    "# !mkdir test_annotations\n",
    "\n",
    "\n",
    "# random.seed(1234)\n",
    "# idx = random.sample(range(853), 170)\n",
    "\n",
    "# for img in np.array(sorted(os.listdir('images')))[idx]:\n",
    "#     shutil.move('images/'+img, 'test_images/'+img)\n",
    "\n",
    "# for annot in np.array(sorted(os.listdir('annotations')))[idx]:\n",
    "#     shutil.move('annotations/'+annot, 'test_annotations/'+annot)\n",
    "\n",
    "# print(len(os.listdir('annotations')))\n",
    "# print(len(os.listdir('images')))\n",
    "# print(len(os.listdir('test_annotations')))\n",
    "# print(len(os.listdir('test_images')))"
   ]
  },
  {
   "cell_type": "code",
   "execution_count": null,
   "metadata": {},
   "outputs": [],
   "source": []
  }
 ],
 "metadata": {
  "kernelspec": {
   "display_name": "a.samrs",
   "language": "python",
   "name": "python3"
  },
  "language_info": {
   "codemirror_mode": {
    "name": "ipython",
    "version": 3
   },
   "file_extension": ".py",
   "mimetype": "text/x-python",
   "name": "python",
   "nbconvert_exporter": "python",
   "pygments_lexer": "ipython3",
   "version": "3.8.17"
  }
 },
 "nbformat": 4,
 "nbformat_minor": 2
}
