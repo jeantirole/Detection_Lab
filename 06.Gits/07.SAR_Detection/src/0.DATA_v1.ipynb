{
 "cells": [
  {
   "cell_type": "code",
   "execution_count": 1,
   "metadata": {},
   "outputs": [],
   "source": [
    "data_root = \"/mnt/hdd/eric/.tmp_ipy/00.Data/SAR\""
   ]
  },
  {
   "cell_type": "code",
   "execution_count": 2,
   "metadata": {},
   "outputs": [],
   "source": [
    "# need to coco to voc "
   ]
  },
  {
   "cell_type": "code",
   "execution_count": 10,
   "metadata": {},
   "outputs": [
    {
     "name": "stdout",
     "output_type": "stream",
     "text": [
      "test2017.json  train2017.json  train_test2017.json\n"
     ]
    }
   ],
   "source": [
    "!ls /mnt/hdd/eric/.tmp_ipy/00.Data/SAR/annotations"
   ]
  },
  {
   "cell_type": "code",
   "execution_count": 3,
   "metadata": {},
   "outputs": [
    {
     "name": "stdout",
     "output_type": "stream",
     "text": [
      "/mnt/hdd/eric/.tmp_ipy/15.Lab_Detection/06.Gits/07.SAR_Detection/src\n"
     ]
    }
   ],
   "source": [
    "!pwd"
   ]
  },
  {
   "cell_type": "code",
   "execution_count": 4,
   "metadata": {},
   "outputs": [
    {
     "name": "stdout",
     "output_type": "stream",
     "text": [
      "Cloning into 'coco2VOC'...\n",
      "remote: Enumerating objects: 28, done.\u001b[K\n",
      "remote: Counting objects: 100% (28/28), done.\u001b[K\n",
      "remote: Compressing objects: 100% (22/22), done.\u001b[K\n",
      "remote: Total 28 (delta 9), reused 25 (delta 6), pack-reused 0\u001b[K\n",
      "Unpacking objects: 100% (28/28), 7.82 KiB | 728.00 KiB/s, done.\n"
     ]
    }
   ],
   "source": [
    "!git clone https://github.com/KapilM26/coco2VOC.git"
   ]
  },
  {
   "cell_type": "code",
   "execution_count": 5,
   "metadata": {},
   "outputs": [
    {
     "name": "stdout",
     "output_type": "stream",
     "text": [
      "/mnt/hdd/eric/.tmp_ipy/15.Lab_Detection/06.Gits/07.SAR_Detection/src/coco2VOC\n"
     ]
    }
   ],
   "source": [
    "%cd /mnt/hdd/eric/.tmp_ipy/15.Lab_Detection/06.Gits/07.SAR_Detection/src/coco2VOC"
   ]
  },
  {
   "cell_type": "code",
   "execution_count": 13,
   "metadata": {},
   "outputs": [
    {
     "name": "stdout",
     "output_type": "stream",
     "text": [
      "loading annotations into memory...\n",
      "Done (t=0.43s)\n",
      "creating index...\n",
      "index created!\n"
     ]
    }
   ],
   "source": [
    "# python coco2voc.py --ann_file <path to annotations file> --output_dir <path to output directory>\n",
    "\n",
    "!python coco2voc.py --ann_file /mnt/hdd/eric/.tmp_ipy/00.Data/SAR/annotations/train2017.json --output_dir /mnt/hdd/eric/.tmp_ipy/00.Data/SAR/annotations_voc"
   ]
  },
  {
   "cell_type": "code",
   "execution_count": null,
   "metadata": {},
   "outputs": [],
   "source": []
  }
 ],
 "metadata": {
  "kernelspec": {
   "display_name": "mapv2",
   "language": "python",
   "name": "python3"
  },
  "language_info": {
   "codemirror_mode": {
    "name": "ipython",
    "version": 3
   },
   "file_extension": ".py",
   "mimetype": "text/x-python",
   "name": "python",
   "nbconvert_exporter": "python",
   "pygments_lexer": "ipython3",
   "version": "3.8.18"
  }
 },
 "nbformat": 4,
 "nbformat_minor": 2
}
