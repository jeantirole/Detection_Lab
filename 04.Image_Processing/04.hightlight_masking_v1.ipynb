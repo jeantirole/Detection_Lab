{
 "cells": [
  {
   "cell_type": "markdown",
   "metadata": {},
   "source": [
    "# Create Algo"
   ]
  },
  {
   "cell_type": "code",
   "execution_count": 22,
   "metadata": {},
   "outputs": [],
   "source": [
    "def get_gaussian_pixels(box,img_size): # [w, h, cw, ch]\n",
    "    \n",
    "    w,h,cw,ch = box[0],box[1],box[2],box[3]\n",
    "    mx = img_size[0]\n",
    "    my = img_size[1]\n",
    "    \n",
    "    r = max(w,h)\n",
    "    a = cw \n",
    "    b = ch\n",
    "    tmp = []\n",
    "    for x in range(0,mx):\n",
    "        for y in range(0,my):\n",
    "                \n",
    "            if ( np.square(x - a) + np.square(y - b) ) <= np.square(r) :\n",
    "                tmp.append([x,y])\n",
    "                \n",
    "    return tmp "
   ]
  },
  {
   "cell_type": "code",
   "execution_count": 23,
   "metadata": {},
   "outputs": [],
   "source": [
    "from PIL import Image, ImageEnhance\n",
    "import numpy as np\n",
    "import matplotlib.pyplot as plt\n",
    "\n",
    "# Load the image using PIL\n",
    "\n",
    "path_ = \"/mnt/hdd/eric/.tmp_ipy/15.Lab_Detection/04.Image_Processing/AO_Data/0-Pusan-2023-AO_1_C1_20221227015155_09806_00006119_L1G.png\"\n",
    "img = Image.open(path_)\n",
    "#plt.imshow(img)"
   ]
  },
  {
   "cell_type": "code",
   "execution_count": 24,
   "metadata": {},
   "outputs": [],
   "source": [
    "# Load Boxes \n",
    "path_np = \"/mnt/hdd/eric/.tmp_ipy/15.Lab_Detection/04.Image_Processing/AO_Data_Bbox/0-Pusan-2023-AO_1_C1_20221227015155_09806_00006119_L1G.npy\"\n",
    "\n",
    "bboxes = np.load(path_np)\n",
    "bboxes = bboxes[0]"
   ]
  },
  {
   "cell_type": "code",
   "execution_count": 25,
   "metadata": {},
   "outputs": [
    {
     "data": {
      "text/plain": [
       "(201, 6)"
      ]
     },
     "execution_count": 25,
     "metadata": {},
     "output_type": "execute_result"
    }
   ],
   "source": [
    "bboxes.shape"
   ]
  },
  {
   "cell_type": "code",
   "execution_count": 26,
   "metadata": {},
   "outputs": [
    {
     "data": {
      "text/plain": [
       "6062.7476"
      ]
     },
     "execution_count": 26,
     "metadata": {},
     "output_type": "execute_result"
    }
   ],
   "source": [
    "bboxes[0][0] # x y w h a p "
   ]
  },
  {
   "cell_type": "code",
   "execution_count": 27,
   "metadata": {},
   "outputs": [],
   "source": [
    "#--------------------------------------\n",
    "# create box \n",
    "img_array = np.array(img)\n",
    "imgshape = img_array.shape\n",
    "tmps = [get_gaussian_pixels(box, imgshape) for box in bboxes]\n",
    "\n",
    "#--------------------------------------\n",
    "# create mask \n",
    "mask = np.ones_like(img_array, dtype=bool)\n",
    "mask = mask.astype(np.uint8) * 255\n",
    "\n",
    "#--------------------------------------\n",
    "# apply circle to mask \n",
    "for tmp in tmps:\n",
    "    for pix in tmp:\n",
    "        mask[ pix[0], pix[1] ] = False\n",
    " \n",
    "\n",
    "mask_img = Image.fromarray(mask)\n",
    "\n",
    "# Convert the mask back to PIL Image\n",
    "mask_img = Image.fromarray(mask)\n",
    "\n",
    "# Apply the brightness enhancement to the masked region\n",
    "enhancer = ImageEnhance.Brightness(img)\n",
    "enhanced_img = enhancer.enhance(0.5)\n",
    "\n",
    "# Paste the enhanced region onto the original image using the mask\n",
    "result = Image.composite(enhanced_img, img, mask_img)\n",
    "\n",
    "# Display the result\n",
    "plt.figure(figsize=(8,8))\n",
    "plt.imshow(result)\n",
    "plt.show()"
   ]
  }
 ],
 "metadata": {
  "kernelspec": {
   "display_name": "8.tmp",
   "language": "python",
   "name": "python3"
  },
  "language_info": {
   "codemirror_mode": {
    "name": "ipython",
    "version": 3
   },
   "file_extension": ".py",
   "mimetype": "text/x-python",
   "name": "python",
   "nbconvert_exporter": "python",
   "pygments_lexer": "ipython3",
   "version": "3.8.17"
  }
 },
 "nbformat": 4,
 "nbformat_minor": 2
}
