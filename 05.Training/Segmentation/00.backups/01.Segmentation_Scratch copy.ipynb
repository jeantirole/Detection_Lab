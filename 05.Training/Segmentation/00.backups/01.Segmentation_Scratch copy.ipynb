{
 "cells": [
  {
   "cell_type": "code",
   "execution_count": 1,
   "metadata": {},
   "outputs": [],
   "source": [
    "import torch\n",
    "import os\n",
    "import numpy as np\n",
    "import matplotlib.pyplot as plt\n",
    "import cv2\n",
    "from albumentations import *\n",
    "from torchvision import transforms\n",
    "from torch.utils.data import DataLoader\n",
    "from glob import glob\n",
    "import segmentation_models_pytorch as smp\n",
    "import torch.nn as nn \n",
    "import torch.nn.functional as F\n",
    "from tqdm import tqdm \n",
    "import logging\n",
    "from tqdm import tqdm\n",
    "from PIL import Image\n",
    "\n",
    "import tensorflow as tf\n",
    "import tensorflow_datasets as tfds"
   ]
  },
  {
   "cell_type": "code",
   "execution_count": 8,
   "metadata": {},
   "outputs": [
    {
     "name": "stdout",
     "output_type": "stream",
     "text": [
      "The autoreload extension is already loaded. To reload it, use:\n",
      "  %reload_ext autoreload\n"
     ]
    }
   ],
   "source": [
    "%load_ext autoreload\n",
    "%autoreload 2\n",
    "\n",
    "import utils_rs\n",
    "import dataset_rs"
   ]
  },
  {
   "cell_type": "code",
   "execution_count": 25,
   "metadata": {},
   "outputs": [
    {
     "data": {
      "text/plain": [
       "170"
      ]
     },
     "execution_count": 25,
     "metadata": {},
     "output_type": "execute_result"
    }
   ],
   "source": [
    "len(masks_array)"
   ]
  },
  {
   "cell_type": "code",
   "execution_count": 37,
   "metadata": {},
   "outputs": [],
   "source": [
    "unqs= []\n",
    "for map in masks_array:\n",
    "    for m in np.unique(map):\n",
    "        unqs.append( m)\n",
    "unqs_ = set(unqs)"
   ]
  },
  {
   "cell_type": "code",
   "execution_count": 38,
   "metadata": {},
   "outputs": [
    {
     "data": {
      "text/plain": [
       "{0, 1, 2, 3, 4, 5, 6, 7, 8}"
      ]
     },
     "execution_count": 38,
     "metadata": {},
     "output_type": "execute_result"
    }
   ],
   "source": [
    "unqs_"
   ]
  },
  {
   "cell_type": "code",
   "execution_count": 28,
   "metadata": {},
   "outputs": [
    {
     "data": {
      "text/plain": [
       "[array([0, 1], dtype=uint8),\n",
       " array([0, 1], dtype=uint8),\n",
       " array([0, 1, 2], dtype=uint8),\n",
       " array([0, 1], dtype=uint8),\n",
       " array([0, 1, 2, 3, 4, 5], dtype=uint8),\n",
       " array([0, 1], dtype=uint8),\n",
       " array([0, 1, 2], dtype=uint8),\n",
       " array([0, 1, 2, 3, 4], dtype=uint8),\n",
       " array([0, 1], dtype=uint8),\n",
       " array([0, 1], dtype=uint8),\n",
       " array([0, 1, 2, 3], dtype=uint8),\n",
       " array([0, 1, 2, 3, 4], dtype=uint8),\n",
       " array([0, 1, 2, 3], dtype=uint8),\n",
       " array([0, 1], dtype=uint8),\n",
       " array([0, 1, 2, 3], dtype=uint8),\n",
       " array([0, 1], dtype=uint8),\n",
       " array([0, 1, 2, 3], dtype=uint8),\n",
       " array([0, 1], dtype=uint8),\n",
       " array([0, 1], dtype=uint8),\n",
       " array([0, 1, 2, 3, 4, 5, 6, 7], dtype=uint8),\n",
       " array([0, 1, 2, 3], dtype=uint8),\n",
       " array([0, 1, 2, 3], dtype=uint8),\n",
       " array([0, 1, 2, 3, 4, 5], dtype=uint8),\n",
       " array([0, 1], dtype=uint8),\n",
       " array([0, 1, 2], dtype=uint8),\n",
       " array([0, 1, 2, 3, 4], dtype=uint8),\n",
       " array([0, 1], dtype=uint8),\n",
       " array([0, 1], dtype=uint8),\n",
       " array([0, 1, 2, 3, 4], dtype=uint8),\n",
       " array([0, 1, 2], dtype=uint8),\n",
       " array([0, 1], dtype=uint8),\n",
       " array([0, 1, 2, 3], dtype=uint8),\n",
       " array([0, 1, 2, 3, 4, 5], dtype=uint8),\n",
       " array([0, 1], dtype=uint8),\n",
       " array([0, 1, 2, 3], dtype=uint8),\n",
       " array([0, 1, 2], dtype=uint8),\n",
       " array([0, 1], dtype=uint8),\n",
       " array([0, 1, 2, 3], dtype=uint8),\n",
       " array([0, 1, 2, 3, 4, 5], dtype=uint8),\n",
       " array([0, 1], dtype=uint8),\n",
       " array([0, 1, 2, 3], dtype=uint8),\n",
       " array([0, 1, 2, 3], dtype=uint8),\n",
       " array([0, 1], dtype=uint8),\n",
       " array([0, 1, 2, 3, 4, 5], dtype=uint8),\n",
       " array([0, 1, 2, 3, 4], dtype=uint8),\n",
       " array([0, 1, 2, 3, 4], dtype=uint8),\n",
       " array([0, 1, 2], dtype=uint8),\n",
       " array([0, 1, 2], dtype=uint8),\n",
       " array([0, 1], dtype=uint8),\n",
       " array([0, 1, 2, 3], dtype=uint8),\n",
       " array([0, 1, 2], dtype=uint8),\n",
       " array([0, 1, 2], dtype=uint8),\n",
       " array([0, 1, 2], dtype=uint8),\n",
       " array([0, 1, 2, 3, 4, 5], dtype=uint8),\n",
       " array([0, 1, 2, 3, 4, 5, 6], dtype=uint8),\n",
       " array([0, 1, 2, 3], dtype=uint8),\n",
       " array([0, 1, 2], dtype=uint8),\n",
       " array([0, 1], dtype=uint8),\n",
       " array([0, 1, 2, 3, 4], dtype=uint8),\n",
       " array([0, 1, 2, 3], dtype=uint8),\n",
       " array([0, 1, 2], dtype=uint8),\n",
       " array([0, 1, 2, 3], dtype=uint8),\n",
       " array([0, 1, 2, 3], dtype=uint8),\n",
       " array([0, 1, 2], dtype=uint8),\n",
       " array([0, 1, 2], dtype=uint8),\n",
       " array([0, 1], dtype=uint8),\n",
       " array([0, 1], dtype=uint8),\n",
       " array([0, 1, 2], dtype=uint8),\n",
       " array([0, 1], dtype=uint8),\n",
       " array([0, 1, 2], dtype=uint8),\n",
       " array([0, 1, 2, 3], dtype=uint8),\n",
       " array([0, 1, 2, 3], dtype=uint8),\n",
       " array([0, 1, 2], dtype=uint8),\n",
       " array([0, 1], dtype=uint8),\n",
       " array([0, 1, 2, 3, 4, 5], dtype=uint8),\n",
       " array([0, 1, 2, 3, 4], dtype=uint8),\n",
       " array([0, 1], dtype=uint8),\n",
       " array([0, 1, 2, 3], dtype=uint8),\n",
       " array([0, 1, 2, 3], dtype=uint8),\n",
       " array([0, 1, 2, 3], dtype=uint8),\n",
       " array([0, 1, 2], dtype=uint8),\n",
       " array([0, 1, 2, 3, 4, 5], dtype=uint8),\n",
       " array([0, 1], dtype=uint8),\n",
       " array([0, 1], dtype=uint8),\n",
       " array([0, 1, 2], dtype=uint8),\n",
       " array([0, 1, 2], dtype=uint8),\n",
       " array([0, 1, 2, 3], dtype=uint8),\n",
       " array([0, 1, 2, 3], dtype=uint8),\n",
       " array([0, 1, 2, 3, 4, 5], dtype=uint8),\n",
       " array([0, 1, 2], dtype=uint8),\n",
       " array([0, 1, 2], dtype=uint8),\n",
       " array([0, 1, 2, 3], dtype=uint8),\n",
       " array([0, 1, 2, 3, 4, 5], dtype=uint8),\n",
       " array([0, 1], dtype=uint8),\n",
       " array([0, 1], dtype=uint8),\n",
       " array([0, 1], dtype=uint8),\n",
       " array([0, 1, 2], dtype=uint8),\n",
       " array([0, 1], dtype=uint8),\n",
       " array([0, 1, 2], dtype=uint8),\n",
       " array([0, 1], dtype=uint8),\n",
       " array([0, 1, 2], dtype=uint8),\n",
       " array([0, 1, 2], dtype=uint8),\n",
       " array([0, 1], dtype=uint8),\n",
       " array([0, 1, 2, 3], dtype=uint8),\n",
       " array([0, 1, 2], dtype=uint8),\n",
       " array([0, 1], dtype=uint8),\n",
       " array([0, 1], dtype=uint8),\n",
       " array([0, 1, 2, 3], dtype=uint8),\n",
       " array([0, 1, 2, 3, 4, 5, 6], dtype=uint8),\n",
       " array([0, 1], dtype=uint8),\n",
       " array([0, 1, 2, 3, 4, 5, 6], dtype=uint8),\n",
       " array([0, 1], dtype=uint8),\n",
       " array([0, 1, 2, 3, 4], dtype=uint8),\n",
       " array([0, 1], dtype=uint8),\n",
       " array([0, 1, 2, 3], dtype=uint8),\n",
       " array([0, 1, 2], dtype=uint8),\n",
       " array([0, 1], dtype=uint8),\n",
       " array([0, 1, 2], dtype=uint8),\n",
       " array([0, 1], dtype=uint8),\n",
       " array([0, 1], dtype=uint8),\n",
       " array([0, 1, 2], dtype=uint8),\n",
       " array([0, 1, 2, 3, 4], dtype=uint8),\n",
       " array([0, 1, 2], dtype=uint8),\n",
       " array([0, 1], dtype=uint8),\n",
       " array([0, 1], dtype=uint8),\n",
       " array([0, 1, 2, 3, 4], dtype=uint8),\n",
       " array([0, 1, 2, 3], dtype=uint8),\n",
       " array([0, 1], dtype=uint8),\n",
       " array([0, 1, 2], dtype=uint8),\n",
       " array([0, 1, 2, 3], dtype=uint8),\n",
       " array([0, 1, 2, 3], dtype=uint8),\n",
       " array([0, 1], dtype=uint8),\n",
       " array([0, 1, 2], dtype=uint8),\n",
       " array([0, 1, 2, 3, 4, 5, 6], dtype=uint8),\n",
       " array([0, 1, 2], dtype=uint8),\n",
       " array([0, 1], dtype=uint8),\n",
       " array([0, 1], dtype=uint8),\n",
       " array([0, 1], dtype=uint8),\n",
       " array([0, 1, 2], dtype=uint8),\n",
       " array([0, 1, 2, 3, 4], dtype=uint8),\n",
       " array([0, 1, 2, 3, 4], dtype=uint8),\n",
       " array([0, 1, 2, 3], dtype=uint8),\n",
       " array([0, 1, 2, 3], dtype=uint8),\n",
       " array([0, 1], dtype=uint8),\n",
       " array([0, 1, 2, 3, 4, 5, 6, 7], dtype=uint8),\n",
       " array([0, 1, 2, 3], dtype=uint8),\n",
       " array([0, 1], dtype=uint8),\n",
       " array([0, 1, 2, 3, 4], dtype=uint8),\n",
       " array([0, 1], dtype=uint8),\n",
       " array([0, 1, 2, 3], dtype=uint8),\n",
       " array([0, 1], dtype=uint8),\n",
       " array([0, 1, 2, 3], dtype=uint8),\n",
       " array([0, 1, 2, 3, 4, 5, 6, 7, 8], dtype=uint8),\n",
       " array([0, 1, 2], dtype=uint8),\n",
       " array([0, 1, 2], dtype=uint8),\n",
       " array([0, 1, 2, 3, 4, 5], dtype=uint8),\n",
       " array([0, 1, 2], dtype=uint8),\n",
       " array([0, 1, 2, 3, 4, 5], dtype=uint8),\n",
       " array([0, 1, 2], dtype=uint8),\n",
       " array([0, 1], dtype=uint8),\n",
       " array([0, 1, 2, 3, 4], dtype=uint8),\n",
       " array([0, 1], dtype=uint8),\n",
       " array([0, 1, 2], dtype=uint8),\n",
       " array([0, 1, 2, 3, 4], dtype=uint8),\n",
       " array([0, 1], dtype=uint8),\n",
       " array([0, 1], dtype=uint8),\n",
       " array([0, 1], dtype=uint8),\n",
       " array([0, 1], dtype=uint8),\n",
       " array([0, 1, 2, 3, 4, 5, 6], dtype=uint8),\n",
       " array([0, 1, 2, 3, 4], dtype=uint8)]"
      ]
     },
     "execution_count": 28,
     "metadata": {},
     "output_type": "execute_result"
    }
   ],
   "source": [
    "unqs"
   ]
  },
  {
   "cell_type": "code",
   "execution_count": 36,
   "metadata": {},
   "outputs": [
    {
     "data": {
      "text/plain": [
       "<matplotlib.image.AxesImage at 0x7f053bd5c0d0>"
      ]
     },
     "execution_count": 36,
     "metadata": {},
     "output_type": "execute_result"
    },
    {
     "data": {
      "image/png": "[encoded data removed]",
      "text/plain": [
       "<Figure size 640x480 with 1 Axes>"
      ]
     },
     "metadata": {},
     "output_type": "display_data"
    }
   ],
   "source": [
    "plt.imshow(masks_array[7])"
   ]
  },
  {
   "cell_type": "code",
   "execution_count": null,
   "metadata": {},
   "outputs": [],
   "source": []
  },
  {
   "cell_type": "code",
   "execution_count": null,
   "metadata": {},
   "outputs": [],
   "source": []
  },
  {
   "cell_type": "code",
   "execution_count": 12,
   "metadata": {},
   "outputs": [],
   "source": [
    "def collate_fn(batch):\n",
    "    images = []\n",
    "    targets = []\n",
    "    for a, b in batch:\n",
    "        \n",
    "        images.append(a)\n",
    "        targets.append(b)\n",
    "    images = torch.stack(images, dim=0)\n",
    "    targets = torch.stack(targets, dim=0)\n",
    "\n",
    "    return images, targets"
   ]
  },
  {
   "cell_type": "code",
   "execution_count": 13,
   "metadata": {},
   "outputs": [],
   "source": [
    "img_path = \"/mnt/hdd/eric/.tmp_ipy/15.Lab_Detection/01.Models/04.SAM_fine/0.data/01.512_imgs\"\n",
    "mask_path = \"/mnt/hdd/eric/.tmp_ipy/15.Lab_Detection/01.Models/04.SAM_fine/0.data/02.512_masks\"\n",
    "\n",
    "tr_dataset = building_dataset(img_dir=img_path, mask_dir=mask_path, phase=\"train\")\n",
    "val_dataset = building_dataset(img_dir=img_path,mask_dir=mask_path, phase=\"val\")"
   ]
  },
  {
   "cell_type": "code",
   "execution_count": 14,
   "metadata": {},
   "outputs": [],
   "source": [
    "model = smp.DeepLabV3Plus(\n",
    "    encoder_name=\"resnet152\",        # choose encoder, e.g. mobilenet_v2 or efficientnet-b7\n",
    "    encoder_weights=\"imagenet\",     # use `imagenet` pre-trained weights for encoder initialization\n",
    "    in_channels=3,                  # model input channels (1 for gray-scale images, 3 for RGB, etc.)\n",
    "    classes=16,                      # model output channels (number of classes in your dataset)\n",
    ")"
   ]
  },
  {
   "cell_type": "code",
   "execution_count": 15,
   "metadata": {},
   "outputs": [
    {
     "data": {
      "text/plain": [
       "torch.Size([3, 224, 224])"
      ]
     },
     "execution_count": 15,
     "metadata": {},
     "output_type": "execute_result"
    }
   ],
   "source": [
    "tr_dataset.__getitem__(0)[0].shape"
   ]
  },
  {
   "cell_type": "code",
   "execution_count": 16,
   "metadata": {},
   "outputs": [],
   "source": [
    "img = tr_dataset.__getitem__(0)[0]\n",
    "img = img.unsqueeze(0)\n",
    "\n",
    "target = tr_dataset.__getitem__(0)[1]\n",
    "target = target.unsqueeze(0)\n",
    "\n",
    "model.eval()\n",
    "pred = model(img)\n",
    "\n",
    "loss = nn.CrossEntropyLoss(reduction='mean')\n",
    "output_ = loss(pred,target)"
   ]
  },
  {
   "cell_type": "code",
   "execution_count": 17,
   "metadata": {},
   "outputs": [
    {
     "data": {
      "text/plain": [
       "tensor(2.8170, grad_fn=<NllLoss2DBackward0>)"
      ]
     },
     "execution_count": 17,
     "metadata": {},
     "output_type": "execute_result"
    }
   ],
   "source": [
    "output_"
   ]
  },
  {
   "cell_type": "code",
   "execution_count": 18,
   "metadata": {},
   "outputs": [],
   "source": [
    "class UNet_metric():\n",
    "    def __init__(self, num_classes):\n",
    "        self.num_classes = num_classes\n",
    "        self.CE_loss = nn.CrossEntropyLoss(reduction=\"mean\") # \"mean\" or \"sum\"\n",
    "\n",
    "    def __call__(self, pred, target):\n",
    "        # cross-entropy\n",
    "        loss1 = self.CE_loss(pred, target)\n",
    "        \n",
    "        # dice-coefficient\n",
    "        onehot_pred = F.one_hot(torch.argmax(pred, dim=1), num_classes=self.num_classes).permute(0, 3, 1, 2) \n",
    "        onehot_target = F.one_hot(target, num_classes=self.num_classes).permute(0, 3, 1, 2)\n",
    "        loss2 = self._get_dice_loss(onehot_pred, onehot_target)\n",
    "        \n",
    "        # total loss\n",
    "        loss = loss1 + loss2\n",
    "\n",
    "        # dice score\n",
    "        dice_coefficient = self._get_batch_dice_coefficient(onehot_pred, onehot_target)\n",
    "        return loss, dice_coefficient\n",
    "\n",
    "    def _get_dice_coeffient(self, pred, target):\n",
    "        set_inter = torch.dot(pred.reshape(-1).float(), target.reshape(-1).float())\n",
    "        set_sum = pred.sum() + target.sum()\n",
    "        if set_sum.item() == 0:\n",
    "            set_sum = 2 * set_inter\n",
    "        dice_coeff = (2 * set_inter) / (set_sum + 1e-9)\n",
    "        return dice_coeff\n",
    "\n",
    "    def _get_multiclass_dice_coefficient(self, pred, target):\n",
    "        dice = 0\n",
    "        for class_index in range(1, self.num_classes):\n",
    "            dice += self._get_dice_coeffient(pred[class_index], target[class_index])\n",
    "        return dice / (self.num_classes - 1)\n",
    "\n",
    "    def _get_batch_dice_coefficient(self, pred, target):\n",
    "        num_batch = pred.shape[0]\n",
    "        dice = 0\n",
    "        for batch_index in range(num_batch):\n",
    "            dice += self._get_multiclass_dice_coefficient(pred[batch_index], target[batch_index])\n",
    "        return dice / num_batch\n",
    "\n",
    "    def _get_dice_loss(self, pred, target):\n",
    "        return 1 - self._get_batch_dice_coefficient(pred, target)"
   ]
  },
  {
   "cell_type": "code",
   "execution_count": 19,
   "metadata": {},
   "outputs": [],
   "source": [
    "unet_metric = UNet_metric(16)"
   ]
  },
  {
   "cell_type": "code",
   "execution_count": 20,
   "metadata": {},
   "outputs": [
    {
     "data": {
      "text/plain": [
       "(tensor(3.8170, grad_fn=<AddBackward0>), tensor(0.))"
      ]
     },
     "execution_count": 20,
     "metadata": {},
     "output_type": "execute_result"
    }
   ],
   "source": [
    "unet_metric( pred, target)"
   ]
  },
  {
   "cell_type": "code",
   "execution_count": 22,
   "metadata": {},
   "outputs": [],
   "source": [
    "#-- args\n",
    "BATCH_SIZE = 4\n",
    "\n",
    "\n",
    "#-- logger\n",
    "logging.basicConfig(filename='./01.log/model_v1.log', level=logging.INFO, format='%(asctime)s - %(levelname)s - %(message)s')\n",
    "logger = logging.getLogger(__name__)\n",
    "\n",
    "#-- datasets \n",
    "train_dataset = building_dataset(img_dir=img_path, mask_dir=mask_path, phase=\"train\" )\n",
    "train_loader  = DataLoader(train_dataset, batch_size=BATCH_SIZE, shuffle=True, collate_fn=collate_fn)\n",
    "\n",
    "valid_dataset = building_dataset(img_dir=img_path,mask_dir=mask_path, phase=\"val\" )\n",
    "valid_loader = DataLoader(valid_dataset, batch_size=2, shuffle=False, collate_fn=collate_fn)\n",
    "\n",
    "data_loader= {}\n",
    "data_loader[\"train\"] = train_loader\n",
    "data_loader[\"valid\"] = valid_loader"
   ]
  },
  {
   "cell_type": "code",
   "execution_count": 23,
   "metadata": {},
   "outputs": [
    {
     "data": {
      "text/plain": [
       "7381"
      ]
     },
     "execution_count": 23,
     "metadata": {},
     "output_type": "execute_result"
    }
   ],
   "source": [
    "len(train_loader)"
   ]
  },
  {
   "cell_type": "code",
   "execution_count": 28,
   "metadata": {},
   "outputs": [
    {
     "data": {
      "text/plain": [
       "7380.5"
      ]
     },
     "execution_count": 28,
     "metadata": {},
     "output_type": "execute_result"
    }
   ],
   "source": [
    "len(glob(os.path.join(img_path,\"*.png\"))) / 4"
   ]
  },
  {
   "cell_type": "code",
   "execution_count": 33,
   "metadata": {},
   "outputs": [
    {
     "name": "stdout",
     "output_type": "stream",
     "text": [
      "epoch : 0 , iter : 0 , total_iter : 3691 , running_loss : 3.0274264812469482\n",
      "epoch : 0 , iter : 100 , total_iter : 3691 , running_loss : 2.888401376138819\n",
      "epoch : 0 , iter : 200 , total_iter : 3691 , running_loss : 2.7335412431119095\n",
      "epoch : 0 , iter : 300 , total_iter : 3691 , running_loss : 2.53403531990178\n",
      "epoch : 0 , iter : 400 , total_iter : 3691 , running_loss : 2.3427370724238066\n",
      "epoch : 0 , iter : 500 , total_iter : 3691 , running_loss : 2.1750047214016943\n",
      "epoch : 0 , iter : 600 , total_iter : 3691 , running_loss : 2.0314430680727207\n",
      "epoch : 0 , iter : 700 , total_iter : 3691 , running_loss : 1.9096435046570108\n",
      "epoch : 0 , iter : 800 , total_iter : 3691 , running_loss : 1.8031475929434082\n",
      "epoch : 0 , iter : 900 , total_iter : 3691 , running_loss : 1.7076176323583732\n",
      "epoch : 0 , iter : 1000 , total_iter : 3691 , running_loss : 1.6232063040866718\n",
      "epoch : 0 , iter : 1100 , total_iter : 3691 , running_loss : 1.547762386480534\n",
      "epoch : 0 , iter : 1200 , total_iter : 3691 , running_loss : 1.4789068797645124\n",
      "epoch : 0 , iter : 1300 , total_iter : 3691 , running_loss : 1.4168130219395028\n",
      "epoch : 0 , iter : 1400 , total_iter : 3691 , running_loss : 1.3583828877288049\n",
      "epoch : 0 , iter : 1500 , total_iter : 3691 , running_loss : 1.3051944299787779\n",
      "epoch : 0 , iter : 1600 , total_iter : 3691 , running_loss : 1.2556482533564202\n",
      "epoch : 0 , iter : 1700 , total_iter : 3691 , running_loss : 1.2103971225559396\n",
      "epoch : 0 , iter : 1800 , total_iter : 3691 , running_loss : 1.1677252433983105\n",
      "epoch : 0 , iter : 1900 , total_iter : 3691 , running_loss : 1.1284917941506067\n",
      "epoch : 0 , iter : 2000 , total_iter : 3691 , running_loss : 1.0914500785106305\n",
      "epoch : 0 , iter : 2100 , total_iter : 3691 , running_loss : 1.0581297669905472\n",
      "epoch : 0 , iter : 2200 , total_iter : 3691 , running_loss : 1.0253368505547125\n",
      "epoch : 0 , iter : 2300 , total_iter : 3691 , running_loss : 0.9953046943029079\n",
      "epoch : 0 , iter : 2400 , total_iter : 3691 , running_loss : 0.9666335318720077\n",
      "epoch : 0 , iter : 2500 , total_iter : 3691 , running_loss : 0.939779923742459\n",
      "epoch : 0 , iter : 2600 , total_iter : 3691 , running_loss : 0.914239697539316\n",
      "epoch : 0 , iter : 2700 , total_iter : 3691 , running_loss : 0.8909610218690175\n",
      "epoch : 0 , iter : 2800 , total_iter : 3691 , running_loss : 0.8691582330600656\n",
      "epoch : 0 , iter : 2900 , total_iter : 3691 , running_loss : 0.8482158612337904\n",
      "epoch : 0 , iter : 3000 , total_iter : 3691 , running_loss : 0.8277333047798339\n",
      "epoch : 0 , iter : 3100 , total_iter : 3691 , running_loss : 0.8083431484458217\n",
      "epoch : 0 , iter : 3200 , total_iter : 3691 , running_loss : 0.7903846402846624\n",
      "epoch : 0 , iter : 3300 , total_iter : 3691 , running_loss : 0.7737682086613928\n",
      "epoch : 0 , iter : 3400 , total_iter : 3691 , running_loss : 0.7576348764826816\n",
      "epoch : 0 , iter : 3500 , total_iter : 3691 , running_loss : 0.7427175856235027\n",
      "epoch : 0 , iter : 3600 , total_iter : 3691 , running_loss : 0.7277062669131564\n",
      "epoch : 1 , iter : 0 , total_iter : 3691 , running_loss : 0.13580116629600525\n",
      "epoch : 1 , iter : 100 , total_iter : 3691 , running_loss : 0.21067311813925751\n",
      "epoch : 1 , iter : 200 , total_iter : 3691 , running_loss : 0.20281466200428816\n",
      "epoch : 1 , iter : 300 , total_iter : 3691 , running_loss : 0.20021077567259735\n",
      "epoch : 1 , iter : 400 , total_iter : 3691 , running_loss : 0.19484418485675964\n",
      "epoch : 1 , iter : 500 , total_iter : 3691 , running_loss : 0.19048261953268697\n",
      "epoch : 1 , iter : 600 , total_iter : 3691 , running_loss : 0.18763177745205392\n",
      "epoch : 1 , iter : 700 , total_iter : 3691 , running_loss : 0.1842585755950544\n",
      "epoch : 1 , iter : 800 , total_iter : 3691 , running_loss : 0.18171484595380918\n",
      "epoch : 1 , iter : 900 , total_iter : 3691 , running_loss : 0.18228311134248013\n",
      "epoch : 1 , iter : 1000 , total_iter : 3691 , running_loss : 0.18068802573687429\n",
      "epoch : 1 , iter : 1100 , total_iter : 3691 , running_loss : 0.1759747851210275\n",
      "epoch : 1 , iter : 1200 , total_iter : 3691 , running_loss : 0.17348398467670076\n",
      "epoch : 1 , iter : 1300 , total_iter : 3691 , running_loss : 0.17233310920185624\n",
      "epoch : 1 , iter : 1400 , total_iter : 3691 , running_loss : 0.171211845268742\n",
      "epoch : 1 , iter : 1500 , total_iter : 3691 , running_loss : 0.1686267144556128\n",
      "epoch : 1 , iter : 1600 , total_iter : 3691 , running_loss : 0.16689470926908162\n",
      "epoch : 1 , iter : 1700 , total_iter : 3691 , running_loss : 0.1652029762301881\n",
      "epoch : 1 , iter : 1800 , total_iter : 3691 , running_loss : 0.16334660246612495\n",
      "epoch : 1 , iter : 1900 , total_iter : 3691 , running_loss : 0.16266197961672302\n",
      "epoch : 1 , iter : 2000 , total_iter : 3691 , running_loss : 0.16188241115983934\n",
      "epoch : 1 , iter : 2100 , total_iter : 3691 , running_loss : 0.1606589517671826\n",
      "epoch : 1 , iter : 2200 , total_iter : 3691 , running_loss : 0.15893928597815357\n",
      "epoch : 1 , iter : 2300 , total_iter : 3691 , running_loss : 0.1581004939743458\n",
      "epoch : 1 , iter : 2400 , total_iter : 3691 , running_loss : 0.1567979993400277\n",
      "epoch : 1 , iter : 2500 , total_iter : 3691 , running_loss : 0.15523653711806365\n",
      "epoch : 1 , iter : 2600 , total_iter : 3691 , running_loss : 0.15359930031184896\n",
      "epoch : 1 , iter : 2700 , total_iter : 3691 , running_loss : 0.15245591181474166\n",
      "epoch : 1 , iter : 2800 , total_iter : 3691 , running_loss : 0.1514682001728526\n",
      "epoch : 1 , iter : 2900 , total_iter : 3691 , running_loss : 0.15059490960768093\n",
      "epoch : 1 , iter : 3000 , total_iter : 3691 , running_loss : 0.14903688868796355\n",
      "epoch : 1 , iter : 3100 , total_iter : 3691 , running_loss : 0.1477720446179458\n",
      "epoch : 1 , iter : 3200 , total_iter : 3691 , running_loss : 0.14673645859680226\n",
      "epoch : 1 , iter : 3300 , total_iter : 3691 , running_loss : 0.14563346764716603\n",
      "epoch : 1 , iter : 3400 , total_iter : 3691 , running_loss : 0.14388138793356295\n",
      "epoch : 1 , iter : 3500 , total_iter : 3691 , running_loss : 0.14280592123569505\n"
     ]
    }
   ],
   "source": [
    "#-- args\n",
    "import datetime\n",
    "\n",
    "EXEC_VER = 5 \n",
    "BATCH_SIZE = 8\n",
    "DEVICE = \"cuda:0\"\n",
    "\n",
    "#-- logger\n",
    "# Set up logging\n",
    "log_filename = datetime.datetime.now().strftime(f'./01.log/ver_{EXEC_VER}_%Y-%m-%d_%H-%M-%S.log')\n",
    "logging.basicConfig(level=logging.INFO, format='%(asctime)s - %(levelname)s - %(message)s')\n",
    "logger = logging.getLogger(__name__)\n",
    "handler = logging.FileHandler(log_filename)\n",
    "logger.addHandler(handler)\n",
    "\n",
    "#-- datasets \n",
    "train_dataset = building_dataset(img_dir=img_path, mask_dir=mask_path, phase=\"train\" )\n",
    "train_loader  = DataLoader(train_dataset, batch_size=BATCH_SIZE, shuffle=True, collate_fn=collate_fn)\n",
    "\n",
    "valid_dataset = building_dataset(img_dir=img_path,mask_dir=mask_path, phase=\"val\" )\n",
    "valid_loader = DataLoader(valid_dataset, batch_size=2, shuffle=False, collate_fn=collate_fn)\n",
    "\n",
    "data_loader= {}\n",
    "data_loader[\"train\"] = train_loader\n",
    "data_loader[\"valid\"] = valid_loader\n",
    "\n",
    "#-- model \n",
    "model = smp.DeepLabV3Plus(\n",
    "    encoder_name=\"resnet152\",        # choose encoder, e.g. mobilenet_v2 or efficientnet-b7\n",
    "    encoder_weights=\"imagenet\",     # use `imagenet` pre-trained weights for encoder initialization\n",
    "    in_channels=3,                  # model input channels (1 for gray-scale images, 3 for RGB, etc.)\n",
    "    classes=16,                      # model output channels (number of classes in your dataset)\n",
    ")\n",
    "\n",
    "model = model.to(DEVICE)\n",
    "\n",
    "#-- loss \n",
    "criterion = nn.CrossEntropyLoss()\n",
    "\n",
    "#-- optimizer\n",
    "optimizer = torch.optim.AdamW(model.parameters(), lr=1e-5)\n",
    "\n",
    "# run\n",
    "epochs = 999\n",
    "iteration = 0\n",
    "total_loss = 0\n",
    "\n",
    "for epoch in range(epochs):\n",
    "    \n",
    "    iteration = 0\n",
    "    epoch_running_loss = 0 \n",
    "    \n",
    "    #tqdm_iterator = tqdm(data_loader[\"train\"], desc=f\"Epoch {epoch}\")\n",
    "    \n",
    "    for index, data in enumerate(data_loader[\"train\"]):\n",
    "        \n",
    "        imgs, masks = data\n",
    "        imgs, masks = imgs.to(DEVICE), masks.to(DEVICE)\n",
    "        \n",
    "        # opt\n",
    "        optimizer.zero_grad()\n",
    "        \n",
    "        # runs\n",
    "        outputs = model(imgs)\n",
    "        \n",
    "        # loss\n",
    "        loss = criterion(outputs, masks)\n",
    "        loss.backward()\n",
    "        optimizer.step()\n",
    "        \n",
    "        # stat\n",
    "        epoch_running_loss += loss.item()\n",
    "\n",
    "        # log\n",
    "        logger.info(f\"epoch : {epoch} iter : {index} loss: {loss:.8f}\")\n",
    "        log = {'loss': f'{loss / 10:.8f}' }\n",
    "        #wandb.log(log)\n",
    "\n",
    "        log_iter = 100\n",
    "        \n",
    "        if (index % log_iter) == 0:    # print every 2000 mini-batches\n",
    "            print(f\"epoch : {epoch} , iter : {index} , total_iter : {len(data_loader['train'])} , running_loss : {epoch_running_loss / (index +1)}\")\n",
    "        \n",
    "    \n",
    "    #-- save \n",
    "    save_path = f\"./02.ckpts/model_ver_{EXEC_VER}_{epoch + 1}.pt\"\n",
    "    torch.save(model.state_dict(), save_path)"
   ]
  }
 ],
 "metadata": {
  "kernelspec": {
   "display_name": "8.tmp.copied",
   "language": "python",
   "name": "python3"
  },
  "language_info": {
   "codemirror_mode": {
    "name": "ipython",
    "version": 3
   },
   "file_extension": ".py",
   "mimetype": "text/x-python",
   "name": "python",
   "nbconvert_exporter": "python",
   "pygments_lexer": "ipython3",
   "version": "3.8.17"
  }
 },
 "nbformat": 4,
 "nbformat_minor": 2
}
