{
 "cells": [
  {
   "cell_type": "code",
   "execution_count": 82,
   "metadata": {},
   "outputs": [],
   "source": [
    "num_of_house = 4\n",
    "list_of_house = [5 ,1 ,7 ,9,10,11,12]"
   ]
  },
  {
   "cell_type": "code",
   "execution_count": null,
   "metadata": {},
   "outputs": [],
   "source": []
  },
  {
   "cell_type": "code",
   "execution_count": 83,
   "metadata": {},
   "outputs": [],
   "source": [
    "list_of_house = sorted(list_of_house)"
   ]
  },
  {
   "cell_type": "code",
   "execution_count": 84,
   "metadata": {},
   "outputs": [],
   "source": [
    "h_max = max(list_of_house)\n",
    "h_min = min(list_of_house)"
   ]
  },
  {
   "cell_type": "code",
   "execution_count": 85,
   "metadata": {},
   "outputs": [
    {
     "data": {
      "text/plain": [
       "[1, 5, 7, 9, 10, 11, 12]"
      ]
     },
     "execution_count": 85,
     "metadata": {},
     "output_type": "execute_result"
    }
   ],
   "source": [
    "list_of_house"
   ]
  },
  {
   "cell_type": "code",
   "execution_count": 86,
   "metadata": {},
   "outputs": [],
   "source": [
    "def get_dist(index_):\n",
    "    value = list_of_house[index_]\n",
    "    dist = sum([abs(value-i) for i in list_of_house])\n",
    "    return dist"
   ]
  },
  {
   "cell_type": "code",
   "execution_count": 96,
   "metadata": {},
   "outputs": [
    {
     "name": "stdout",
     "output_type": "stream",
     "text": [
      "0\n",
      "48\n",
      "1\n",
      "28\n",
      "2\n",
      "22\n",
      "3\n",
      "20\n",
      "4\n",
      "21\n",
      "5\n",
      "24\n",
      "6\n",
      "29\n"
     ]
    }
   ],
   "source": [
    "cnt= 0\n",
    "for i in range(len(list_of_house)):\n",
    "    aa= get_dist(i)\n",
    "    print(cnt)\n",
    "    print(aa)\n",
    "    cnt +=1"
   ]
  },
  {
   "cell_type": "code",
   "execution_count": 107,
   "metadata": {},
   "outputs": [
    {
     "name": "stdout",
     "output_type": "stream",
     "text": [
      "3\n",
      "this dis 20\n",
      "left_dist_ 22\n",
      "right_dist_ 21\n",
      "3\n"
     ]
    }
   ],
   "source": [
    "middle_idx = len(list_of_house)//2\n",
    "print(middle_idx)\n",
    "dist_ = get_dist(middle_idx)\n",
    "print(\"this dis\", dist_)\n",
    "\n",
    "left_idx = middle_idx - 1 \n",
    "right_idx = middle_idx + 1\n",
    "\n",
    "left_dist_ = get_dist(left_idx)\n",
    "print(\"left_dist_\", left_dist_)\n",
    "right_dist_ = get_dist(right_idx)\n",
    "print(\"right_dist_\", right_dist_)\n",
    "if left_dist_ <  dist_:\n",
    "    next_idx = middle_idx//2\n",
    "\n",
    "elif right_dist_ <  dist_:\n",
    "    next_idx = middle_idx + (right_idx - middle_idx) //2\n",
    "else:\n",
    "    next_idx = middle_idx\n",
    "print(next_idx) "
   ]
  },
  {
   "cell_type": "code",
   "execution_count": 103,
   "metadata": {},
   "outputs": [
    {
     "data": {
      "text/plain": [
       "3"
      ]
     },
     "execution_count": 103,
     "metadata": {},
     "output_type": "execute_result"
    }
   ],
   "source": [
    "next_idx"
   ]
  },
  {
   "cell_type": "code",
   "execution_count": 77,
   "metadata": {},
   "outputs": [
    {
     "ename": "NameError",
     "evalue": "name 'next_idx' is not defined",
     "output_type": "error",
     "traceback": [
      "\u001b[0;31m---------------------------------------------------------------------------\u001b[0m",
      "\u001b[0;31mNameError\u001b[0m                                 Traceback (most recent call last)",
      "Cell \u001b[0;32mIn[77], line 1\u001b[0m\n\u001b[0;32m----> 1\u001b[0m \u001b[43mnext_idx\u001b[49m\n",
      "\u001b[0;31mNameError\u001b[0m: name 'next_idx' is not defined"
     ]
    }
   ],
   "source": [
    "next_idx"
   ]
  },
  {
   "cell_type": "code",
   "execution_count": null,
   "metadata": {},
   "outputs": [],
   "source": [
    "# 분할탐색 소스코드 짜기. "
   ]
  },
  {
   "cell_type": "code",
   "execution_count": null,
   "metadata": {},
   "outputs": [],
   "source": []
  },
  {
   "cell_type": "code",
   "execution_count": 59,
   "metadata": {},
   "outputs": [
    {
     "name": "stdout",
     "output_type": "stream",
     "text": [
      "18\n",
      "10\n",
      "10\n",
      "14\n",
      "10\n"
     ]
    }
   ],
   "source": [
    "# 1 most simple , numpy 로 바꿔서 계산하기 O(n)\n",
    "import numpy as np\n",
    "#hs = np.asarray(list_of_house)\n",
    "hs = list_of_house\n",
    "min_dist =99999999\n",
    "for v in list_of_house:\n",
    "    dist = sum([abs(i-v) for i in hs])\n",
    "    print(dist)\n",
    "    if dist < min_dist:\n",
    "        min_dist = dist\n",
    "print(min_dist)"
   ]
  },
  {
   "cell_type": "code",
   "execution_count": 28,
   "metadata": {},
   "outputs": [
    {
     "name": "stdout",
     "output_type": "stream",
     "text": [
      "18\n",
      "10\n",
      "10\n",
      "14\n",
      "10\n"
     ]
    }
   ],
   "source": [
    "# 1 most simple , numpy 로 바꿔서 계산하기 O(n)\n",
    "import numpy as np\n",
    "hs = np.asarray(list_of_house)\n",
    "min_dist =99999999\n",
    "for v in list_of_house:\n",
    "    dist = sum(abs(hs-v))\n",
    "    print(dist)\n",
    "    if dist < min_dist:\n",
    "        min_dist = dist\n",
    "print(min_dist)"
   ]
  },
  {
   "cell_type": "code",
   "execution_count": 29,
   "metadata": {},
   "outputs": [
    {
     "data": {
      "text/plain": [
       "array([1, 5, 7, 9])"
      ]
     },
     "execution_count": 29,
     "metadata": {},
     "output_type": "execute_result"
    }
   ],
   "source": [
    "hs"
   ]
  },
  {
   "cell_type": "code",
   "execution_count": 18,
   "metadata": {},
   "outputs": [],
   "source": [
    "# get middle point \n",
    "middle_pt = len(list_of_house) //2     "
   ]
  },
  {
   "cell_type": "code",
   "execution_count": null,
   "metadata": {},
   "outputs": [],
   "source": [
    "min_dist = 999\n",
    "def point_cal_dist(index_pt):\n",
    "\n",
    "    mid_val = list_of_house[index_pt]\n",
    "    \n",
    "    for v in list_of_house:\n",
    "        dist_p = abs(v-mid_val)\n",
    "\n",
    "    return dist_p\n"
   ]
  },
  {
   "cell_type": "code",
   "execution_count": 19,
   "metadata": {},
   "outputs": [],
   "source": [
    "\n",
    "def point_cal_dist(index_pt):\n",
    "\n",
    "    mid_val = list_[index_pt]\n",
    "    for v in list_:\n",
    "        dist_p = abs(v-mid_val)\n",
    "        \n",
    "        if dist_p < min_dist:\n",
    "            min_dist = dist_p\n",
    "\n",
    "    left_pt  = index_pt- 1\n",
    "    right_pt = index_pt+ 1 \n",
    "    \n",
    "    left_dist = point_cal_dist(left_pt ,list_)\n",
    "    right_dist= point_cal_dist(right_pt,list_)\n",
    "\n",
    "    if left_dist < right_dist:\n",
    "        index_pt =-1\n",
    "        point_cal_dist(index_pt)\n",
    "        \n",
    "    elif left_dist > right_dist:\n",
    "        \n",
    "\n",
    "    elif left_dist == right_dist:\n",
    "        return index_pt\n",
    "\n",
    "\n",
    "    point_cal_dist(left_pt, list_) \n",
    "    point_cal_dist(right_pt, list_)\n",
    "\n",
    "\n",
    "    return dist        \n",
    "        \n",
    "    "
   ]
  },
  {
   "cell_type": "code",
   "execution_count": 20,
   "metadata": {},
   "outputs": [],
   "source": [
    "a = point_cal_dist(index_pt=middle_pt, list_=list_of_house)"
   ]
  },
  {
   "cell_type": "code",
   "execution_count": 39,
   "metadata": {},
   "outputs": [
    {
     "data": {
      "text/plain": [
       "10"
      ]
     },
     "execution_count": 39,
     "metadata": {},
     "output_type": "execute_result"
    }
   ],
   "source": [
    "a"
   ]
  },
  {
   "cell_type": "code",
   "execution_count": 46,
   "metadata": {},
   "outputs": [],
   "source": [
    "n = [int(i) for i in input().split()][0]"
   ]
  },
  {
   "cell_type": "code",
   "execution_count": 48,
   "metadata": {},
   "outputs": [
    {
     "data": {
      "text/plain": [
       "3"
      ]
     },
     "execution_count": 48,
     "metadata": {},
     "output_type": "execute_result"
    }
   ],
   "source": [
    "n"
   ]
  },
  {
   "cell_type": "code",
   "execution_count": 49,
   "metadata": {},
   "outputs": [],
   "source": [
    "array = [int(i) for i in input().split()]"
   ]
  },
  {
   "cell_type": "code",
   "execution_count": 50,
   "metadata": {},
   "outputs": [
    {
     "data": {
      "text/plain": [
       "[4, 5, 6, 7]"
      ]
     },
     "execution_count": 50,
     "metadata": {},
     "output_type": "execute_result"
    }
   ],
   "source": [
    "array"
   ]
  },
  {
   "cell_type": "code",
   "execution_count": null,
   "metadata": {},
   "outputs": [],
   "source": []
  },
  {
   "cell_type": "code",
   "execution_count": 38,
   "metadata": {},
   "outputs": [
    {
     "ename": "TypeError",
     "evalue": "'map' object cannot be interpreted as an integer",
     "output_type": "error",
     "traceback": [
      "\u001b[0;31m---------------------------------------------------------------------------\u001b[0m",
      "\u001b[0;31mTypeError\u001b[0m                                 Traceback (most recent call last)",
      "Cell \u001b[0;32mIn[38], line 1\u001b[0m\n\u001b[0;32m----> 1\u001b[0m \u001b[38;5;28;01mfor\u001b[39;00m i \u001b[38;5;129;01min\u001b[39;00m \u001b[38;5;28;43mrange\u001b[39;49m\u001b[43m(\u001b[49m\u001b[43mn\u001b[49m\u001b[43m)\u001b[49m:\n\u001b[1;32m      2\u001b[0m     \u001b[38;5;28mprint\u001b[39m(i)\n",
      "\u001b[0;31mTypeError\u001b[0m: 'map' object cannot be interpreted as an integer"
     ]
    }
   ],
   "source": [
    "for i in range(n):\n",
    "    print(i)"
   ]
  },
  {
   "cell_type": "code",
   "execution_count": 51,
   "metadata": {},
   "outputs": [
    {
     "name": "stdout",
     "output_type": "stream",
     "text": [
      "5\n"
     ]
    }
   ],
   "source": [
    "\n",
    "n = int(input())\n",
    "list_of_house = list(map(int, input().split()))\n",
    "\n",
    "\n",
    "import numpy as np\n",
    "hs = np.asarray(list_of_house)\n",
    "min_dist =99999\n",
    "min_dist_idx = 0\n",
    "for v in list_of_house:\n",
    "    dist = sum(abs(hs-v))\n",
    "    if dist < min_dist:\n",
    "        min_dist = dist\n",
    "        min_dist_idx = v\n",
    "print(min_dist_idx)"
   ]
  }
 ],
 "metadata": {
  "kernelspec": {
   "display_name": "mapv2",
   "language": "python",
   "name": "python3"
  },
  "language_info": {
   "codemirror_mode": {
    "name": "ipython",
    "version": 3
   },
   "file_extension": ".py",
   "mimetype": "text/x-python",
   "name": "python",
   "nbconvert_exporter": "python",
   "pygments_lexer": "ipython3",
   "version": "3.8.18"
  }
 },
 "nbformat": 4,
 "nbformat_minor": 2
}
