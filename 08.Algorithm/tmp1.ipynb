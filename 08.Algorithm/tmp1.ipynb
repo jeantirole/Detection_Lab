{
 "cells": [
  {
   "cell_type": "code",
   "execution_count": 40,
   "metadata": {},
   "outputs": [],
   "source": [
    "als = ['a','b','c','d','e']"
   ]
  },
  {
   "cell_type": "code",
   "execution_count": 47,
   "metadata": {},
   "outputs": [
    {
     "name": "stdout",
     "output_type": "stream",
     "text": [
      "['b', 'c', 'd', 'e']\n",
      "['a', 'c', 'd', 'e']\n",
      "['a', 'b', 'd', 'e']\n",
      "['a', 'b', 'c', 'e']\n",
      "['a', 'b', 'c', 'd']\n"
     ]
    }
   ],
   "source": [
    "# grid search \n",
    "# n 개에서 c개 뽑을 때. 순열. permutation. \n",
    "\n",
    "\n",
    "# sample case , n개에서 2개 \n",
    "\n",
    "result = []\n",
    "for i in range(len(als)):\n",
    "    als = ['a','b','c','d','e']\n",
    "    first = als.pop(i)\n",
    "    print(als)\n",
    "    for j in als:\n",
    "        second = j\n",
    "\n",
    "        result.append([first, second]) \n"
   ]
  },
  {
   "cell_type": "code",
   "execution_count": 53,
   "metadata": {},
   "outputs": [
    {
     "name": "stdout",
     "output_type": "stream",
     "text": [
      "['b', 'c', 'd', 'e']\n",
      "[0, 1, 2, 3, 4]\n",
      "['a', 'c', 'd', 'e']\n",
      "[0, 1, 2, 3, 4]\n",
      "['a', 'b', 'd', 'e']\n",
      "[0, 1, 2, 3, 4]\n",
      "['a', 'b', 'c', 'e']\n",
      "[0, 1, 2, 3, 4]\n"
     ]
    }
   ],
   "source": [
    "# n개 중에서, 3개 \n",
    "\n",
    "\n",
    "result = []\n",
    "for i in range(len(als)):\n",
    "    als = ['a','b','c','d','e']\n",
    "    first = als.pop(i)\n",
    "    print(als)\n",
    "    candidate = [q for q in range(len(als))]\n",
    "    print(candidate)\n",
    "    for j in als:\n",
    "        second = j\n",
    "\n",
    "        result.append([first, second]) \n"
   ]
  },
  {
   "cell_type": "code",
   "execution_count": 58,
   "metadata": {},
   "outputs": [],
   "source": [
    "# dfs 로 콤비네이션 태우기"
   ]
  },
  {
   "cell_type": "code",
   "execution_count": 60,
   "metadata": {},
   "outputs": [],
   "source": [
    "als = ['a','b','c','d','e']"
   ]
  },
  {
   "cell_type": "code",
   "execution_count": null,
   "metadata": {},
   "outputs": [],
   "source": [
    "length_of_list = len(als)\n",
    "\n",
    "def dfs(node):\n",
    "    print(node)\n",
    "    \n",
    "    candidate = [q for q in range(length_of_list) != node]\n",
    "    \n",
    "    dfs(candidate)\n",
    "    \n",
    "    \n",
    "    "
   ]
  },
  {
   "cell_type": "code",
   "execution_count": 43,
   "metadata": {},
   "outputs": [
    {
     "data": {
      "text/plain": [
       "20"
      ]
     },
     "execution_count": 43,
     "metadata": {},
     "output_type": "execute_result"
    }
   ],
   "source": [
    "len(result)"
   ]
  },
  {
   "cell_type": "code",
   "execution_count": 44,
   "metadata": {},
   "outputs": [],
   "source": [
    "from itertools import permutations"
   ]
  },
  {
   "cell_type": "code",
   "execution_count": 45,
   "metadata": {},
   "outputs": [],
   "source": [
    "als = ['a','b','c','d','e']\n",
    "permus = list(permutations(als, 2))"
   ]
  },
  {
   "cell_type": "code",
   "execution_count": 46,
   "metadata": {},
   "outputs": [
    {
     "data": {
      "text/plain": [
       "20"
      ]
     },
     "execution_count": 46,
     "metadata": {},
     "output_type": "execute_result"
    }
   ],
   "source": [
    "len(permus)"
   ]
  },
  {
   "cell_type": "code",
   "execution_count": 31,
   "metadata": {},
   "outputs": [
    {
     "data": {
      "text/plain": [
       "[('a', 'b'),\n",
       " ('a', 'c'),\n",
       " ('a', 'd'),\n",
       " ('a', 'e'),\n",
       " ('b', 'a'),\n",
       " ('b', 'c'),\n",
       " ('b', 'd'),\n",
       " ('b', 'e'),\n",
       " ('c', 'a'),\n",
       " ('c', 'b'),\n",
       " ('c', 'd'),\n",
       " ('c', 'e'),\n",
       " ('d', 'a'),\n",
       " ('d', 'b'),\n",
       " ('d', 'c'),\n",
       " ('d', 'e'),\n",
       " ('e', 'a'),\n",
       " ('e', 'b'),\n",
       " ('e', 'c'),\n",
       " ('e', 'd')]"
      ]
     },
     "execution_count": 31,
     "metadata": {},
     "output_type": "execute_result"
    }
   ],
   "source": [
    "permus"
   ]
  },
  {
   "cell_type": "code",
   "execution_count": 10,
   "metadata": {},
   "outputs": [
    {
     "data": {
      "text/plain": [
       "<itertools.permutations at 0x7f75457de0e0>"
      ]
     },
     "execution_count": 10,
     "metadata": {},
     "output_type": "execute_result"
    }
   ],
   "source": [
    "qww"
   ]
  },
  {
   "cell_type": "code",
   "execution_count": null,
   "metadata": {},
   "outputs": [],
   "source": [
    "# heap stack \n",
    "\n",
    "\n",
    "while True:\n",
    "    first = als.pop(0)\n",
    "    \n",
    "    "
   ]
  }
 ],
 "metadata": {
  "kernelspec": {
   "display_name": "mapv2",
   "language": "python",
   "name": "python3"
  },
  "language_info": {
   "codemirror_mode": {
    "name": "ipython",
    "version": 3
   },
   "file_extension": ".py",
   "mimetype": "text/x-python",
   "name": "python",
   "nbconvert_exporter": "python",
   "pygments_lexer": "ipython3",
   "version": "3.8.18"
  }
 },
 "nbformat": 4,
 "nbformat_minor": 2
}
