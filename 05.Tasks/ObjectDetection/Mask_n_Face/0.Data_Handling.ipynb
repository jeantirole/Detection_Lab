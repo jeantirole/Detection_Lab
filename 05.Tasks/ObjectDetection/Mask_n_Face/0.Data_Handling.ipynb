{
 "cells": [
  {
   "cell_type": "code",
   "execution_count": 22,
   "metadata": {},
   "outputs": [],
   "source": [
    "# Download Dataset From \n",
    "\n",
    "# https://pseudo-lab.github.io/Tutorial-Book/chapters/object-detection/Ch5-Faster-R-CNN.html"
   ]
  },
  {
   "cell_type": "code",
   "execution_count": 25,
   "metadata": {},
   "outputs": [],
   "source": [
    "import os\n",
    "import random\n",
    "import numpy as np\n",
    "import shutil\n",
    "from glob import glob\n",
    "\n",
    "data_path = \"/mnt/hdd/eric/.tmp_ipy/00.Data/FaceMaskDetection\"\n",
    "\n",
    "img_path = os.path.join(data_path, 'images')\n",
    "ann_path = os.path.join(data_path, 'annotations')"
   ]
  },
  {
   "cell_type": "code",
   "execution_count": 26,
   "metadata": {},
   "outputs": [],
   "source": [
    "img_list = glob(os.path.join(img_path, \"*.png\"))\n",
    "ann_list = glob(os.path.join(ann_path, \"*.xml\"))"
   ]
  },
  {
   "cell_type": "code",
   "execution_count": 27,
   "metadata": {},
   "outputs": [
    {
     "data": {
      "text/plain": [
       "(853, 853)"
      ]
     },
     "execution_count": 27,
     "metadata": {},
     "output_type": "execute_result"
    }
   ],
   "source": [
    "len(img_list), len(ann_list)"
   ]
  },
  {
   "cell_type": "code",
   "execution_count": 28,
   "metadata": {},
   "outputs": [],
   "source": [
    "random.seed(1234)\n",
    "idx = random.sample(range(853), 170)\n",
    "\n",
    "\n",
    "for id, img_file in enumerate(sorted(img_list)):\n",
    "    if id in idx:\n",
    "        test_img_file = img_file.replace(\"images\",\"test_images\")\n",
    "        shutil.move(img_file, test_img_file)\n",
    "        #print(test_img_file)\n",
    "        \n",
    "\n",
    "\n",
    "for id, ann_file in enumerate(sorted(ann_list)):\n",
    "    if id in idx:\n",
    "        test_ann_file = ann_file.replace(\"annotations\",\"test_annotations\")\n",
    "        shutil.move(ann_file, test_ann_file)\n",
    "        #print(test_ann_file)"
   ]
  },
  {
   "cell_type": "code",
   "execution_count": 29,
   "metadata": {},
   "outputs": [
    {
     "data": {
      "text/plain": [
       "170"
      ]
     },
     "execution_count": 29,
     "metadata": {},
     "output_type": "execute_result"
    }
   ],
   "source": [
    "len(os.listdir(\"/mnt/hdd/eric/.tmp_ipy/00.Data/FaceMaskDetection/test_images\"))"
   ]
  },
  {
   "cell_type": "code",
   "execution_count": 31,
   "metadata": {},
   "outputs": [
    {
     "data": {
      "text/plain": [
       "170"
      ]
     },
     "execution_count": 31,
     "metadata": {},
     "output_type": "execute_result"
    }
   ],
   "source": [
    "len(os.listdir(\"/mnt/hdd/eric/.tmp_ipy/00.Data/FaceMaskDetection/test_annotations\"))"
   ]
  },
  {
   "cell_type": "code",
   "execution_count": 34,
   "metadata": {},
   "outputs": [
    {
     "data": {
      "text/plain": [
       "['maksssksksss102.png',\n",
       " 'maksssksksss104.png',\n",
       " 'maksssksksss110.png',\n",
       " 'maksssksksss112.png',\n",
       " 'maksssksksss113.png']"
      ]
     },
     "execution_count": 34,
     "metadata": {},
     "output_type": "execute_result"
    }
   ],
   "source": [
    "sorted(os.listdir(\"/mnt/hdd/eric/.tmp_ipy/00.Data/FaceMaskDetection/test_images\"))[0:5]"
   ]
  },
  {
   "cell_type": "code",
   "execution_count": 35,
   "metadata": {},
   "outputs": [
    {
     "data": {
      "text/plain": [
       "['maksssksksss102.xml',\n",
       " 'maksssksksss104.xml',\n",
       " 'maksssksksss110.xml',\n",
       " 'maksssksksss112.xml',\n",
       " 'maksssksksss113.xml']"
      ]
     },
     "execution_count": 35,
     "metadata": {},
     "output_type": "execute_result"
    }
   ],
   "source": [
    "sorted(os.listdir(\"/mnt/hdd/eric/.tmp_ipy/00.Data/FaceMaskDetection/test_annotations\"))[0:5]"
   ]
  }
 ],
 "metadata": {
  "kernelspec": {
   "display_name": "a.samrs",
   "language": "python",
   "name": "python3"
  },
  "language_info": {
   "codemirror_mode": {
    "name": "ipython",
    "version": 3
   },
   "file_extension": ".py",
   "mimetype": "text/x-python",
   "name": "python",
   "nbconvert_exporter": "python",
   "pygments_lexer": "ipython3",
   "version": "3.8.-1"
  }
 },
 "nbformat": 4,
 "nbformat_minor": 2
}
