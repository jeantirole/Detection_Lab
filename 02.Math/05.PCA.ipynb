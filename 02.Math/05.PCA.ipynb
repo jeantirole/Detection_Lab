{
 "cells": [
  {
   "cell_type": "markdown",
   "metadata": {},
   "source": [
    "# PCA \n",
    "\n",
    "1) covariance Matrix \n",
    "2) eigen value \n",
    "3) eigen vector"
   ]
  },
  {
   "cell_type": "code",
   "execution_count": 5,
   "metadata": {},
   "outputs": [],
   "source": [
    "import numpy as np\n",
    "import matplotlib.pyplot as plt "
   ]
  },
  {
   "cell_type": "code",
   "execution_count": 6,
   "metadata": {},
   "outputs": [],
   "source": [
    "# Sample Data \n",
    "X = [[1,2],[3,3],[3,5],[5,4],[5,6],[6,5],[8,7],[9,8]]"
   ]
  },
  {
   "cell_type": "code",
   "execution_count": null,
   "metadata": {},
   "outputs": [],
   "source": []
  },
  {
   "cell_type": "code",
   "execution_count": null,
   "metadata": {},
   "outputs": [],
   "source": [
    "def fun(a,b,c):\n",
    "    D=b*b-4*a*c\n",
    "    if D>0:\n",
    "        x1=round((-b-D**0.5)/2*a)\n",
    "        x2=round((-b+D**0.5)/2*a)\n",
    "        print(\"x\",\"=\",x1,\",\",x2)\n",
    "    elif D==0:\n",
    "        x=round(-b/2*a)\n",
    "        print(\"중근입니다\")\n",
    "        print(\"x\",\"=\",x)\n",
    "    else:\n",
    "        print(\"허근입니다\")"
   ]
  }
 ],
 "metadata": {
  "kernelspec": {
   "display_name": "8.tmp",
   "language": "python",
   "name": "python3"
  },
  "language_info": {
   "codemirror_mode": {
    "name": "ipython",
    "version": 3
   },
   "file_extension": ".py",
   "mimetype": "text/x-python",
   "name": "python",
   "nbconvert_exporter": "python",
   "pygments_lexer": "ipython3",
   "version": "3.8.17"
  }
 },
 "nbformat": 4,
 "nbformat_minor": 2
}
