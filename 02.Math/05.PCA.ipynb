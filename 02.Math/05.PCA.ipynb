{
 "cells": [
  {
   "cell_type": "markdown",
   "metadata": {},
   "source": [
    "# PCA \n",
    "\n",
    "1) covariance Matrix \n",
    "2) eigen value \n",
    "3) eigen vector"
   ]
  },
  {
   "cell_type": "code",
   "execution_count": 5,
   "metadata": {},
   "outputs": [],
   "source": [
    "import numpy as np\n",
    "import matplotlib.pyplot as plt "
   ]
  },
  {
   "cell_type": "code",
   "execution_count": 6,
   "metadata": {},
   "outputs": [],
   "source": [
    "# Sample Data \n",
    "X = [[1,2],[3,3],[3,5],[5,4],[5,6],[6,5],[8,7],[9,8]]"
   ]
  },
  {
   "cell_type": "code",
   "execution_count": 8,
   "metadata": {},
   "outputs": [
    {
     "data": {
      "image/png": "[encoded data removed]",
      "text/plain": [
       "<Figure size 640x480 with 1 Axes>"
      ]
     },
     "metadata": {},
     "output_type": "display_data"
    }
   ],
   "source": [
    "# Show Scatter\n",
    "\n",
    "# Extracting x and y coordinates\n",
    "x_coords = [point[0] for point in X]\n",
    "y_coords = [point[1] for point in X]\n",
    "\n",
    "# Create scatter plot\n",
    "plt.scatter(x_coords, y_coords)\n",
    "\n",
    "# Adding labels and title\n",
    "\n",
    "plt.grid(True)\n",
    "plt.xlabel('X-axis')\n",
    "plt.ylabel('Y-axis')\n",
    "plt.title('Scatter Plot')\n",
    "\n",
    "# Show plot\n",
    "plt.show()"
   ]
  },
  {
   "cell_type": "markdown",
   "metadata": {},
   "source": [
    "# Covariance Matrix\n",
    "\n",
    "- equation : Σ"
   ]
  },
  {
   "cell_type": "code",
   "execution_count": 35,
   "metadata": {},
   "outputs": [],
   "source": [
    "X_ = np.asanyarray(X)"
   ]
  },
  {
   "cell_type": "code",
   "execution_count": 36,
   "metadata": {},
   "outputs": [
    {
     "data": {
      "text/plain": [
       "(8, 2)"
      ]
     },
     "execution_count": 36,
     "metadata": {},
     "output_type": "execute_result"
    }
   ],
   "source": [
    "X_.shape"
   ]
  },
  {
   "cell_type": "code",
   "execution_count": 46,
   "metadata": {},
   "outputs": [],
   "source": [
    "means_= np.asanyarray( [np.mean(X_[:,i]) for i in range(X_.shape[1])] ) "
   ]
  },
  {
   "cell_type": "code",
   "execution_count": 47,
   "metadata": {},
   "outputs": [
    {
     "data": {
      "text/plain": [
       "array([5., 5.])"
      ]
     },
     "execution_count": 47,
     "metadata": {},
     "output_type": "execute_result"
    }
   ],
   "source": [
    "means_"
   ]
  },
  {
   "cell_type": "code",
   "execution_count": 48,
   "metadata": {},
   "outputs": [],
   "source": [
    "tmp_ = np.asanyarray( [X_[:,i] - means_[i] for i in range(X_.shape[1])] )"
   ]
  },
  {
   "cell_type": "code",
   "execution_count": 49,
   "metadata": {},
   "outputs": [
    {
     "data": {
      "text/plain": [
       "(2, 8)"
      ]
     },
     "execution_count": 49,
     "metadata": {},
     "output_type": "execute_result"
    }
   ],
   "source": [
    "tmp_.shape"
   ]
  },
  {
   "cell_type": "code",
   "execution_count": 50,
   "metadata": {},
   "outputs": [],
   "source": [
    "a = tmp_ @ np.transpose(tmp_) "
   ]
  },
  {
   "cell_type": "code",
   "execution_count": 51,
   "metadata": {},
   "outputs": [
    {
     "data": {
      "text/plain": [
       "(2, 2)"
      ]
     },
     "execution_count": 51,
     "metadata": {},
     "output_type": "execute_result"
    }
   ],
   "source": [
    "a.shape"
   ]
  },
  {
   "cell_type": "code",
   "execution_count": 52,
   "metadata": {},
   "outputs": [],
   "source": [
    "a_ = a / X_.shape[0] "
   ]
  },
  {
   "cell_type": "code",
   "execution_count": 53,
   "metadata": {},
   "outputs": [
    {
     "data": {
      "text/plain": [
       "array([[6.25, 4.25],\n",
       "       [4.25, 3.5 ]])"
      ]
     },
     "execution_count": 53,
     "metadata": {},
     "output_type": "execute_result"
    }
   ],
   "source": [
    "a_"
   ]
  },
  {
   "cell_type": "markdown",
   "metadata": {},
   "source": [
    "# Eigen Value \n",
    "\n",
    "- equation : - A⋅v=λ⋅v\n",
    "- 위의 공식의 A를 공분산 행렬로 두고 정리하면은 \n",
    "- Σ⋅v = λ⋅v\n",
    "  => Σ⋅v - λ⋅v = 0   \n",
    "  => (Σ-λ) ⋅ v = 0  \n",
    "  (A*B =0 에서) v 가 0이 아니라면  \n",
    "  => Σ-λ⋅I = 0 \n",
    "\n",
    "  => determinant of (Σ-λ⋅I)  \n",
    "     ref: ad-bc   \n",
    "    = (a-lambda)(d-lambda) - b⋅c = 0 \n",
    "\n",
    "  => 위의 lambda 에 대한 2차 방정식을 풀면은 dimension 만큼의 고유값(λ)들을 얻을 수 있다.   \n",
    "  => 다시, 고유값 벡터에 대한 정의로 돌아가서 λ 값들을 아래의 공식에 대입해서 고유값 벡터 (v) 들을 구해주면 된다.   \n",
    "  => Σ⋅v - λ⋅v = 0 "
   ]
  },
  {
   "cell_type": "code",
   "execution_count": 55,
   "metadata": {},
   "outputs": [
    {
     "data": {
      "text/plain": [
       "(2, 2)"
      ]
     },
     "execution_count": 55,
     "metadata": {},
     "output_type": "execute_result"
    }
   ],
   "source": [
    "sigma_= a_ \n",
    "sigma_.shape"
   ]
  },
  {
   "cell_type": "code",
   "execution_count": 75,
   "metadata": {},
   "outputs": [],
   "source": [
    "a = sigma_[0][0]\n",
    "b = sigma_[0][1]\n",
    "c = sigma_[1][0]\n",
    "d = sigma_[1][1]"
   ]
  },
  {
   "cell_type": "code",
   "execution_count": 91,
   "metadata": {},
   "outputs": [],
   "source": [
    "# variable declaration\n",
    "\n",
    "import sympy as sy \n",
    "\n",
    "lambda_ = sy.symbols('lambda1')"
   ]
  },
  {
   "cell_type": "code",
   "execution_count": 167,
   "metadata": {},
   "outputs": [
    {
     "data": {
      "text/plain": [
       "array([[6.25, 4.25],\n",
       "       [4.25, 3.5 ]])"
      ]
     },
     "execution_count": 167,
     "metadata": {},
     "output_type": "execute_result"
    }
   ],
   "source": [
    "sigma_"
   ]
  },
  {
   "cell_type": "code",
   "execution_count": 168,
   "metadata": {},
   "outputs": [],
   "source": [
    "sy_sigma = sy.Matrix(sigma_)"
   ]
  },
  {
   "cell_type": "code",
   "execution_count": 170,
   "metadata": {},
   "outputs": [
    {
     "data": {
      "text/plain": [
       "{9.34189209630141: 1, 0.408107903698591: 1}"
      ]
     },
     "execution_count": 170,
     "metadata": {},
     "output_type": "execute_result"
    }
   ],
   "source": [
    "sy_sigma.eigenvals()"
   ]
  },
  {
   "cell_type": "code",
   "execution_count": 172,
   "metadata": {},
   "outputs": [
    {
     "data": {
      "text/plain": [
       "[(9.34189209630141,\n",
       "  1,\n",
       "  [Matrix([\n",
       "   [0.808647106411277],\n",
       "   [ 0.58829402282589]])]),\n",
       " (0.408107903698591,\n",
       "  1,\n",
       "  [Matrix([\n",
       "   [-0.58829402282589],\n",
       "   [0.808647106411277]])])]"
      ]
     },
     "execution_count": 172,
     "metadata": {},
     "output_type": "execute_result"
    }
   ],
   "source": [
    "# eigen vector 결과값 lib 으로 확인, 아래에서 raw function 으로 재전개 \n",
    "sy_sigma.eigenvects()"
   ]
  },
  {
   "cell_type": "code",
   "execution_count": 191,
   "metadata": {},
   "outputs": [
    {
     "data": {
      "image/png": "[encoded data removed]",
      "text/plain": [
       "<Figure size 640x480 with 1 Axes>"
      ]
     },
     "metadata": {},
     "output_type": "display_data"
    }
   ],
   "source": [
    "import matplotlib.pyplot as plt\n",
    "from sympy import Matrix\n",
    "\n",
    "vectors = [\n",
    "    (9.34189209630141, 1, Matrix([[0.808647106411277], [0.58829402282589]])),\n",
    "    (0.408107903698591, 1, Matrix([[-0.58829402282589], [0.808647106411277]]))\n",
    "]\n",
    "\n",
    "# Plotting each vector\n",
    "for magnitude, _, vector in vectors:\n",
    "    x, y = float(vector[0]), float(vector[1])\n",
    "    plt.quiver(0, 0, x, y, angles='xy', scale_units='xy', scale=1, color='b', label=f\"Magnitude: {magnitude}\")\n",
    "\n",
    "# Setting up plot\n",
    "plt.xlabel('X-axis')\n",
    "plt.ylabel('Y-axis')\n",
    "plt.title('Visualization of Vectors')\n",
    "plt.axhline(0, color='black',linewidth=0.5)\n",
    "plt.axvline(0, color='black',linewidth=0.5)\n",
    "plt.grid(color = 'gray', linestyle = '--', linewidth = 0.5)\n",
    "plt.legend()\n",
    "\n",
    "# Show plot\n",
    "plt.axis('equal')\n",
    "plt.show()\n"
   ]
  },
  {
   "cell_type": "code",
   "execution_count": 98,
   "metadata": {},
   "outputs": [
    {
     "data": {
      "text/latex": [
       "$\\displaystyle \\lambda_{1}^{2} - 9.75 \\lambda_{1} + 3.8125$"
      ],
      "text/plain": [
       "lambda1**2 - 9.75*lambda1 + 3.8125"
      ]
     },
     "execution_count": 98,
     "metadata": {},
     "output_type": "execute_result"
    }
   ],
   "source": [
    "# polynomial(quadratic equation)\n",
    "f_1 =  (a - lambda_)*(d - lambda_) - b*c \n",
    "\n",
    "# expand the polynomial \n",
    "f_1_c = sy.expand(f_1)\n",
    "f_1_c"
   ]
  },
  {
   "cell_type": "code",
   "execution_count": 99,
   "metadata": {},
   "outputs": [],
   "source": [
    "# solve the equation\n",
    "\n",
    "s   = sy.Eq(f_1_c,0)\n",
    "ans = sy.solve(s)"
   ]
  },
  {
   "cell_type": "code",
   "execution_count": 101,
   "metadata": {},
   "outputs": [
    {
     "data": {
      "text/plain": [
       "[0.408107903698591, 9.34189209630141]"
      ]
     },
     "execution_count": 101,
     "metadata": {},
     "output_type": "execute_result"
    }
   ],
   "source": [
    "ans"
   ]
  },
  {
   "cell_type": "code",
   "execution_count": 111,
   "metadata": {},
   "outputs": [],
   "source": [
    "ans_ = sorted(ans,reverse=True)"
   ]
  },
  {
   "cell_type": "code",
   "execution_count": 174,
   "metadata": {},
   "outputs": [
    {
     "data": {
      "text/plain": [
       "[9.34189209630141, 0.408107903698591]"
      ]
     },
     "execution_count": 174,
     "metadata": {},
     "output_type": "execute_result"
    }
   ],
   "source": [
    "ans_"
   ]
  },
  {
   "cell_type": "code",
   "execution_count": 178,
   "metadata": {},
   "outputs": [],
   "source": [
    "x,y = sy.Symbol('x'), sy.Symbol('y')"
   ]
  },
  {
   "cell_type": "code",
   "execution_count": 186,
   "metadata": {},
   "outputs": [],
   "source": [
    "f1 = 6.25*x + 4.25*y - 9.34*x"
   ]
  },
  {
   "cell_type": "code",
   "execution_count": 182,
   "metadata": {},
   "outputs": [],
   "source": [
    "f2 = 4.25*x + 3.5*y -  9.34*y"
   ]
  },
  {
   "cell_type": "code",
   "execution_count": 183,
   "metadata": {},
   "outputs": [
    {
     "data": {
      "text/latex": [
       "$\\displaystyle - 3.09 x + 4.25 y$"
      ],
      "text/plain": [
       "-3.09*x + 4.25*y"
      ]
     },
     "execution_count": 183,
     "metadata": {},
     "output_type": "execute_result"
    }
   ],
   "source": [
    "f1"
   ]
  },
  {
   "cell_type": "code",
   "execution_count": 184,
   "metadata": {},
   "outputs": [
    {
     "data": {
      "text/latex": [
       "$\\displaystyle 4.25 x - 5.84 y$"
      ],
      "text/plain": [
       "4.25*x - 5.84*y"
      ]
     },
     "execution_count": 184,
     "metadata": {},
     "output_type": "execute_result"
    }
   ],
   "source": [
    "f2"
   ]
  },
  {
   "cell_type": "code",
   "execution_count": 190,
   "metadata": {},
   "outputs": [
    {
     "data": {
      "text/plain": [
       "{x: 0.0, y: 0.0}"
      ]
     },
     "execution_count": 190,
     "metadata": {},
     "output_type": "execute_result"
    }
   ],
   "source": [
    "sy.solve([-1*3.09* x+4.25* y,4.25*x-1*5.84*y], [x,y])"
   ]
  },
  {
   "cell_type": "code",
   "execution_count": null,
   "metadata": {},
   "outputs": [],
   "source": []
  },
  {
   "cell_type": "code",
   "execution_count": 120,
   "metadata": {},
   "outputs": [],
   "source": [
    "# Σ⋅v - λ⋅v = 0\n",
    "\n",
    "# Sympy 선형대수 연산 사용\n",
    "# A.LUsolve(b)\n",
    "\n",
    "#v11,v12,v21,v22 = sy.symbols('v11','v12','v21','v22')\n",
    "v11,v12,v21,v22 = sy.symbols('v11'), sy.symbols('v12'),sy.symbols('v21'),sy.symbols('v22') \n",
    "\n",
    "v1 = sy.Matrix( [v11,v12 ])\n",
    "v2 = sy.Matrix( [v21,v22 ])"
   ]
  },
  {
   "cell_type": "code",
   "execution_count": 121,
   "metadata": {},
   "outputs": [
    {
     "data": {
      "text/latex": [
       "$\\displaystyle \\left[\\begin{matrix}v_{11}\\\\v_{12}\\end{matrix}\\right]$"
      ],
      "text/plain": [
       "Matrix([\n",
       "[v11],\n",
       "[v12]])"
      ]
     },
     "execution_count": 121,
     "metadata": {},
     "output_type": "execute_result"
    }
   ],
   "source": [
    "v1"
   ]
  },
  {
   "cell_type": "code",
   "execution_count": 123,
   "metadata": {},
   "outputs": [
    {
     "data": {
      "text/latex": [
       "$\\displaystyle \\left[\\begin{matrix}v_{21}\\\\v_{22}\\end{matrix}\\right]$"
      ],
      "text/plain": [
       "Matrix([\n",
       "[v21],\n",
       "[v22]])"
      ]
     },
     "execution_count": 123,
     "metadata": {},
     "output_type": "execute_result"
    }
   ],
   "source": [
    "v2"
   ]
  },
  {
   "cell_type": "code",
   "execution_count": 129,
   "metadata": {},
   "outputs": [
    {
     "data": {
      "text/latex": [
       "$\\displaystyle \\left[\\begin{matrix}6.25 v_{11} + 4.25 v_{12}\\\\4.25 v_{11} + 3.5 v_{12}\\end{matrix}\\right]$"
      ],
      "text/plain": [
       "Matrix([\n",
       "[6.25*v11 + 4.25*v12],\n",
       "[ 4.25*v11 + 3.5*v12]])"
      ]
     },
     "execution_count": 129,
     "metadata": {},
     "output_type": "execute_result"
    }
   ],
   "source": [
    "sigma_v1 = sigma_ * v1\n",
    "sigma_ * v1"
   ]
  },
  {
   "cell_type": "code",
   "execution_count": 132,
   "metadata": {},
   "outputs": [
    {
     "data": {
      "text/plain": [
       "((2, 1), (2, 1))"
      ]
     },
     "execution_count": 132,
     "metadata": {},
     "output_type": "execute_result"
    }
   ],
   "source": [
    "sigma_v1.shape, v2.shape"
   ]
  },
  {
   "cell_type": "code",
   "execution_count": 136,
   "metadata": {},
   "outputs": [
    {
     "data": {
      "text/latex": [
       "$\\displaystyle \\left[\\begin{matrix}9.34189209630141 v_{11}\\\\9.34189209630141 v_{12}\\end{matrix}\\right]$"
      ],
      "text/plain": [
       "Matrix([\n",
       "[9.34189209630141*v11],\n",
       "[9.34189209630141*v12]])"
      ]
     },
     "execution_count": 136,
     "metadata": {},
     "output_type": "execute_result"
    }
   ],
   "source": [
    "ans_lambda_1 = ans_[0]\n",
    "lambda_v1 = ans_lambda_1 * v1\n",
    "lambda_v1"
   ]
  },
  {
   "cell_type": "code",
   "execution_count": 155,
   "metadata": {},
   "outputs": [
    {
     "data": {
      "text/latex": [
       "$\\displaystyle 6.25 v_{11} + 4.25 v_{12}$"
      ],
      "text/plain": [
       "6.25*v11 + 4.25*v12"
      ]
     },
     "execution_count": 155,
     "metadata": {},
     "output_type": "execute_result"
    }
   ],
   "source": [
    "sigma_v1[0]"
   ]
  },
  {
   "cell_type": "code",
   "execution_count": 156,
   "metadata": {},
   "outputs": [
    {
     "data": {
      "text/latex": [
       "$\\displaystyle 9.34189209630141 v_{11}$"
      ],
      "text/plain": [
       "9.34189209630141*v11"
      ]
     },
     "execution_count": 156,
     "metadata": {},
     "output_type": "execute_result"
    }
   ],
   "source": [
    "lambda_v1[0]"
   ]
  },
  {
   "cell_type": "code",
   "execution_count": 164,
   "metadata": {},
   "outputs": [
    {
     "data": {
      "text/latex": [
       "$\\displaystyle - 3.09189209630141 v_{11} + 4.25 v_{12}$"
      ],
      "text/plain": [
       "-3.09189209630141*v11 + 4.25*v12"
      ]
     },
     "execution_count": 164,
     "metadata": {},
     "output_type": "execute_result"
    }
   ],
   "source": [
    "solv0 = sigma_v1[0] - lambda_v1[0]\n",
    "solv0 "
   ]
  },
  {
   "cell_type": "code",
   "execution_count": 157,
   "metadata": {},
   "outputs": [
    {
     "data": {
      "text/latex": [
       "$\\displaystyle 4.25 v_{11} + 3.5 v_{12}$"
      ],
      "text/plain": [
       "4.25*v11 + 3.5*v12"
      ]
     },
     "execution_count": 157,
     "metadata": {},
     "output_type": "execute_result"
    }
   ],
   "source": [
    "sigma_v1[1]"
   ]
  },
  {
   "cell_type": "code",
   "execution_count": 163,
   "metadata": {},
   "outputs": [
    {
     "data": {
      "text/latex": [
       "$\\displaystyle 9.34189209630141 v_{12}$"
      ],
      "text/plain": [
       "9.34189209630141*v12"
      ]
     },
     "execution_count": 163,
     "metadata": {},
     "output_type": "execute_result"
    }
   ],
   "source": [
    "lambda_v1[1]"
   ]
  },
  {
   "cell_type": "code",
   "execution_count": 165,
   "metadata": {},
   "outputs": [
    {
     "data": {
      "text/latex": [
       "$\\displaystyle 4.25 v_{11} - 5.84189209630141 v_{12}$"
      ],
      "text/plain": [
       "4.25*v11 - 5.84189209630141*v12"
      ]
     },
     "execution_count": 165,
     "metadata": {},
     "output_type": "execute_result"
    }
   ],
   "source": [
    "solv1 = sigma_v1[1] - lambda_v1[1]\n",
    "solv1 "
   ]
  },
  {
   "cell_type": "code",
   "execution_count": 166,
   "metadata": {},
   "outputs": [
    {
     "data": {
      "text/plain": [
       "{v11: 0.0, v12: 0.0}"
      ]
     },
     "execution_count": 166,
     "metadata": {},
     "output_type": "execute_result"
    }
   ],
   "source": [
    "sy.solve( [solv0, solv1],[ v11,v12 ])"
   ]
  },
  {
   "cell_type": "code",
   "execution_count": null,
   "metadata": {},
   "outputs": [],
   "source": []
  },
  {
   "cell_type": "code",
   "execution_count": 142,
   "metadata": {},
   "outputs": [
    {
     "data": {
      "text/latex": [
       "$\\displaystyle \\left[\\begin{matrix}- 3.09189209630141 v_{11} + 4.25 v_{12}\\\\4.25 v_{11} - 5.84189209630141 v_{12}\\end{matrix}\\right]$"
      ],
      "text/plain": [
       "Matrix([\n",
       "[-3.09189209630141*v11 + 4.25*v12],\n",
       "[ 4.25*v11 - 5.84189209630141*v12]])"
      ]
     },
     "execution_count": 142,
     "metadata": {},
     "output_type": "execute_result"
    }
   ],
   "source": [
    "ques = sigma_v1 - lambda_v1\n",
    "ques"
   ]
  },
  {
   "cell_type": "code",
   "execution_count": 147,
   "metadata": {},
   "outputs": [
    {
     "data": {
      "text/latex": [
       "$\\displaystyle - 3.09189209630141 v_{11} + 4.25 v_{12}$"
      ],
      "text/plain": [
       "-3.09189209630141*v11 + 4.25*v12"
      ]
     },
     "execution_count": 147,
     "metadata": {},
     "output_type": "execute_result"
    }
   ],
   "source": [
    "ques[0]"
   ]
  },
  {
   "cell_type": "code",
   "execution_count": 144,
   "metadata": {},
   "outputs": [],
   "source": [
    "# 연립방정식 풀기 "
   ]
  },
  {
   "cell_type": "code",
   "execution_count": 148,
   "metadata": {},
   "outputs": [
    {
     "data": {
      "text/plain": [
       "{v11: 0.0, v12: 0.0}"
      ]
     },
     "execution_count": 148,
     "metadata": {},
     "output_type": "execute_result"
    }
   ],
   "source": [
    "sy.solve([ques[0],ques[1] ],[v11,v12])"
   ]
  }
 ],
 "metadata": {
  "kernelspec": {
   "display_name": "8.tmp",
   "language": "python",
   "name": "python3"
  },
  "language_info": {
   "codemirror_mode": {
    "name": "ipython",
    "version": 3
   },
   "file_extension": ".py",
   "mimetype": "text/x-python",
   "name": "python",
   "nbconvert_exporter": "python",
   "pygments_lexer": "ipython3",
   "version": "3.8.17"
  }
 },
 "nbformat": 4,
 "nbformat_minor": 2
}
