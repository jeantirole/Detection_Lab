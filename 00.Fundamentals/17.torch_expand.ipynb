{
 "cells": [
  {
   "cell_type": "code",
   "execution_count": 1,
   "metadata": {},
   "outputs": [
    {
     "name": "stdout",
     "output_type": "stream",
     "text": [
      "Tensor: tensor([[1],\n",
      "        [2],\n",
      "        [3]])\n",
      "Size of Tensor: torch.Size([3, 1])\n",
      "Tensor after expansion: tensor([[1, 1],\n",
      "        [2, 2],\n",
      "        [3, 3]])\n"
     ]
    }
   ],
   "source": [
    "import torch\n",
    "\n",
    "\n",
    "'''\n",
    "사실상 torch.repeat 과 거의 동일하다. \n",
    "\n",
    "'''\n",
    "\n",
    "# create a tensor\n",
    "t = torch.tensor([[1],[2],[3]])\n",
    "\n",
    "# display the tensor\n",
    "print(\"Tensor:\", t)\n",
    "print(\"Size of Tensor:\", t.size())\n",
    "\n",
    "# expand the tensor\n",
    "exp = t.expand(3,2)\n",
    "print(\"Tensor after expansion:\", exp)"
   ]
  },
  {
   "cell_type": "code",
   "execution_count": 2,
   "metadata": {},
   "outputs": [
    {
     "name": "stdout",
     "output_type": "stream",
     "text": [
      "Tensor: tensor([[1, 2, 3]])\n",
      "Size of Tensor: torch.Size([1, 3])\n",
      "Expanded Tensor: tensor([[1, 2, 3],\n",
      "        [1, 2, 3],\n",
      "        [1, 2, 3]])\n",
      "Size of expanded tensor: torch.Size([3, 3])\n"
     ]
    }
   ],
   "source": [
    "# import required libraries\n",
    "import torch\n",
    "\n",
    "# create a tensor\n",
    "t = torch.tensor([[1,2,3]])\n",
    "\n",
    "# display the tensor\n",
    "print(\"Tensor:\", t)\n",
    "\n",
    "# size of tensor is [1,3]\n",
    "print(\"Size of Tensor:\", t.size())\n",
    "\n",
    "# expand the tensor\n",
    "expandedTensor = t.expand(3,-1)\n",
    "\n",
    "print(\"Expanded Tensor:\", expandedTensor)\n",
    "print(\"Size of expanded tensor:\", expandedTensor.size())"
   ]
  }
 ],
 "metadata": {
  "kernelspec": {
   "display_name": "8.tmp.copied",
   "language": "python",
   "name": "python3"
  },
  "language_info": {
   "codemirror_mode": {
    "name": "ipython",
    "version": 3
   },
   "file_extension": ".py",
   "mimetype": "text/x-python",
   "name": "python",
   "nbconvert_exporter": "python",
   "pygments_lexer": "ipython3",
   "version": "3.8.17"
  }
 },
 "nbformat": 4,
 "nbformat_minor": 2
}
