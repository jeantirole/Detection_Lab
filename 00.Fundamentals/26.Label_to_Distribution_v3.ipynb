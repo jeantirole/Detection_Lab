{
 "cells": [
  {
   "cell_type": "markdown",
   "metadata": {},
   "source": [
    "# Label to Distribution \n",
    "\n",
    "- batch label to gaussian pdf "
   ]
  },
  {
   "cell_type": "code",
   "execution_count": 150,
   "metadata": {},
   "outputs": [],
   "source": [
    "import numpy as np\n",
    "import torch\n",
    "import torch.nn as nn\n",
    "import torch.nn.functional as F\n",
    "from torch.autograd import Variable\n",
    "from torch.nn.modules.loss import _WeightedLoss"
   ]
  },
  {
   "cell_type": "code",
   "execution_count": 151,
   "metadata": {},
   "outputs": [
    {
     "name": "stdout",
     "output_type": "stream",
     "text": [
      "torch.Size([2, 7])\n"
     ]
    }
   ],
   "source": [
    "label = torch.tensor([[0,0,0, 0, 0, 1, 0],[0,0,0, 0, 0, 1, 0]])\n",
    "print(label.shape)"
   ]
  },
  {
   "cell_type": "code",
   "execution_count": 152,
   "metadata": {},
   "outputs": [],
   "source": [
    "def label_to_dist(label):\n",
    "  gap_ = 1\n",
    "  target_label_index = torch.where(label==1)[0][0].numpy()\n",
    "  label_dist = [i for i in np.arange(target_label_index,0,-gap_)] + [i for i in np.arange(0,len(label) - target_label_index,gap_ )]\n",
    "  return label_dist\n",
    "#--"
   ]
  },
  {
   "cell_type": "code",
   "execution_count": 153,
   "metadata": {},
   "outputs": [
    {
     "name": "stdout",
     "output_type": "stream",
     "text": [
      "tensor([[10.,  8.,  6.,  4.,  2.,  0.,  2.],\n",
      "        [10.,  8.,  6.,  4.,  2.,  0.,  2.]])\n"
     ]
    }
   ],
   "source": [
    "deviation = 2.0\n",
    "y = torch.tensor([label_to_dist(la) for la in label]) * deviation\n",
    "print(y)"
   ]
  },
  {
   "cell_type": "code",
   "execution_count": 154,
   "metadata": {},
   "outputs": [],
   "source": [
    "def pdf_fn(x):\n",
    "  x_pdf = torch.exp( -(x)**2 /2  ) * 1/( torch.pi * torch.sqrt(torch.tensor(2)) )\n",
    "  return x_pdf"
   ]
  },
  {
   "cell_type": "code",
   "execution_count": 155,
   "metadata": {},
   "outputs": [
    {
     "name": "stdout",
     "output_type": "stream",
     "text": [
      "tensor([[4.3412e-23, 2.8504e-15, 3.4279e-09, 7.5506e-05, 3.0461e-02, 2.2508e-01,\n",
      "         3.0461e-02],\n",
      "        [4.3412e-23, 2.8504e-15, 3.4279e-09, 7.5506e-05, 3.0461e-02, 2.2508e-01,\n",
      "         3.0461e-02]])\n"
     ]
    }
   ],
   "source": [
    "q = pdf_fn(y)\n",
    "print(q)"
   ]
  },
  {
   "cell_type": "code",
   "execution_count": 156,
   "metadata": {},
   "outputs": [
    {
     "data": {
      "text/plain": [
       "<BarContainer object of 7 artists>"
      ]
     },
     "execution_count": 156,
     "metadata": {},
     "output_type": "execute_result"
    },
    {
     "data": {
      "image/png": "[encoded data removed]",
      "text/plain": [
       "<Figure size 640x480 with 1 Axes>"
      ]
     },
     "metadata": {},
     "output_type": "display_data"
    }
   ],
   "source": [
    "import matplotlib.pyplot as plt\n",
    "plt.bar([i for i in range(len(q[0]))], q[0])"
   ]
  },
  {
   "cell_type": "code",
   "execution_count": 157,
   "metadata": {},
   "outputs": [],
   "source": [
    "q[0] = q[0] / sum(q[0])"
   ]
  },
  {
   "cell_type": "code",
   "execution_count": 158,
   "metadata": {},
   "outputs": [],
   "source": [
    "q[1] = q[1] / sum(q[1])"
   ]
  },
  {
   "cell_type": "code",
   "execution_count": 159,
   "metadata": {},
   "outputs": [
    {
     "name": "stdout",
     "output_type": "stream",
     "text": [
      "tensor(1.)\n"
     ]
    }
   ],
   "source": [
    "print(sum(q[0]))"
   ]
  },
  {
   "cell_type": "code",
   "execution_count": 160,
   "metadata": {},
   "outputs": [
    {
     "data": {
      "text/plain": [
       "<BarContainer object of 7 artists>"
      ]
     },
     "execution_count": 160,
     "metadata": {},
     "output_type": "execute_result"
    },
    {
     "data": {
      "image/png": "[encoded data removed]",
      "text/plain": [
       "<Figure size 640x480 with 1 Axes>"
      ]
     },
     "metadata": {},
     "output_type": "display_data"
    }
   ],
   "source": [
    "import matplotlib.pyplot as plt\n",
    "plt.bar([i for i in range(len(q[0]))], q[0])"
   ]
  },
  {
   "cell_type": "code",
   "execution_count": 161,
   "metadata": {},
   "outputs": [
    {
     "data": {
      "text/plain": [
       "tensor([1.5175e-22, 9.9639e-15, 1.1983e-08, 2.6393e-04, 1.0648e-01, 7.8678e-01,\n",
       "        1.0648e-01])"
      ]
     },
     "execution_count": 161,
     "metadata": {},
     "output_type": "execute_result"
    }
   ],
   "source": [
    "q[0]"
   ]
  },
  {
   "cell_type": "code",
   "execution_count": 162,
   "metadata": {},
   "outputs": [
    {
     "name": "stdout",
     "output_type": "stream",
     "text": [
      "On branch master\n",
      "Changes not staged for commit:\n",
      "  (use \"git add <file>...\" to update what will be committed)\n",
      "  (use \"git restore <file>...\" to discard changes in working directory)\n",
      "  (commit or discard the untracked or modified content in submodules)\n",
      "\t\u001b[31mmodified:   ../05.Tasks/ObjectDetection/00.Benchmark/faster_rcnn_pytorch\u001b[m (modified content, untracked content)\n",
      "\t\u001b[31mmodified:   ../06.Gits/01.SAMRS_MTP/MTP\u001b[m (modified content, untracked content)\n",
      "\t\u001b[31mmodified:   ../06.Gits/02.DDETR/Deformable-DETR\u001b[m (modified content, untracked content)\n",
      "\t\u001b[31mmodified:   ../06.Gits/03.OWDETR/OW-DETR\u001b[m (modified content, untracked content)\n",
      "\t\u001b[31mmodified:   ../06.Gits/04.Deform_Conv/pytorch-deform-conv-v2\u001b[m (modified content, untracked content)\n",
      "\t\u001b[31mmodified:   ../06.Gits/05.OWOD/01.PROB/PROB\u001b[m (modified content, untracked content)\n",
      "\t\u001b[31mmodified:   ../06.Gits/06.OOD/deep_Mahalanobis_detector\u001b[m (modified content, untracked content)\n",
      "\t\u001b[31mmodified:   ../06.Gits/06.OOD/odin/odin\u001b[m (modified content)\n",
      "\t\u001b[31mmodified:   ../06.Gits/Faster_RCNN_/simple-faster-rcnn-pytorch\u001b[m (modified content, untracked content)\n",
      "\t\u001b[31mmodified:   ../06.Gits/SAM_RS\u001b[m (modified content, untracked content)\n",
      "\t\u001b[31mmodified:   ../06.Gits/ViTAE-Transformer/MTP\u001b[m (untracked content)\n",
      "\t\u001b[31mmodified:   ../07.Challenge/01.MapYourCity/MapYourCity\u001b[m (modified content, untracked content)\n",
      "\t\u001b[31mmodified:   ../07.Challenge/01.MapYourCity_HuggingFace/01.9.finetune.py\u001b[m\n",
      "\t\u001b[31mmodified:   ../07.Challenge/01.MapYourCity_HuggingFace/__pycache__/map_dataset.cpython-38.pyc\u001b[m\n",
      "\t\u001b[31mmodified:   ../07.Challenge/01.MapYourCity_HuggingFace/map_dataset.py\u001b[m\n",
      "\t\u001b[31mmodified:   ../07.Challenge/01.MapYourCity_HuggingFace/wandb/debug-internal.log\u001b[m\n",
      "\t\u001b[31mmodified:   ../07.Challenge/01.MapYourCity_HuggingFace/wandb/debug.log\u001b[m\n",
      "\t\u001b[31mmodified:   ../07.Challenge/01.MapYourCity_HuggingFace/wandb/latest-run\u001b[m\n",
      "\t\u001b[31mmodified:   ../07.Challenge/03.ImageNet_SOTAs/sota-backbones\u001b[m (modified content, untracked content)\n",
      "\n",
      "Untracked files:\n",
      "  (use \"git add <file>...\" to include in what will be committed)\n",
      "\t\u001b[31m26.Label_to_Distribution_v3.ipynb\u001b[m\n",
      "\t\u001b[31m../07.Challenge/01.MapYourCity_HuggingFace/02.Visualize_n_dataset_v5.ipynb\u001b[m\n",
      "\t\u001b[31m../07.Challenge/01.MapYourCity_HuggingFace/configs/finetune_10.yaml\u001b[m\n",
      "\t\u001b[31m../07.Challenge/01.MapYourCity_HuggingFace/logs/20_eva02_base_patch14_448.mim_in22k_ft_in22k_in1k\u001b[m\n",
      "\t\u001b[31m../07.Challenge/01.MapYourCity_HuggingFace/wandb/run-20240626_115645-i3z3ak8c/\u001b[m\n",
      "\t\u001b[31m../07.Challenge/01.MapYourCity_HuggingFace/wandb/run-20240626_115702-oei8c260/\u001b[m\n",
      "\t\u001b[31m../07.Challenge/01.MapYourCity_HuggingFace/wandb/run-20240626_115702-t6clcwlx/\u001b[m\n",
      "\t\u001b[31m../07.Challenge/01.MapYourCity_HuggingFace/wandb/run-20240626_115702-yv99hpsf/\u001b[m\n",
      "\n",
      "no changes added to commit (use \"git add\" and/or \"git commit -a\")\n"
     ]
    }
   ],
   "source": [
    "!git status"
   ]
  },
  {
   "cell_type": "code",
   "execution_count": 163,
   "metadata": {},
   "outputs": [],
   "source": [
    "!git add ."
   ]
  },
  {
   "cell_type": "code",
   "execution_count": 164,
   "metadata": {},
   "outputs": [
    {
     "name": "stdout",
     "output_type": "stream",
     "text": [
      "[master 7772ffa] Label Distribution with KL divergence => hype : variance value\n",
      " 1 file changed, 310 insertions(+)\n",
      " create mode 100644 00.Fundamentals/26.Label_to_Distribution_v3.ipynb\n"
     ]
    }
   ],
   "source": [
    "!git commit -m \"Label Distribution with KL divergence => hype : variance value\""
   ]
  },
  {
   "cell_type": "code",
   "execution_count": 165,
   "metadata": {},
   "outputs": [
    {
     "name": "stdout",
     "output_type": "stream",
     "text": [
      "Username for 'https://github.com': ^C\n"
     ]
    }
   ],
   "source": [
    "!git push origin"
   ]
  }
 ],
 "metadata": {
  "kernelspec": {
   "display_name": "mapv2",
   "language": "python",
   "name": "python3"
  },
  "language_info": {
   "codemirror_mode": {
    "name": "ipython",
    "version": 3
   },
   "file_extension": ".py",
   "mimetype": "text/x-python",
   "name": "python",
   "nbconvert_exporter": "python",
   "pygments_lexer": "ipython3",
   "version": "3.8.18"
  }
 },
 "nbformat": 4,
 "nbformat_minor": 2
}
