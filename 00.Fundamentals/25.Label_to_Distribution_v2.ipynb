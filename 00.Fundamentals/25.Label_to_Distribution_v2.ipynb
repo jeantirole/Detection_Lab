{
 "cells": [
  {
   "cell_type": "markdown",
   "metadata": {},
   "source": [
    "# Label to Distribution \n",
    "\n",
    "- batch label to gaussian pdf "
   ]
  },
  {
   "cell_type": "code",
   "execution_count": 10,
   "metadata": {},
   "outputs": [],
   "source": [
    "import numpy as np\n",
    "import torch\n",
    "import torch.nn as nn\n",
    "import torch.nn.functional as F\n",
    "from torch.autograd import Variable\n",
    "from torch.nn.modules.loss import _WeightedLoss"
   ]
  },
  {
   "cell_type": "code",
   "execution_count": 11,
   "metadata": {},
   "outputs": [
    {
     "name": "stdout",
     "output_type": "stream",
     "text": [
      "torch.Size([2, 7])\n",
      "tensor([[0.0059, 0.0305, 0.1365, 0.2251, 0.1365, 0.0305, 0.0059],\n",
      "        [0.0531, 0.1365, 0.1986, 0.2251, 0.1986, 0.1365, 0.0531]])\n"
     ]
    }
   ],
   "source": [
    "x = torch.tensor([ [-2.7,-2,-1, 0, 1, 2, 2.7],[-1.7,-1,-0.5, 0, 0.5, 1, 1.7]])\n",
    "print(x.shape)\n",
    "\n",
    "def pdf_fn(x):\n",
    "  x_pdf = torch.exp( -(x)**2 /2  ) * 1/( torch.pi * torch.sqrt(torch.tensor(2)) )\n",
    "  return x_pdf\n",
    "\n",
    "x_pdf = torch.exp( -(x)**2 /2  ) * 1/( torch.pi * torch.sqrt(torch.tensor(2)) )\n",
    "print(x_pdf)"
   ]
  },
  {
   "cell_type": "code",
   "execution_count": 12,
   "metadata": {},
   "outputs": [
    {
     "data": {
      "text/plain": [
       "tensor([[0.0059, 0.0305, 0.1365, 0.2251, 0.1365, 0.0305, 0.0059],\n",
       "        [0.0531, 0.1365, 0.1986, 0.2251, 0.1986, 0.1365, 0.0531]])"
      ]
     },
     "execution_count": 12,
     "metadata": {},
     "output_type": "execute_result"
    }
   ],
   "source": [
    "x_pdf"
   ]
  },
  {
   "cell_type": "code",
   "execution_count": null,
   "metadata": {},
   "outputs": [],
   "source": []
  },
  {
   "cell_type": "code",
   "execution_count": 13,
   "metadata": {},
   "outputs": [
    {
     "name": "stdout",
     "output_type": "stream",
     "text": [
      "torch.Size([2, 7])\n"
     ]
    }
   ],
   "source": [
    "label = torch.tensor([[0,0,0, 0, 0, 1, 0],[0,0,0, 0, 0, 1, 0]])\n",
    "print(label.shape)"
   ]
  },
  {
   "cell_type": "code",
   "execution_count": 59,
   "metadata": {},
   "outputs": [
    {
     "data": {
      "text/plain": [
       "[0, 1]"
      ]
     },
     "execution_count": 59,
     "metadata": {},
     "output_type": "execute_result"
    }
   ],
   "source": [
    "def label_to_dist(label):\n",
    "  gap_ = 1\n",
    "  target_label_index = torch.where(label==1)[0][0].numpy()\n",
    "  label_dist = [i for i in np.arange(target_label_index,0,-gap_)] + [i for i in np.arange(0,len(label) - target_label_index,gap_ )]\n",
    "  return label_dist\n",
    "#--\n",
    "def label_to_dist_v1(label):\n",
    "  gap_ = 1\n",
    "  target_label_index = torch.where(label==1)[0][0].numpy()\n",
    "  label_dist = [i for i in np.arange(target_label_index,0,-gap_)]  + [i  for i in np.arange(0,len(label) - target_label_index,gap_ )]\n",
    "  return label_dist\n",
    "#--\n",
    "\n",
    "target_label_index = torch.where(label==1)[0][0].numpy()\n",
    "[i for i in range(target_label_index,0,-1)] + [i for i in range(0,len(label) - target_label_index )]"
   ]
  },
  {
   "cell_type": "code",
   "execution_count": 60,
   "metadata": {},
   "outputs": [
    {
     "name": "stdout",
     "output_type": "stream",
     "text": [
      "tensor([[5, 4, 3, 2, 1, 0, 1],\n",
      "        [5, 4, 3, 2, 1, 0, 1]])\n"
     ]
    }
   ],
   "source": [
    "y = torch.tensor([label_to_dist_v1(la) for la in label])\n",
    "print(y)"
   ]
  },
  {
   "cell_type": "code",
   "execution_count": 61,
   "metadata": {},
   "outputs": [
    {
     "data": {
      "text/plain": [
       "tensor([[2.5000, 2.0000, 1.5000, 1.0000, 0.5000, 0.0000, 0.5000],\n",
       "        [2.5000, 2.0000, 1.5000, 1.0000, 0.5000, 0.0000, 0.5000]])"
      ]
     },
     "execution_count": 61,
     "metadata": {},
     "output_type": "execute_result"
    }
   ],
   "source": [
    "y/2"
   ]
  },
  {
   "cell_type": "code",
   "execution_count": 40,
   "metadata": {},
   "outputs": [
    {
     "name": "stdout",
     "output_type": "stream",
     "text": [
      "tensor([[5, 4, 3, 2, 1, 0, 1],\n",
      "        [5, 4, 3, 2, 1, 0, 1]])\n"
     ]
    }
   ],
   "source": [
    "y = torch.tensor([label_to_dist(la) for la in label])\n",
    "print(y)"
   ]
  },
  {
   "cell_type": "code",
   "execution_count": 15,
   "metadata": {},
   "outputs": [
    {
     "name": "stdout",
     "output_type": "stream",
     "text": [
      "tensor([[5, 4, 3, 2, 1, 0, 1],\n",
      "        [5, 4, 3, 2, 1, 0, 1]])\n",
      "tensor([[8.3879e-07, 7.5506e-05, 2.5004e-03, 3.0461e-02, 1.3652e-01, 2.2508e-01,\n",
      "         1.3652e-01],\n",
      "        [8.3879e-07, 7.5506e-05, 2.5004e-03, 3.0461e-02, 1.3652e-01, 2.2508e-01,\n",
      "         1.3652e-01]])\n"
     ]
    }
   ],
   "source": [
    "y = torch.tensor([label_to_dist(la) for la in label])\n",
    "print(y)\n",
    "q = pdf_fn(y)\n",
    "print(q)"
   ]
  },
  {
   "cell_type": "code",
   "execution_count": 16,
   "metadata": {},
   "outputs": [],
   "source": [
    "# import matplotlib.pyplot as plt\n",
    "\n",
    "# plt.bar([0,1,2,3,4,5,6],q.numpy())"
   ]
  },
  {
   "cell_type": "code",
   "execution_count": 17,
   "metadata": {},
   "outputs": [],
   "source": [
    "prediction = torch.tensor( [0.1,0.1,\n",
    "                            0.1,0.1,\n",
    "                            0.1,0.4,\n",
    "                            0.1] )"
   ]
  },
  {
   "cell_type": "code",
   "execution_count": 18,
   "metadata": {},
   "outputs": [
    {
     "name": "stdout",
     "output_type": "stream",
     "text": [
      "tensor([[0.5000, 0.5000, 0.5000, 0.5000, 0.5000, 0.5000, 0.5000],\n",
      "        [0.5000, 0.5000, 0.5000, 0.5000, 0.5000, 0.5000, 0.5000]])\n"
     ]
    }
   ],
   "source": [
    "  # target 도 normalize 되어야 하나, => softmax 로 normalize 하면은 분포가 너무 고르게 된다.\n",
    "# -->\n",
    "target = q.clone()\n",
    "target = target / sum(target)\n",
    "#target = torch.tensor( [i/sum(target) for i in target] )\n",
    "print(target)"
   ]
  },
  {
   "cell_type": "code",
   "execution_count": 19,
   "metadata": {},
   "outputs": [
    {
     "data": {
      "text/plain": [
       "tensor(1.4114)"
      ]
     },
     "execution_count": 19,
     "metadata": {},
     "output_type": "execute_result"
    }
   ],
   "source": [
    "F.kl_div(prediction.log(), target, None, None, 'batchmean')\n",
    "\n",
    "# 0.0046 <- prediction = ... 0.1, 0.4]\n",
    "# -0.0129 <- prediction = ... 0.4, 0.1]"
   ]
  },
  {
   "cell_type": "code",
   "execution_count": 20,
   "metadata": {},
   "outputs": [
    {
     "data": {
      "text/plain": [
       "tensor(1.6947)"
      ]
     },
     "execution_count": 20,
     "metadata": {},
     "output_type": "execute_result"
    }
   ],
   "source": [
    "ce_target = torch.tensor([0,0,0,\n",
    "                          0,0,1,\n",
    "                          0],dtype=torch.float)\n",
    "F.cross_entropy(prediction, ce_target)"
   ]
  },
  {
   "cell_type": "markdown",
   "metadata": {},
   "source": [
    "# Need One hot embedding"
   ]
  },
  {
   "cell_type": "code",
   "execution_count": 21,
   "metadata": {},
   "outputs": [
    {
     "data": {
      "text/plain": [
       "tensor([[1, 0, 0, 0, 0],\n",
       "        [0, 1, 0, 0, 0],\n",
       "        [0, 0, 1, 0, 0],\n",
       "        [1, 0, 0, 0, 0],\n",
       "        [0, 1, 0, 0, 0]])"
      ]
     },
     "execution_count": 21,
     "metadata": {},
     "output_type": "execute_result"
    }
   ],
   "source": [
    "F.one_hot(torch.arange(0, 5) % 3, num_classes=5)"
   ]
  },
  {
   "cell_type": "code",
   "execution_count": 22,
   "metadata": {},
   "outputs": [
    {
     "data": {
      "text/plain": [
       "tensor([0.1000, 0.1000, 0.1000, 0.1000, 0.1000, 0.4000, 0.1000])"
      ]
     },
     "execution_count": 22,
     "metadata": {},
     "output_type": "execute_result"
    }
   ],
   "source": [
    "prediction"
   ]
  },
  {
   "cell_type": "code",
   "execution_count": 23,
   "metadata": {},
   "outputs": [
    {
     "data": {
      "text/plain": [
       "tensor([[0, 0, 0, 0, 0, 1, 0],\n",
       "        [0, 0, 0, 0, 0, 1, 0]])"
      ]
     },
     "execution_count": 23,
     "metadata": {},
     "output_type": "execute_result"
    }
   ],
   "source": [
    "label"
   ]
  },
  {
   "cell_type": "code",
   "execution_count": 24,
   "metadata": {},
   "outputs": [],
   "source": [
    "label_int = torch.tensor([1, 5, 4, 0, 2, 5, 2, 4])"
   ]
  },
  {
   "cell_type": "code",
   "execution_count": 25,
   "metadata": {},
   "outputs": [
    {
     "data": {
      "text/plain": [
       "tensor([[0, 1, 0, 0, 0, 0, 0],\n",
       "        [0, 0, 0, 0, 0, 1, 0],\n",
       "        [0, 0, 0, 0, 1, 0, 0],\n",
       "        [1, 0, 0, 0, 0, 0, 0],\n",
       "        [0, 0, 1, 0, 0, 0, 0],\n",
       "        [0, 0, 0, 0, 0, 1, 0],\n",
       "        [0, 0, 1, 0, 0, 0, 0],\n",
       "        [0, 0, 0, 0, 1, 0, 0]])"
      ]
     },
     "execution_count": 25,
     "metadata": {},
     "output_type": "execute_result"
    }
   ],
   "source": [
    "F.one_hot(label_int,num_classes=7)"
   ]
  },
  {
   "cell_type": "code",
   "execution_count": 26,
   "metadata": {},
   "outputs": [],
   "source": [
    "label_onehot = F.one_hot(label_int,num_classes=7)"
   ]
  },
  {
   "cell_type": "code",
   "execution_count": 27,
   "metadata": {},
   "outputs": [
    {
     "data": {
      "text/plain": [
       "tensor([[0, 1, 0, 0, 0, 0, 0],\n",
       "        [0, 0, 0, 0, 0, 1, 0],\n",
       "        [0, 0, 0, 0, 1, 0, 0],\n",
       "        [1, 0, 0, 0, 0, 0, 0],\n",
       "        [0, 0, 1, 0, 0, 0, 0],\n",
       "        [0, 0, 0, 0, 0, 1, 0],\n",
       "        [0, 0, 1, 0, 0, 0, 0],\n",
       "        [0, 0, 0, 0, 1, 0, 0]])"
      ]
     },
     "execution_count": 27,
     "metadata": {},
     "output_type": "execute_result"
    }
   ],
   "source": [
    "label_onehot"
   ]
  },
  {
   "cell_type": "code",
   "execution_count": 28,
   "metadata": {},
   "outputs": [
    {
     "data": {
      "text/plain": [
       "[[1, 0, 1, 2, 3, 4, 5],\n",
       " [5, 4, 3, 2, 1, 0, 1],\n",
       " [4, 3, 2, 1, 0, 1, 2],\n",
       " [0, 1, 2, 3, 4, 5, 6],\n",
       " [2, 1, 0, 1, 2, 3, 4],\n",
       " [5, 4, 3, 2, 1, 0, 1],\n",
       " [2, 1, 0, 1, 2, 3, 4],\n",
       " [4, 3, 2, 1, 0, 1, 2]]"
      ]
     },
     "execution_count": 28,
     "metadata": {},
     "output_type": "execute_result"
    }
   ],
   "source": [
    "[label_to_dist(i) for i in label_onehot]"
   ]
  },
  {
   "cell_type": "code",
   "execution_count": 29,
   "metadata": {},
   "outputs": [
    {
     "data": {
      "text/plain": [
       "tensor([[1.3652e-01, 2.2508e-01, 1.3652e-01, 3.0461e-02, 2.5004e-03, 7.5506e-05,\n",
       "         8.3879e-07],\n",
       "        [8.3879e-07, 7.5506e-05, 2.5004e-03, 3.0461e-02, 1.3652e-01, 2.2508e-01,\n",
       "         1.3652e-01],\n",
       "        [7.5506e-05, 2.5004e-03, 3.0461e-02, 1.3652e-01, 2.2508e-01, 1.3652e-01,\n",
       "         3.0461e-02],\n",
       "        [2.2508e-01, 1.3652e-01, 3.0461e-02, 2.5004e-03, 7.5506e-05, 8.3879e-07,\n",
       "         3.4279e-09],\n",
       "        [3.0461e-02, 1.3652e-01, 2.2508e-01, 1.3652e-01, 3.0461e-02, 2.5004e-03,\n",
       "         7.5506e-05],\n",
       "        [8.3879e-07, 7.5506e-05, 2.5004e-03, 3.0461e-02, 1.3652e-01, 2.2508e-01,\n",
       "         1.3652e-01],\n",
       "        [3.0461e-02, 1.3652e-01, 2.2508e-01, 1.3652e-01, 3.0461e-02, 2.5004e-03,\n",
       "         7.5506e-05],\n",
       "        [7.5506e-05, 2.5004e-03, 3.0461e-02, 1.3652e-01, 2.2508e-01, 1.3652e-01,\n",
       "         3.0461e-02]])"
      ]
     },
     "execution_count": 29,
     "metadata": {},
     "output_type": "execute_result"
    }
   ],
   "source": [
    "pdf_fn( torch.tensor( [label_to_dist(i) for i in label_onehot]) )"
   ]
  },
  {
   "cell_type": "code",
   "execution_count": 30,
   "metadata": {},
   "outputs": [],
   "source": [
    "labels_ = pdf_fn( torch.tensor( [label_to_dist(i) for i in label_onehot]) )"
   ]
  },
  {
   "cell_type": "code",
   "execution_count": 31,
   "metadata": {},
   "outputs": [
    {
     "data": {
      "text/plain": [
       "tensor(0.5312)"
      ]
     },
     "execution_count": 31,
     "metadata": {},
     "output_type": "execute_result"
    }
   ],
   "source": [
    "torch.sum( labels_[0] )"
   ]
  },
  {
   "cell_type": "code",
   "execution_count": 32,
   "metadata": {},
   "outputs": [
    {
     "data": {
      "text/plain": [
       "tensor([2.5702e-01, 4.2376e-01, 2.5702e-01, 5.7349e-02, 4.7075e-03, 1.4215e-04,\n",
       "        1.5792e-06])"
      ]
     },
     "execution_count": 32,
     "metadata": {},
     "output_type": "execute_result"
    }
   ],
   "source": [
    "labels_[0] / torch.sum( labels_[0])"
   ]
  },
  {
   "cell_type": "code",
   "execution_count": 33,
   "metadata": {},
   "outputs": [
    {
     "data": {
      "text/plain": [
       "tensor(1.)"
      ]
     },
     "execution_count": 33,
     "metadata": {},
     "output_type": "execute_result"
    }
   ],
   "source": [
    "torch.sum( labels_[0] / torch.sum( labels_[0]) )"
   ]
  },
  {
   "cell_type": "code",
   "execution_count": 34,
   "metadata": {},
   "outputs": [],
   "source": [
    "#--- matrix approach "
   ]
  },
  {
   "cell_type": "code",
   "execution_count": 35,
   "metadata": {},
   "outputs": [
    {
     "data": {
      "text/plain": [
       "torch.Size([8, 7])"
      ]
     },
     "execution_count": 35,
     "metadata": {},
     "output_type": "execute_result"
    }
   ],
   "source": [
    "labels_.shape"
   ]
  },
  {
   "cell_type": "code",
   "execution_count": 36,
   "metadata": {},
   "outputs": [
    {
     "data": {
      "text/plain": [
       "tensor([[0.0759],\n",
       "        [0.0759],\n",
       "        [0.0802],\n",
       "        [0.0564],\n",
       "        [0.0802],\n",
       "        [0.0759],\n",
       "        [0.0802],\n",
       "        [0.0802]])"
      ]
     },
     "execution_count": 36,
     "metadata": {},
     "output_type": "execute_result"
    }
   ],
   "source": [
    "labels_.mean(dim=1, keepdim=True)"
   ]
  },
  {
   "cell_type": "code",
   "execution_count": null,
   "metadata": {},
   "outputs": [],
   "source": []
  }
 ],
 "metadata": {
  "kernelspec": {
   "display_name": "mapv2",
   "language": "python",
   "name": "python3"
  },
  "language_info": {
   "codemirror_mode": {
    "name": "ipython",
    "version": 3
   },
   "file_extension": ".py",
   "mimetype": "text/x-python",
   "name": "python",
   "nbconvert_exporter": "python",
   "pygments_lexer": "ipython3",
   "version": "3.8.18"
  }
 },
 "nbformat": 4,
 "nbformat_minor": 2
}
