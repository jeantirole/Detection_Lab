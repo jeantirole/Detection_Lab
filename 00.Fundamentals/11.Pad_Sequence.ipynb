{
 "cells": [
  {
   "cell_type": "code",
   "execution_count": 5,
   "metadata": {},
   "outputs": [],
   "source": [
    "import torch \n",
    "from torch.nn.utils.rnn import pad_sequence"
   ]
  },
  {
   "cell_type": "code",
   "execution_count": 3,
   "metadata": {},
   "outputs": [],
   "source": [
    "bboxes = []\n",
    "a = torch.tensor([[156.,  97., 351., 270.]])\n",
    "b = torch.tensor([[209., 187., 228., 230.],\n",
    "                 [242., 182., 274., 259.],\n",
    "                 [269., 188., 295., 259.]])\n",
    "bboxes.append(a)\n",
    "bboxes.append(b)"
   ]
  },
  {
   "cell_type": "code",
   "execution_count": 4,
   "metadata": {},
   "outputs": [
    {
     "data": {
      "text/plain": [
       "[tensor([[156.,  97., 351., 270.]]),\n",
       " tensor([[209., 187., 228., 230.],\n",
       "         [242., 182., 274., 259.],\n",
       "         [269., 188., 295., 259.]])]"
      ]
     },
     "execution_count": 4,
     "metadata": {},
     "output_type": "execute_result"
    }
   ],
   "source": [
    "bboxes"
   ]
  },
  {
   "cell_type": "code",
   "execution_count": 8,
   "metadata": {},
   "outputs": [],
   "source": [
    "pad_sequenced = pad_sequence(bboxes, batch_first=True, padding_value=-1)"
   ]
  },
  {
   "cell_type": "code",
   "execution_count": 9,
   "metadata": {},
   "outputs": [
    {
     "data": {
      "text/plain": [
       "tensor([[[156.,  97., 351., 270.],\n",
       "         [ -1.,  -1.,  -1.,  -1.],\n",
       "         [ -1.,  -1.,  -1.,  -1.]],\n",
       "\n",
       "        [[209., 187., 228., 230.],\n",
       "         [242., 182., 274., 259.],\n",
       "         [269., 188., 295., 259.]]])"
      ]
     },
     "execution_count": 9,
     "metadata": {},
     "output_type": "execute_result"
    }
   ],
   "source": [
    "pad_sequenced"
   ]
  }
 ],
 "metadata": {
  "kernelspec": {
   "display_name": "a.samrs",
   "language": "python",
   "name": "python3"
  },
  "language_info": {
   "codemirror_mode": {
    "name": "ipython",
    "version": 3
   },
   "file_extension": ".py",
   "mimetype": "text/x-python",
   "name": "python",
   "nbconvert_exporter": "python",
   "pygments_lexer": "ipython3",
   "version": "3.8.17"
  }
 },
 "nbformat": 4,
 "nbformat_minor": 2
}
