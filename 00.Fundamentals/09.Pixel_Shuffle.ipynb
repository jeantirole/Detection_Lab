{
 "cells": [
  {
   "cell_type": "code",
   "execution_count": 18,
   "metadata": {},
   "outputs": [
    {
     "name": "stdout",
     "output_type": "stream",
     "text": [
      "torch.Size([1, 64, 224, 112])\n"
     ]
    }
   ],
   "source": [
    "import torch \n",
    "\n",
    "input = torch.randn(1, 1024, 56, 28)\n",
    "output = torch.nn.functional.pixel_shuffle(input, 4)\n",
    "print(output.size())"
   ]
  },
  {
   "cell_type": "code",
   "execution_count": 19,
   "metadata": {},
   "outputs": [],
   "source": [
    "import torch.nn as nn\n",
    "# stack layers according to the # custom hyper parameter \n",
    "class middle_stem(nn.Module):\n",
    "    def __init__(self, in_channels, out_channels, scaler=None):\n",
    "        super(middle_stem, self).__init__()\n",
    "        \n",
    "        self.scaler = scaler\n",
    "        self.conv1x1 = nn.Conv2d(in_channels//(self.scaler**2), out_channels, kernel_size=1)\n",
    "        \n",
    "        # # Stack self.deconv layers\n",
    "        # self.deconv_layers = nn.ModuleList([\n",
    "        #     nn.ConvTranspose2d(out_channels, out_channels, kernel_size=4, stride=2, padding=1)\n",
    "        #     for _ in range(num_layers)\n",
    "        # ])\n",
    "        \n",
    "        self.batchnorm = nn.BatchNorm2d(out_channels)\n",
    "        self.relu = nn.ReLU(inplace=True)\n",
    "        \n",
    "\n",
    "    def forward(self, x):\n",
    "        # x = self.conv1x1(x)\n",
    "        \n",
    "        # for deconv_layer in self.deconv_layers:\n",
    "        #     x = deconv_layer(x)\n",
    "        #     x = self.batchnorm(x)\n",
    "        #     x = self.relu(x)\n",
    "        x = torch.nn.functional.pixel_shuffle(x, self.scaler)\n",
    "        x = self.conv1x1(x)\n",
    "        x = self.batchnorm(x)\n",
    "        x = self.relu(x)    \n",
    "        \n",
    "        return x"
   ]
  },
  {
   "cell_type": "code",
   "execution_count": 20,
   "metadata": {},
   "outputs": [],
   "source": [
    "middle_stem_1 = middle_stem(1024, 384, 1)\n",
    "middle_stem_2 = middle_stem(1024, 192, 2)\n",
    "middle_stem_3 = middle_stem(1024, 96, 4)\n"
   ]
  },
  {
   "cell_type": "code",
   "execution_count": 21,
   "metadata": {},
   "outputs": [],
   "source": [
    "import torch\n",
    "x = torch.randn(1,1024,56,28)"
   ]
  },
  {
   "cell_type": "code",
   "execution_count": 22,
   "metadata": {},
   "outputs": [],
   "source": [
    "a = middle_stem_3(x)"
   ]
  },
  {
   "cell_type": "code",
   "execution_count": 23,
   "metadata": {},
   "outputs": [
    {
     "data": {
      "text/plain": [
       "torch.Size([1, 96, 224, 112])"
      ]
     },
     "execution_count": 23,
     "metadata": {},
     "output_type": "execute_result"
    }
   ],
   "source": [
    "a.shape"
   ]
  }
 ],
 "metadata": {
  "kernelspec": {
   "display_name": "8.tmp",
   "language": "python",
   "name": "python3"
  },
  "language_info": {
   "codemirror_mode": {
    "name": "ipython",
    "version": 3
   },
   "file_extension": ".py",
   "mimetype": "text/x-python",
   "name": "python",
   "nbconvert_exporter": "python",
   "pygments_lexer": "ipython3",
   "version": "3.8.17"
  }
 },
 "nbformat": 4,
 "nbformat_minor": 2
}
