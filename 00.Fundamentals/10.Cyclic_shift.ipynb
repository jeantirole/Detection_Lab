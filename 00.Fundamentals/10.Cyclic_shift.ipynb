{
 "cells": [
  {
   "cell_type": "code",
   "execution_count": 78,
   "metadata": {},
   "outputs": [],
   "source": [
    "mat = [[1,2,1,2],[5,5,5,5],[6,3,6,3]] \n",
    "# m x n matrix \n",
    "k = 2"
   ]
  },
  {
   "cell_type": "code",
   "execution_count": 107,
   "metadata": {},
   "outputs": [
    {
     "data": {
      "text/plain": [
       "array([[1, 2, 1, 2],\n",
       "       [5, 5, 5, 5],\n",
       "       [6, 3, 6, 3]])"
      ]
     },
     "execution_count": 107,
     "metadata": {},
     "output_type": "execute_result"
    }
   ],
   "source": [
    "origin_mat = np.asarray(mat)\n",
    "origin_mat"
   ]
  },
  {
   "cell_type": "code",
   "execution_count": 117,
   "metadata": {},
   "outputs": [
    {
     "name": "stdout",
     "output_type": "stream",
     "text": [
      "[array([2, 5, 3])]\n",
      "before pop :  [[1 1 2 1]\n",
      " [5 5 5 5]\n",
      " [6 6 3 6]]\n",
      "[[2 1 2 1]\n",
      " [5 5 5 5]\n",
      " [3 6 3 6]]\n",
      "[array([1, 5, 6])]\n",
      "before pop :  [[2 2 1 2]\n",
      " [5 5 5 5]\n",
      " [3 3 6 3]]\n",
      "[[1 2 1 2]\n",
      " [5 5 5 5]\n",
      " [6 3 6 3]]\n",
      "[[ True  True  True  True]\n",
      " [ True  True  True  True]\n",
      " [ True  True  True  True]]\n",
      "True\n"
     ]
    }
   ],
   "source": [
    "mat = [[1,2,1,2],[5,5,5,5],[6,3,6,3]] \n",
    "# m x n matrix \n",
    "k = 2\n",
    "\n",
    "#--------------------------------------------\n",
    "import numpy as np\n",
    "\n",
    "mat_ = np.asarray(mat)\n",
    "mat_ori = np.asarray(mat)\n",
    "\n",
    "\n",
    "#---\n",
    "que = []\n",
    "\n",
    "for _ in range(k):\n",
    "    que.append(mat_[:,-1].copy())\n",
    "    #print(mat_[:,-1])\n",
    "    print(que)\n",
    "\n",
    "    #---\n",
    "    for col in range(mat_.shape[1]-1, -1, -1):\n",
    "        \n",
    "        mat_[:,col] = mat_[:,col-1]\n",
    "\n",
    "    print(\"before pop : \", mat_)\n",
    "    #--- \n",
    "    mat_[:,0] = que.pop() \n",
    "\n",
    "    print(mat_)\n",
    "\n",
    "\n",
    "print(mat_ == mat_ori)\n",
    "print(np.array_equal(mat_, mat_ori))"
   ]
  }
 ],
 "metadata": {
  "kernelspec": {
   "display_name": "8.tmp",
   "language": "python",
   "name": "python3"
  },
  "language_info": {
   "codemirror_mode": {
    "name": "ipython",
    "version": 3
   },
   "file_extension": ".py",
   "mimetype": "text/x-python",
   "name": "python",
   "nbconvert_exporter": "python",
   "pygments_lexer": "ipython3",
   "version": "3.8.17"
  }
 },
 "nbformat": 4,
 "nbformat_minor": 2
}
