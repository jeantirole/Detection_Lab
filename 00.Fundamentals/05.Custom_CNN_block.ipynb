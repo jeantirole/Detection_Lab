{
 "cells": [
  {
   "cell_type": "code",
   "execution_count": 2,
   "metadata": {},
   "outputs": [
    {
     "name": "stdout",
     "output_type": "stream",
     "text": [
      "Output shape: torch.Size([1, 512, 448, 224])\n"
     ]
    }
   ],
   "source": [
    "import torch\n",
    "import torch.nn as nn\n",
    "\n",
    "class CustomBlock(nn.Module):\n",
    "    def __init__(self, in_channels=3, out_channels=512):\n",
    "        '''        \n",
    "        # Example usage:\n",
    "        in_channels = 3\n",
    "        out_channels = 512\n",
    "        '''\n",
    "        super(CustomBlock, self).__init__()\n",
    "        \n",
    "        self.conv1 = nn.Conv2d(in_channels, out_channels, kernel_size=3, stride=2, padding=1)\n",
    "        self.norm1 = nn.BatchNorm2d(out_channels)\n",
    "        self.activation1 = nn.ReLU(inplace=True)\n",
    "        \n",
    "        self.conv2 = nn.Conv2d(out_channels, out_channels, kernel_size=3, padding=1)\n",
    "        self.norm2 = nn.BatchNorm2d(out_channels)\n",
    "        self.activation2 = nn.ReLU(inplace=True)\n",
    "        \n",
    "        self.conv3 = nn.Conv2d(out_channels, out_channels, kernel_size=3, padding=1)\n",
    "        self.norm3 = nn.BatchNorm2d(out_channels)\n",
    "        self.activation3 = nn.ReLU(inplace=True)\n",
    "        \n",
    "        self.conv4 = nn.Conv2d(out_channels, out_channels, kernel_size=1)\n",
    "        self.norm4 = nn.BatchNorm2d(out_channels)\n",
    "        self.activation4 = nn.ReLU(inplace=True)\n",
    "        \n",
    "    def forward(self, x):\n",
    "        x = self.conv1(x)\n",
    "        x = self.norm1(x)\n",
    "        x = self.activation1(x)\n",
    "        \n",
    "        x = self.conv2(x)\n",
    "        x = self.norm2(x)\n",
    "        x = self.activation2(x)\n",
    "        \n",
    "        x = self.conv3(x)\n",
    "        x = self.norm3(x)\n",
    "        x = self.activation3(x)\n",
    "        \n",
    "        x = self.conv4(x)\n",
    "        x = self.norm4(x)\n",
    "        x = self.activation4(x)\n",
    "        \n",
    "        return x\n",
    "\n",
    "# Example usage:\n",
    "in_channels = 3\n",
    "out_channels = 512\n",
    "\n",
    "# Assuming input tensor x has shape (batch_size, in_channels, height, width)\n",
    "x = torch.randn(1, 3, 896, 448)  # Example input tensor\n",
    "\n",
    "\n",
    "#total_size = in_channels * height_ * width_ \n",
    "#output_shape = (in_channels/2, height_/2 , width_/2)\n",
    "#print(total_size * 1/height_ * 1/width_)\n",
    "\n",
    "\n",
    "custom_block = CustomBlock(in_channels, out_channels)\n",
    "output = custom_block(x)\n",
    "print(\"Output shape:\", output.shape)  # Expected output shape: (batch_size, out_channels, 16, 16) due to the stride of 2 in the first convolution layer\n"
   ]
  }
 ],
 "metadata": {
  "kernelspec": {
   "display_name": "8.tmp",
   "language": "python",
   "name": "python3"
  },
  "language_info": {
   "codemirror_mode": {
    "name": "ipython",
    "version": 3
   },
   "file_extension": ".py",
   "mimetype": "text/x-python",
   "name": "python",
   "nbconvert_exporter": "python",
   "pygments_lexer": "ipython3",
   "version": "3.8.17"
  }
 },
 "nbformat": 4,
 "nbformat_minor": 2
}
