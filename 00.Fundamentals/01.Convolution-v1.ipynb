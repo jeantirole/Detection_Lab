{
 "cells": [
  {
   "cell_type": "code",
   "execution_count": 114,
   "metadata": {},
   "outputs": [],
   "source": [
    "#----------------------------\n",
    "# make convolution ! \n",
    "#----------------------------\n",
    "\n",
    "import torch\n",
    "import torchvision\n",
    "import numpy as np\n",
    "import matplotlib.pyplot as plt"
   ]
  },
  {
   "cell_type": "code",
   "execution_count": 115,
   "metadata": {},
   "outputs": [],
   "source": [
    "# dummy data\n",
    "demo_d = np.asarray( [[0,1,7,5],\n",
    "[5,5,6,6],\n",
    "[5,3,3,0],\n",
    "[1,1,1,2]] ) "
   ]
  },
  {
   "cell_type": "code",
   "execution_count": 116,
   "metadata": {},
   "outputs": [
    {
     "name": "stdout",
     "output_type": "stream",
     "text": [
      "[[0 1]\n",
      " [5 5]]\n",
      "[[7 5]\n",
      " [6 6]]\n",
      "[[5 3]\n",
      " [1 1]]\n",
      "[[3 0]\n",
      " [1 2]]\n"
     ]
    }
   ],
   "source": [
    "# conv !!\n",
    "\n",
    "#----------------------\n",
    "# hyper parameters\n",
    "filter_size = 2\n",
    "stride = 2\n",
    "\n",
    "#----------------------\n",
    "# dummys\n",
    "sample = demo_d\n",
    "tmp_ = []\n",
    "conv_r = []\n",
    "conv_m = np.asarray( [[1,0],\n",
    "    [1,2]] )\n",
    "\n",
    "#----------------------\n",
    "# function \n",
    "for i in range(0,len(sample[0]) - filter_size + 1 , stride):\n",
    "    for k in range(0,len(sample[1]) - filter_size + 1 , stride):\n",
    "        patch = sample[i:i+filter_size,k:k+filter_size]\n",
    "        re_ = patch * conv_m\n",
    "        print(patch)\n",
    "\n",
    "        tmp_.append(patch)\n",
    "        conv_r.append(np.sum(re_))\n",
    "\n"
   ]
  },
  {
   "cell_type": "code",
   "execution_count": 117,
   "metadata": {},
   "outputs": [
    {
     "data": {
      "text/plain": [
       "[15, 25, 8, 8]"
      ]
     },
     "execution_count": 117,
     "metadata": {},
     "output_type": "execute_result"
    }
   ],
   "source": [
    "# stride 를 위에서 처럼 range 에서 주지 않고, for 문의 var 에다가 곱하면은 \n",
    "# 최종 matrix 의 행렬값에다가 var 을 바로 넣어서 쓸 수 있다. => to be updated \n",
    "conv_r"
   ]
  },
  {
   "cell_type": "code",
   "execution_count": 118,
   "metadata": {},
   "outputs": [],
   "source": [
    "# add padding \n",
    "pad_size =1\n",
    "\n",
    "empty_size = len(sample[0]) + (pad_size * 2)\n",
    "empty_zeros = np.zeros( (empty_size,empty_size) ) "
   ]
  },
  {
   "cell_type": "code",
   "execution_count": 119,
   "metadata": {},
   "outputs": [
    {
     "data": {
      "text/plain": [
       "array([[0., 0., 0., 0., 0., 0.],\n",
       "       [0., 0., 0., 0., 0., 0.],\n",
       "       [0., 0., 0., 0., 0., 0.],\n",
       "       [0., 0., 0., 0., 0., 0.],\n",
       "       [0., 0., 0., 0., 0., 0.],\n",
       "       [0., 0., 0., 0., 0., 0.]])"
      ]
     },
     "execution_count": 119,
     "metadata": {},
     "output_type": "execute_result"
    }
   ],
   "source": [
    "empty_zeros"
   ]
  },
  {
   "cell_type": "code",
   "execution_count": 120,
   "metadata": {},
   "outputs": [],
   "source": [
    "empty_zeros[0+pad_size : empty_size-pad_size, 0+pad_size : empty_size-pad_size] = sample"
   ]
  },
  {
   "cell_type": "code",
   "execution_count": 121,
   "metadata": {},
   "outputs": [
    {
     "data": {
      "text/plain": [
       "array([[0., 0., 0., 0., 0., 0.],\n",
       "       [0., 0., 1., 7., 5., 0.],\n",
       "       [0., 5., 5., 6., 6., 0.],\n",
       "       [0., 5., 3., 3., 0., 0.],\n",
       "       [0., 1., 1., 1., 2., 0.],\n",
       "       [0., 0., 0., 0., 0., 0.]])"
      ]
     },
     "execution_count": 121,
     "metadata": {},
     "output_type": "execute_result"
    }
   ],
   "source": [
    "empty_zeros"
   ]
  },
  {
   "cell_type": "code",
   "execution_count": 124,
   "metadata": {},
   "outputs": [
    {
     "name": "stdout",
     "output_type": "stream",
     "text": [
      "Username for 'https://github.com': ^C\n"
     ]
    }
   ],
   "source": [
    "!git push origin"
   ]
  },
  {
   "cell_type": "code",
   "execution_count": null,
   "metadata": {},
   "outputs": [],
   "source": [
    "!git push origin"
   ]
  }
 ],
 "metadata": {
  "kernelspec": {
   "display_name": "8.tmp",
   "language": "python",
   "name": "python3"
  },
  "language_info": {
   "codemirror_mode": {
    "name": "ipython",
    "version": 3
   },
   "file_extension": ".py",
   "mimetype": "text/x-python",
   "name": "python",
   "nbconvert_exporter": "python",
   "pygments_lexer": "ipython3",
   "version": "3.8.17"
  }
 },
 "nbformat": 4,
 "nbformat_minor": 2
}
