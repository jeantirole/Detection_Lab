{
 "cells": [
  {
   "cell_type": "code",
   "execution_count": 8,
   "metadata": {},
   "outputs": [
    {
     "name": "stdout",
     "output_type": "stream",
     "text": [
      "Output shape: torch.Size([1, 16, 32, 32])\n"
     ]
    }
   ],
   "source": [
    "import torch\n",
    "import torch.nn as nn\n",
    "\n",
    "# Define a simple model with 1x1 convolution\n",
    "class OneByOneConvModel(nn.Module):\n",
    "    def __init__(self, in_channels, out_channels):\n",
    "        super(OneByOneConvModel, self).__init__()\n",
    "        self.conv1x1 = nn.Conv2d(in_channels, out_channels, kernel_size=1)\n",
    "\n",
    "    def forward(self, x):\n",
    "        x = self.conv1x1(x)\n",
    "        return x\n",
    "\n",
    "# Example usage:\n",
    "input_shape = (3, 32, 32)  # Input shape (channels, height, width)\n",
    "in_channels = input_shape[0]\n",
    "out_channels = 16\n",
    "\n",
    "# Create an input tensor\n",
    "input_tensor = torch.randn(1, *input_shape)  # Batch size 1\n",
    "\n",
    "# Instantiate the model\n",
    "model = OneByOneConvModel(in_channels, out_channels)\n",
    "\n",
    "# Forward pass\n",
    "output_tensor = model(input_tensor)\n",
    "print(\"Output shape:\", output_tensor.shape)\n"
   ]
  },
  {
   "cell_type": "code",
   "execution_count": 9,
   "metadata": {},
   "outputs": [],
   "source": [
    "class middle_stem(nn.Module):\n",
    "    def __init__(self, in_channels, out_channels):\n",
    "        super(middle_stem, self).__init__()\n",
    "        self.conv1x1 = nn.Conv2d(in_channels, out_channels, kernel_size=1)\n",
    "        self.deconv = nn.ConvTranspose2d(out_channels, out_channels, kernel_size=4, stride=2, padding=1)\n",
    "        self.batchnorm = nn.BatchNorm2d(out_channels)\n",
    "        self.relu = nn.ReLU(inplace=True)\n",
    "        \n",
    "\n",
    "    def forward(self, x):\n",
    "        x = self.conv1x1(x)\n",
    "        x = self.deconv(x)\n",
    "        x = self.batchnorm(x)\n",
    "        x = self.relu(x)\n",
    "        return x"
   ]
  },
  {
   "cell_type": "code",
   "execution_count": 10,
   "metadata": {},
   "outputs": [
    {
     "name": "stdout",
     "output_type": "stream",
     "text": [
      "torch.Size([1, 512, 224, 112])\n"
     ]
    }
   ],
   "source": [
    "input_tensor = torch.randn( 1, 1024, 56, 28)\n",
    "\n",
    "middle_ = middle_stem(1024, 512)\n",
    "out = middle_.forward(input_tensor)\n",
    "print(out.shape)"
   ]
  },
  {
   "cell_type": "code",
   "execution_count": 11,
   "metadata": {},
   "outputs": [],
   "source": [
    "# stack layers according to the # custom hyper parameter \n",
    "\n",
    "class middle_stem(nn.Module):\n",
    "    def __init__(self, in_channels, out_channels, num_layers=1):\n",
    "        super(middle_stem, self).__init__()\n",
    "        self.conv1x1 = nn.Conv2d(in_channels, out_channels, kernel_size=1)\n",
    "        \n",
    "        # Stack self.deconv layers\n",
    "        self.deconv_layers = nn.ModuleList([\n",
    "            nn.ConvTranspose2d(out_channels, out_channels, kernel_size=4, stride=2, padding=1)\n",
    "            for _ in range(num_layers)\n",
    "        ])\n",
    "        \n",
    "        self.batchnorm = nn.BatchNorm2d(out_channels)\n",
    "        self.relu = nn.ReLU(inplace=True)\n",
    "        \n",
    "\n",
    "    def forward(self, x):\n",
    "        x = self.conv1x1(x)\n",
    "        \n",
    "        # Forward pass through each deconv layer in the ModuleList\n",
    "        for deconv_layer in self.deconv_layers:\n",
    "            x = deconv_layer(x)\n",
    "            x = self.batchnorm(x)\n",
    "            x = self.relu(x)\n",
    "        \n",
    "        return x"
   ]
  },
  {
   "cell_type": "code",
   "execution_count": 16,
   "metadata": {},
   "outputs": [
    {
     "name": "stdout",
     "output_type": "stream",
     "text": [
      "torch.Size([1, 512, 112, 56])\n"
     ]
    }
   ],
   "source": [
    "input_tensor = torch.randn( 1, 1024, 56, 28)\n",
    "\n",
    "middle_ = middle_stem(1024, 512, 1)\n",
    "out = middle_.forward(input_tensor)\n",
    "print(out.shape)"
   ]
  }
 ],
 "metadata": {
  "kernelspec": {
   "display_name": "8.tmp",
   "language": "python",
   "name": "python3"
  },
  "language_info": {
   "codemirror_mode": {
    "name": "ipython",
    "version": 3
   },
   "file_extension": ".py",
   "mimetype": "text/x-python",
   "name": "python",
   "nbconvert_exporter": "python",
   "pygments_lexer": "ipython3",
   "version": "3.8.17"
  }
 },
 "nbformat": 4,
 "nbformat_minor": 2
}
