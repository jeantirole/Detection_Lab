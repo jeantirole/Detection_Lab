{
 "cells": [
  {
   "cell_type": "code",
   "execution_count": 1,
   "metadata": {},
   "outputs": [
    {
     "name": "stderr",
     "output_type": "stream",
     "text": [
      "/mnt/hdd/eric/.conda/envs/12.tmp/lib/python3.8/site-packages/tqdm/auto.py:21: TqdmWarning: IProgress not found. Please update jupyter and ipywidgets. See https://ipywidgets.readthedocs.io/en/stable/user_install.html\n",
      "  from .autonotebook import tqdm as notebook_tqdm\n"
     ]
    }
   ],
   "source": [
    "import torch "
   ]
  },
  {
   "cell_type": "code",
   "execution_count": 2,
   "metadata": {},
   "outputs": [
    {
     "name": "stdout",
     "output_type": "stream",
     "text": [
      "On branch master\n",
      "Changes not staged for commit:\n",
      "  (use \"git add/rm <file>...\" to update what will be committed)\n",
      "  (use \"git restore <file>...\" to discard changes in working directory)\n",
      "  (commit or discard the untracked or modified content in submodules)\n",
      "\t\u001b[31mdeleted:    01.Convolution.ipynb\u001b[m\n",
      "\t\u001b[31mmodified:   ../05.Tasks/ObjectDetection/00.Benchmark/faster_rcnn_pytorch\u001b[m (modified content, untracked content)\n",
      "\t\u001b[31mmodified:   ../06.Gits/01.SAMRS_MTP/MTP\u001b[m (modified content, untracked content)\n",
      "\t\u001b[31mmodified:   ../06.Gits/02.DDETR/Deformable-DETR\u001b[m (modified content, untracked content)\n",
      "\t\u001b[31mmodified:   ../06.Gits/Faster_RCNN_/simple-faster-rcnn-pytorch\u001b[m (modified content, untracked content)\n",
      "\t\u001b[31mmodified:   ../06.Gits/SAM_RS\u001b[m (modified content, untracked content)\n",
      "\t\u001b[31mmodified:   ../06.Gits/ViTAE-Transformer/MTP\u001b[m (untracked content)\n",
      "\n",
      "Untracked files:\n",
      "  (use \"git add <file>...\" to include in what will be committed)\n",
      "\t\u001b[31m01.Convolution-v1.ipynb\u001b[m\n",
      "\t\u001b[31m01.Convolution-v2.ipynb\u001b[m\n",
      "\t\u001b[31m23.Deformarable_Conv.ipynb\u001b[m\n",
      "\t\u001b[31m../06.Gits/03.OWDETR/\u001b[m\n",
      "\n",
      "no changes added to commit (use \"git add\" and/or \"git commit -a\")\n"
     ]
    }
   ],
   "source": [
    "!git status\n"
   ]
  },
  {
   "cell_type": "code",
   "execution_count": 3,
   "metadata": {},
   "outputs": [],
   "source": [
    "!git add ."
   ]
  },
  {
   "cell_type": "code",
   "execution_count": 4,
   "metadata": {},
   "outputs": [
    {
     "name": "stdout",
     "output_type": "stream",
     "text": [
      "Auto packing the repository in background for optimum performance.\n",
      "See \"git help gc\" for manual housekeeping.\n",
      "warning: The last gc run reported the following. Please correct the root cause\n",
      "and remove .git/gc.log.\n",
      "Automatic cleanup will not be performed until the file is removed.\n",
      "\n",
      "warning: There are too many unreachable loose objects; run 'git prune' to remove them.\n",
      "\n",
      "[master 340d932] deformarable conv v1\n",
      " 3 files changed, 225 insertions(+)\n",
      " rename 00.Fundamentals/{01.Convolution.ipynb => 01.Convolution-v1.ipynb} (100%)\n",
      " create mode 100644 00.Fundamentals/01.Convolution-v2.ipynb\n",
      " create mode 100644 00.Fundamentals/23.Deformarable_Conv.ipynb\n"
     ]
    }
   ],
   "source": [
    "!git commit -m \"deformarable conv v1\""
   ]
  },
  {
   "cell_type": "code",
   "execution_count": null,
   "metadata": {},
   "outputs": [],
   "source": []
  }
 ],
 "metadata": {
  "kernelspec": {
   "display_name": "12.tmp",
   "language": "python",
   "name": "python3"
  },
  "language_info": {
   "codemirror_mode": {
    "name": "ipython",
    "version": 3
   },
   "file_extension": ".py",
   "mimetype": "text/x-python",
   "name": "python",
   "nbconvert_exporter": "python",
   "pygments_lexer": "ipython3",
   "version": "3.8.18"
  }
 },
 "nbformat": 4,
 "nbformat_minor": 2
}
