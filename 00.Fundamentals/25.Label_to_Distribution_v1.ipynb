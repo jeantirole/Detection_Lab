{
 "cells": [
  {
   "cell_type": "markdown",
   "metadata": {},
   "source": [
    "# Label to Distribution \n",
    "\n",
    "- label to gaussian pdf "
   ]
  },
  {
   "cell_type": "code",
   "execution_count": 2,
   "metadata": {},
   "outputs": [],
   "source": [
    "import numpy as np\n",
    "import torch\n",
    "import torch.nn as nn\n",
    "import torch.nn.functional as F\n",
    "from torch.autograd import Variable\n",
    "from torch.nn.modules.loss import _WeightedLoss"
   ]
  },
  {
   "cell_type": "code",
   "execution_count": 13,
   "metadata": {},
   "outputs": [],
   "source": [
    "st = torch.tensor( [0.1250, 0.5000, 0.1250, 0.1250, 0.1250])"
   ]
  },
  {
   "cell_type": "code",
   "execution_count": 14,
   "metadata": {},
   "outputs": [
    {
     "name": "stdout",
     "output_type": "stream",
     "text": [
      "tensor(1.0015)\n"
     ]
    }
   ],
   "source": [
    "x = torch.tensor([-1.7,-1,-0.5, 0, 0.5, 1, 1.7])\n",
    "\n",
    "def pdf_fn(x):\n",
    "  x_pdf = torch.exp( -(x)**2 /2  ) * 1/( torch.pi * torch.sqrt(torch.tensor(2)) )\n",
    "  return x_pdf\n",
    "\n",
    "x_pdf = torch.exp( -(x)**2 /2  ) * 1/( torch.pi * torch.sqrt(torch.tensor(2)) )\n",
    "print(torch.sum(x_pdf))"
   ]
  },
  {
   "cell_type": "code",
   "execution_count": 15,
   "metadata": {},
   "outputs": [
    {
     "data": {
      "text/plain": [
       "7"
      ]
     },
     "execution_count": 15,
     "metadata": {},
     "output_type": "execute_result"
    }
   ],
   "source": [
    "label = torch.tensor([0,0,0, 0, 0, 1, 0])\n",
    "len(label)"
   ]
  },
  {
   "cell_type": "code",
   "execution_count": 16,
   "metadata": {},
   "outputs": [
    {
     "data": {
      "text/plain": [
       "[5, 4, 3, 2, 1, 0, 1]"
      ]
     },
     "execution_count": 16,
     "metadata": {},
     "output_type": "execute_result"
    }
   ],
   "source": [
    "def label_to_dist(label):\n",
    "  gap_ = 1\n",
    "  target_label_index = torch.where(label==1)[0][0].numpy()\n",
    "  label_dist = [i for i in np.arange(target_label_index,0,-gap_)] + [i for i in np.arange(0,len(label) - target_label_index,gap_ )]\n",
    "  return label_dist\n",
    "\n",
    "target_label_index = torch.where(label==1)[0][0].numpy()\n",
    "[i for i in range(target_label_index,0,-1)] + [i for i in range(0,len(label) - target_label_index )]"
   ]
  },
  {
   "cell_type": "code",
   "execution_count": 17,
   "metadata": {},
   "outputs": [
    {
     "name": "stdout",
     "output_type": "stream",
     "text": [
      "[5, 4, 3, 2, 1, 0, 1]\n",
      "tensor([8.3879e-07, 7.5506e-05, 2.5004e-03, 3.0461e-02, 1.3652e-01, 2.2508e-01,\n",
      "        1.3652e-01])\n"
     ]
    }
   ],
   "source": [
    "y = label_to_dist(label)\n",
    "print(y)\n",
    "y = torch.tensor(y)\n",
    "q = pdf_fn(y)\n",
    "print(q)"
   ]
  },
  {
   "cell_type": "code",
   "execution_count": 8,
   "metadata": {},
   "outputs": [
    {
     "data": {
      "text/plain": [
       "<BarContainer object of 7 artists>"
      ]
     },
     "execution_count": 8,
     "metadata": {},
     "output_type": "execute_result"
    },
    {
     "data": {
      "image/png": "[encoded data removed]",
      "text/plain": [
       "<Figure size 640x480 with 1 Axes>"
      ]
     },
     "metadata": {},
     "output_type": "display_data"
    }
   ],
   "source": [
    "import matplotlib.pyplot as plt\n",
    "\n",
    "plt.bar([0,1,2,3,4,5,6],q.numpy())"
   ]
  },
  {
   "cell_type": "code",
   "execution_count": 9,
   "metadata": {},
   "outputs": [],
   "source": [
    "prediction = torch.tensor( [0.1,0.1,\n",
    "                            0.1,0.1,\n",
    "                            0.1,0.4,\n",
    "                            0.1] )"
   ]
  },
  {
   "cell_type": "code",
   "execution_count": 10,
   "metadata": {},
   "outputs": [
    {
     "name": "stdout",
     "output_type": "stream",
     "text": [
      "tensor([1.5792e-06, 1.4215e-04, 4.7075e-03, 5.7349e-02, 2.5702e-01, 4.2376e-01,\n",
      "        2.5702e-01])\n"
     ]
    },
    {
     "data": {
      "text/plain": [
       "<BarContainer object of 7 artists>"
      ]
     },
     "execution_count": 10,
     "metadata": {},
     "output_type": "execute_result"
    },
    {
     "data": {
      "image/png": "[encoded data removed]",
      "text/plain": [
       "<Figure size 640x480 with 1 Axes>"
      ]
     },
     "metadata": {},
     "output_type": "display_data"
    }
   ],
   "source": [
    "  # target 도 normalize 되어야 하나, => softmax 로 normalize 하면은 분포가 너무 고르게 된다.\n",
    "# -->\n",
    "target = q.clone()\n",
    "target = target / sum(target)\n",
    "#target = torch.tensor( [i/sum(target) for i in target] )\n",
    "print(target)\n",
    "plt.bar([0,1,2,3,4,5,6],target)"
   ]
  },
  {
   "cell_type": "code",
   "execution_count": 11,
   "metadata": {},
   "outputs": [
    {
     "data": {
      "text/plain": [
       "tensor(0.0661)"
      ]
     },
     "execution_count": 11,
     "metadata": {},
     "output_type": "execute_result"
    }
   ],
   "source": [
    "F.kl_div(prediction.log(), target, None, None, 'batchmean')\n",
    "\n",
    "# 0.0046 <- prediction = ... 0.1, 0.4]\n",
    "# -0.0129 <- prediction = ... 0.4, 0.1]"
   ]
  },
  {
   "cell_type": "code",
   "execution_count": 12,
   "metadata": {},
   "outputs": [
    {
     "data": {
      "text/plain": [
       "tensor(1.6947)"
      ]
     },
     "execution_count": 12,
     "metadata": {},
     "output_type": "execute_result"
    }
   ],
   "source": [
    "ce_target = torch.tensor([0,0,0,\n",
    "                          0,0,1,\n",
    "                          0],dtype=torch.float)\n",
    "F.cross_entropy(prediction, ce_target)"
   ]
  },
  {
   "cell_type": "code",
   "execution_count": null,
   "metadata": {},
   "outputs": [],
   "source": []
  }
 ],
 "metadata": {
  "kernelspec": {
   "display_name": "mapv2",
   "language": "python",
   "name": "python3"
  },
  "language_info": {
   "codemirror_mode": {
    "name": "ipython",
    "version": 3
   },
   "file_extension": ".py",
   "mimetype": "text/x-python",
   "name": "python",
   "nbconvert_exporter": "python",
   "pygments_lexer": "ipython3",
   "version": "3.8.18"
  }
 },
 "nbformat": 4,
 "nbformat_minor": 2
}
