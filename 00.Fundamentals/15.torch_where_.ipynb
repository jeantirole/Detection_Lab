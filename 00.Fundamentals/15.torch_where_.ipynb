{
 "cells": [
  {
   "cell_type": "code",
   "execution_count": 38,
   "metadata": {},
   "outputs": [],
   "source": [
    "import torch "
   ]
  },
  {
   "cell_type": "code",
   "execution_count": 44,
   "metadata": {},
   "outputs": [
    {
     "data": {
      "text/plain": [
       "'\\n- torch.where 사용법 정리 \\n\\n1) get indice \\na = torch.tensor([1, 2, 3, 4, 6])\\ntorch.where(a < 4)[0]\\n\\n2) Boolean mask \\na = torch.tensor([1, 2, 3, 4, 6])\\ntorch.where(a < 4,True,False)\\n\\n2) 2-d array get indices\\na = torch.tensor([[1, 2, 3, 4, 6],[1, 2, 3, 4, 6]])\\ntorch.where(a < 4)[0]\\ncan get row,col tuple ! \\n\\n'"
      ]
     },
     "execution_count": 44,
     "metadata": {},
     "output_type": "execute_result"
    }
   ],
   "source": [
    "'''\n",
    "- torch.where 사용법 정리 \n",
    "\n",
    "1) get indice \n",
    "a = torch.tensor([1, 2, 3, 4, 6])\n",
    "torch.where(a < 4)[0]\n",
    "\n",
    "2) Boolean mask \n",
    "a = torch.tensor([1, 2, 3, 4, 6])\n",
    "torch.where(a < 4,True,False)\n",
    "\n",
    "2) 2-d array get indices\n",
    "a = torch.tensor([[1, 2, 3, 4, 6],[1, 2, 3, 4, 6]])\n",
    "torch.where(a < 4)[0]\n",
    "can get row,col tuple ! \n",
    "\n",
    "'''"
   ]
  },
  {
   "cell_type": "code",
   "execution_count": 40,
   "metadata": {},
   "outputs": [],
   "source": [
    "mat = torch.randn(2,3)"
   ]
  },
  {
   "cell_type": "code",
   "execution_count": 41,
   "metadata": {},
   "outputs": [
    {
     "data": {
      "text/plain": [
       "tensor([[ True,  True, False],\n",
       "        [False,  True, False]])"
      ]
     },
     "execution_count": 41,
     "metadata": {},
     "output_type": "execute_result"
    }
   ],
   "source": [
    "torch.where( mat < 0, True, False)"
   ]
  },
  {
   "cell_type": "code",
   "execution_count": 42,
   "metadata": {},
   "outputs": [
    {
     "data": {
      "text/plain": [
       "tensor([0, 1, 2])"
      ]
     },
     "execution_count": 42,
     "metadata": {},
     "output_type": "execute_result"
    }
   ],
   "source": [
    "a = torch.tensor([1, 2, 3, 4, 6])\n",
    "torch.where(a < 4)[0]"
   ]
  },
  {
   "cell_type": "code",
   "execution_count": 43,
   "metadata": {},
   "outputs": [
    {
     "data": {
      "text/plain": [
       "tensor([ True,  True,  True, False, False])"
      ]
     },
     "execution_count": 43,
     "metadata": {},
     "output_type": "execute_result"
    }
   ],
   "source": [
    "a = torch.tensor([1, 2, 3, 4, 6])\n",
    "torch.where(a < 4,True,False)"
   ]
  },
  {
   "cell_type": "code",
   "execution_count": null,
   "metadata": {},
   "outputs": [],
   "source": [
    "positive_anc_mask = torch.logical_and(iou_mat == max_iou_per_gt_box, max_iou_per_gt_box > 0) \n",
    "# condition 2: anchor boxes with iou above a threshold with any of the gt bboxes\n",
    "positive_anc_mask = torch.logical_or(positive_anc_mask, iou_mat > pos_thresh)\n",
    "\n",
    "positive_anc_ind_sep = torch.where(positive_anc_mask)[0] # \n",
    "\n",
    "# expand gt classes to map against every anchor box\n",
    "gt_classes_expand = gt_classes_all.view(B, 1, N).expand(B, tot_anc_boxes, N)\n",
    "# for every anchor box, consider only the class of the gt bbox it overlaps with the most\n",
    "GT_class = torch.gather(gt_classes_expand, -1, max_iou_per_anc_ind.unsqueeze(-1)).squeeze(-1)"
   ]
  }
 ],
 "metadata": {
  "kernelspec": {
   "display_name": "8.tmp.copied",
   "language": "python",
   "name": "python3"
  },
  "language_info": {
   "codemirror_mode": {
    "name": "ipython",
    "version": 3
   },
   "file_extension": ".py",
   "mimetype": "text/x-python",
   "name": "python",
   "nbconvert_exporter": "python",
   "pygments_lexer": "ipython3",
   "version": "3.8.17"
  }
 },
 "nbformat": 4,
 "nbformat_minor": 2
}
