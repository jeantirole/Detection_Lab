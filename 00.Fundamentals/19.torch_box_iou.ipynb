{
 "cells": [
  {
   "cell_type": "code",
   "execution_count": null,
   "metadata": {},
   "outputs": [],
   "source": [
    "ops.box_iou\n",
    "\n",
    "\n",
    "def get_iou_mat(batch_size, anc_boxes_all, gt_bboxes_all,device=None):\n",
    "    '''\n",
    "    # B - Batch Size\n",
    "    # w_amap - width of the output activation map\n",
    "    # h_wmap - height of the output activation map\n",
    "    # n_anc_boxes - number of anchor boxes per an anchor point\n",
    "    # max_objects - max number of objects in a batch of images\n",
    "    # anc_boxes_tot - total number of anchor boxes in the image i.e, w_amap * h_amap * n_anc_boxes\n",
    "    \n",
    "    '''\n",
    "    \n",
    "    # flatten anchor boxes\n",
    "    anc_boxes_flat = anc_boxes_all.reshape(batch_size, -1, 4)\n",
    "    # get total anchor boxes for a single image\n",
    "    tot_anc_boxes = anc_boxes_flat.size(dim=1)\n",
    "    \n",
    "    # create a placeholder to compute IoUs amongst the boxes\n",
    "    ious_mat = torch.zeros((batch_size, tot_anc_boxes, gt_bboxes_all.size(dim=1)))\n",
    "\n",
    "    # compute IoU of the anc boxes with the gt boxes for all the images\n",
    "    for i in range(batch_size):\n",
    "        gt_bboxes = gt_bboxes_all[i]\n",
    "        anc_boxes = anc_boxes_flat[i]\n",
    "        #------------------\n",
    "        if device:\n",
    "            anc_boxes = anc_boxes.to(device)\n",
    "            gt_bboxes = gt_bboxes.to(device)\n",
    "        ious_mat[i, :] = ops.box_iou(anc_boxes, gt_bboxes)\n",
    "        \n",
    "    return ious_mat\n"
   ]
  }
 ],
 "metadata": {
  "language_info": {
   "name": "python"
  }
 },
 "nbformat": 4,
 "nbformat_minor": 2
}
