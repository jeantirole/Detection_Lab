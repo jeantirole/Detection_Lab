{
 "cells": [
  {
   "cell_type": "code",
   "execution_count": 1,
   "metadata": {},
   "outputs": [],
   "source": [
    "# torch.Size([22, 2048, 1, 1])"
   ]
  },
  {
   "cell_type": "code",
   "execution_count": null,
   "metadata": {},
   "outputs": [],
   "source": [
    "class ClassificationModule(nn.Module):\n",
    "    def __init__(self, out_channels, n_classes, roi_size, hidden_dim=512, p_dropout=0.3):\n",
    "        super().__init__()        \n",
    "        self.roi_size = roi_size\n",
    "        # hidden network\n",
    "        self.avg_pool = nn.AvgPool2d(self.roi_size)\n",
    "        self.fc = nn.Linear(out_channels, hidden_dim)\n",
    "        self.dropout = nn.Dropout(p_dropout)\n",
    "        \n",
    "        # define classification head\n",
    "        self.cls_head = nn.Linear(hidden_dim, n_classes)\n",
    "        \n",
    "    def forward(self, feature_map, proposals_list, gt_classes=None):\n",
    "        \n",
    "        if gt_classes is None:\n",
    "            mode = 'eval'\n",
    "        else:\n",
    "            mode = 'train'\n",
    "        \n",
    "        # apply roi pooling on proposals followed by avg pooling\n",
    "        roi_out = ops.roi_pool(feature_map, proposals_list, self.roi_size)\n",
    "        #---- \n",
    "        \n",
    "        roi_out = self.avg_pool(roi_out)\n",
    "        \n",
    "        # flatten the output\n",
    "        roi_out = roi_out.squeeze(-1).squeeze(-1)\n",
    "        \n",
    "        # pass the output through the hidden network\n",
    "        out = self.fc(roi_out)\n",
    "        out = F.relu(self.dropout(out))\n",
    "        \n",
    "        # get the classification scores\n",
    "        cls_scores = self.cls_head(out)\n",
    "        \n",
    "        if mode == 'eval':\n",
    "            return cls_scores\n",
    "        \n",
    "        # compute cross entropy loss\n",
    "        cls_loss = F.cross_entropy(cls_scores, gt_classes.long())\n",
    "        \n",
    "        return cls_loss"
   ]
  },
  {
   "cell_type": "code",
   "execution_count": null,
   "metadata": {},
   "outputs": [],
   "source": [
    "# "
   ]
  }
 ],
 "metadata": {
  "kernelspec": {
   "display_name": "8.tmp",
   "language": "python",
   "name": "python3"
  },
  "language_info": {
   "codemirror_mode": {
    "name": "ipython",
    "version": 3
   },
   "file_extension": ".py",
   "mimetype": "text/x-python",
   "name": "python",
   "nbconvert_exporter": "python",
   "pygments_lexer": "ipython3",
   "version": "3.8.17"
  }
 },
 "nbformat": 4,
 "nbformat_minor": 2
}
